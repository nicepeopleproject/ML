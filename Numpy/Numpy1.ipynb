{
 "cells": [
  {
   "cell_type": "code",
   "execution_count": 1,
   "id": "bda9c252",
   "metadata": {},
   "outputs": [],
   "source": [
    "import numpy as np"
   ]
  },
  {
   "cell_type": "code",
   "execution_count": 5,
   "id": "8bf2b10a",
   "metadata": {},
   "outputs": [],
   "source": [
    "u = np.arange(1, 4)\n",
    "v = np.arange(6, 9)"
   ]
  },
  {
   "cell_type": "markdown",
   "id": "a0f60781",
   "metadata": {},
   "source": [
    "### Inner product"
   ]
  },
  {
   "cell_type": "markdown",
   "id": "bf6d1f6a",
   "metadata": {},
   "source": [
    "$(u, v) = \\sum\\limits_i u_i \\cdot v_i = u^Tv$"
   ]
  },
  {
   "cell_type": "code",
   "execution_count": 10,
   "id": "d866f04b",
   "metadata": {
    "scrolled": true
   },
   "outputs": [
    {
     "data": {
      "text/plain": [
       "44"
      ]
     },
     "execution_count": 10,
     "metadata": {},
     "output_type": "execute_result"
    }
   ],
   "source": [
    "u.dot(v)"
   ]
  },
  {
   "cell_type": "code",
   "execution_count": 11,
   "id": "ed12d063",
   "metadata": {},
   "outputs": [
    {
     "data": {
      "text/plain": [
       "44"
      ]
     },
     "execution_count": 11,
     "metadata": {},
     "output_type": "execute_result"
    }
   ],
   "source": [
    "(u * v).sum()"
   ]
  },
  {
   "cell_type": "code",
   "execution_count": 19,
   "id": "3002b2f5",
   "metadata": {},
   "outputs": [],
   "source": [
    "def vector_vector_mult(u, v):\n",
    "    assert u.shape[0] == v.shape[0]\n",
    "    n = u.shape[0]\n",
    "    res = 0.0\n",
    "    for i in range(n):\n",
    "        res += u[i] * v[i]\n",
    "    return res"
   ]
  },
  {
   "cell_type": "code",
   "execution_count": 20,
   "id": "ff293ccf",
   "metadata": {},
   "outputs": [
    {
     "data": {
      "text/plain": [
       "44.0"
      ]
     },
     "execution_count": 20,
     "metadata": {},
     "output_type": "execute_result"
    }
   ],
   "source": [
    "vector_vector_mult(u, v)"
   ]
  },
  {
   "cell_type": "code",
   "execution_count": 21,
   "id": "985baf35",
   "metadata": {},
   "outputs": [
    {
     "data": {
      "text/plain": [
       "44"
      ]
     },
     "execution_count": 21,
     "metadata": {},
     "output_type": "execute_result"
    }
   ],
   "source": [
    "v.dot(u)"
   ]
  },
  {
   "cell_type": "markdown",
   "id": "11172af0",
   "metadata": {},
   "source": [
    "### Matrix-vector multiplication"
   ]
  },
  {
   "cell_type": "code",
   "execution_count": 50,
   "id": "af08ceb9",
   "metadata": {},
   "outputs": [],
   "source": [
    "U = np.array([\n",
    "    [1, 2, 3, 4],\n",
    "    [2, 3, 4, 5],\n",
    "    [1, 0, 0, 1]\n",
    "])\n",
    "\n",
    "v = np.array([1, 0, 0, 1])"
   ]
  },
  {
   "cell_type": "code",
   "execution_count": 53,
   "id": "5e9b0c2b",
   "metadata": {},
   "outputs": [],
   "source": [
    "def matrix_vector_mult(U, v):\n",
    "    assert U.shape[1] == v.shape[0]\n",
    "    \n",
    "    res = np.zeros(U.shape[0])\n",
    "    \n",
    "    for i in range(U.shape[0]):\n",
    "        res[i] = vector_vector_mult(U[i], v)\n",
    "        \n",
    "    return res"
   ]
  },
  {
   "cell_type": "code",
   "execution_count": 54,
   "id": "cd1703f3",
   "metadata": {},
   "outputs": [
    {
     "data": {
      "text/plain": [
       "array([5., 7., 2.])"
      ]
     },
     "execution_count": 54,
     "metadata": {},
     "output_type": "execute_result"
    }
   ],
   "source": [
    "matrix_vector_mult(U, v)"
   ]
  },
  {
   "cell_type": "code",
   "execution_count": 56,
   "id": "dee99869",
   "metadata": {},
   "outputs": [
    {
     "data": {
      "text/plain": [
       "array([0., 0., 0.])"
      ]
     },
     "execution_count": 56,
     "metadata": {},
     "output_type": "execute_result"
    }
   ],
   "source": [
    "U.dot(v) - matrix_vector_mult(U, v)"
   ]
  },
  {
   "cell_type": "markdown",
   "id": "8a3a5434",
   "metadata": {},
   "source": [
    "### Matrix-matrix multiplication"
   ]
  },
  {
   "cell_type": "code",
   "execution_count": 57,
   "id": "7a36e90c",
   "metadata": {},
   "outputs": [],
   "source": [
    "A = np.array([\n",
    "    [1, 2, 3, 4],\n",
    "    [3, 0, 1, 1],\n",
    "    [1, 1, 1, 1]\n",
    "])\n",
    "B = np.array([\n",
    "    [1, 2, 3],\n",
    "    [2, 3, 4],\n",
    "    [3, 4, 5],\n",
    "    [5, 6, 7]\n",
    "])"
   ]
  },
  {
   "cell_type": "code",
   "execution_count": 68,
   "id": "c2f03c4e",
   "metadata": {},
   "outputs": [],
   "source": [
    "def matrix_matrix_mult(A, B):\n",
    "    assert A.shape[1] == B.shape[0]\n",
    "    \n",
    "    n = A.shape[0]\n",
    "    \n",
    "    res = np.zeros((A.shape[0], B.shape[1]))\n",
    "    \n",
    "    for i in range(n):\n",
    "        res[:, i] = matrix_vector_mult(A, B[:, i])\n",
    "    \n",
    "    return res"
   ]
  },
  {
   "cell_type": "code",
   "execution_count": 69,
   "id": "c796e447",
   "metadata": {},
   "outputs": [
    {
     "data": {
      "text/plain": [
       "array([[0., 0., 0.],\n",
       "       [0., 0., 0.],\n",
       "       [0., 0., 0.]])"
      ]
     },
     "execution_count": 69,
     "metadata": {},
     "output_type": "execute_result"
    }
   ],
   "source": [
    "A.dot(B) - matrix_matrix_mult(A, B)"
   ]
  },
  {
   "cell_type": "code",
   "execution_count": 70,
   "id": "8786f09c",
   "metadata": {},
   "outputs": [
    {
     "data": {
      "text/plain": [
       "array([[34., 44., 54.],\n",
       "       [11., 16., 21.],\n",
       "       [11., 15., 19.]])"
      ]
     },
     "execution_count": 70,
     "metadata": {},
     "output_type": "execute_result"
    }
   ],
   "source": [
    "matrix_matrix_mult(A, B)"
   ]
  },
  {
   "cell_type": "code",
   "execution_count": 71,
   "id": "53ba6a33",
   "metadata": {},
   "outputs": [
    {
     "ename": "ValueError",
     "evalue": "operands could not be broadcast together with shapes (3,3) (4,4) ",
     "output_type": "error",
     "traceback": [
      "\u001b[0;31m---------------------------------------------------------------------------\u001b[0m",
      "\u001b[0;31mValueError\u001b[0m                                Traceback (most recent call last)",
      "\u001b[0;32m<ipython-input-71-0a113c12575c>\u001b[0m in \u001b[0;36m<module>\u001b[0;34m\u001b[0m\n\u001b[0;32m----> 1\u001b[0;31m \u001b[0mA\u001b[0m\u001b[0;34m.\u001b[0m\u001b[0mdot\u001b[0m\u001b[0;34m(\u001b[0m\u001b[0mB\u001b[0m\u001b[0;34m)\u001b[0m \u001b[0;34m-\u001b[0m \u001b[0mB\u001b[0m\u001b[0;34m.\u001b[0m\u001b[0mdot\u001b[0m\u001b[0;34m(\u001b[0m\u001b[0mA\u001b[0m\u001b[0;34m)\u001b[0m\u001b[0;34m\u001b[0m\u001b[0;34m\u001b[0m\u001b[0m\n\u001b[0m",
      "\u001b[0;31mValueError\u001b[0m: operands could not be broadcast together with shapes (3,3) (4,4) "
     ]
    }
   ],
   "source": [
    "A.dot(B) - B.dot(A)"
   ]
  },
  {
   "cell_type": "markdown",
   "id": "58096f20",
   "metadata": {},
   "source": [
    "### Identity matrix"
   ]
  },
  {
   "cell_type": "code",
   "execution_count": 37,
   "id": "a6285e26",
   "metadata": {},
   "outputs": [
    {
     "data": {
      "text/plain": [
       "array([[1., 0., 0., 0., 0., 0., 0., 0., 0., 0.],\n",
       "       [0., 1., 0., 0., 0., 0., 0., 0., 0., 0.],\n",
       "       [0., 0., 1., 0., 0., 0., 0., 0., 0., 0.],\n",
       "       [0., 0., 0., 1., 0., 0., 0., 0., 0., 0.],\n",
       "       [0., 0., 0., 0., 1., 0., 0., 0., 0., 0.],\n",
       "       [0., 0., 0., 0., 0., 1., 0., 0., 0., 0.],\n",
       "       [0., 0., 0., 0., 0., 0., 1., 0., 0., 0.],\n",
       "       [0., 0., 0., 0., 0., 0., 0., 1., 0., 0.],\n",
       "       [0., 0., 0., 0., 0., 0., 0., 0., 1., 0.],\n",
       "       [0., 0., 0., 0., 0., 0., 0., 0., 0., 1.]])"
      ]
     },
     "execution_count": 37,
     "metadata": {},
     "output_type": "execute_result"
    }
   ],
   "source": [
    "np.eye(10)"
   ]
  },
  {
   "cell_type": "markdown",
   "id": "e634f233",
   "metadata": {},
   "source": [
    "### Inverse matrix"
   ]
  },
  {
   "cell_type": "code",
   "execution_count": 44,
   "id": "84c77c6d",
   "metadata": {},
   "outputs": [
    {
     "data": {
      "text/plain": [
       "array([[ 1.00000000e+00,  0.00000000e+00,  0.00000000e+00],\n",
       "       [ 4.44089210e-16,  1.00000000e+00,  1.77635684e-15],\n",
       "       [-1.11022302e-16,  0.00000000e+00,  1.00000000e+00]])"
      ]
     },
     "execution_count": 44,
     "metadata": {},
     "output_type": "execute_result"
    }
   ],
   "source": [
    "np.linalg.inv(U[:, 0:3]).dot(U[:,0:3])"
   ]
  },
  {
   "cell_type": "code",
   "execution_count": 45,
   "id": "754602cd",
   "metadata": {},
   "outputs": [
    {
     "data": {
      "text/plain": [
       "array([4, 5, 1])"
      ]
     },
     "execution_count": 45,
     "metadata": {},
     "output_type": "execute_result"
    }
   ],
   "source": [
    "U[:, 3]"
   ]
  },
  {
   "cell_type": "code",
   "execution_count": null,
   "id": "1eea00c1",
   "metadata": {},
   "outputs": [],
   "source": []
  }
 ],
 "metadata": {
  "kernelspec": {
   "display_name": "Python 3",
   "language": "python",
   "name": "python3"
  },
  "language_info": {
   "codemirror_mode": {
    "name": "ipython",
    "version": 3
   },
   "file_extension": ".py",
   "mimetype": "text/x-python",
   "name": "python",
   "nbconvert_exporter": "python",
   "pygments_lexer": "ipython3",
   "version": "3.8.8"
  }
 },
 "nbformat": 4,
 "nbformat_minor": 5
}

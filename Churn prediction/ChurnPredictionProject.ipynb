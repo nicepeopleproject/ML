{
 "cells": [
  {
   "cell_type": "code",
   "execution_count": 1,
   "id": "8dbb390f",
   "metadata": {},
   "outputs": [],
   "source": [
    "import pandas as pd\n",
    "import numpy as np\n",
    "import seaborn as sbn\n",
    "import matplotlib.pyplot as plt"
   ]
  },
  {
   "cell_type": "code",
   "execution_count": 2,
   "id": "34630a9a",
   "metadata": {},
   "outputs": [],
   "source": [
    "data_url = 'https://raw.githubusercontent.com/alexeygrigorev/mlbookcamp-code/master/chapter-03-churn-prediction/WA_Fn-UseC_-Telco-Customer-Churn.csv'"
   ]
  },
  {
   "cell_type": "code",
   "execution_count": 3,
   "id": "1316e68d",
   "metadata": {},
   "outputs": [],
   "source": [
    "#!wget $data_url -O data_week_3.csv"
   ]
  },
  {
   "cell_type": "code",
   "execution_count": 207,
   "id": "554bf989",
   "metadata": {},
   "outputs": [],
   "source": [
    "df = pd.read_csv('data_week_3.csv')"
   ]
  },
  {
   "cell_type": "code",
   "execution_count": 208,
   "id": "4d113b2d",
   "metadata": {},
   "outputs": [
    {
     "data": {
      "text/html": [
       "<div>\n",
       "<style scoped>\n",
       "    .dataframe tbody tr th:only-of-type {\n",
       "        vertical-align: middle;\n",
       "    }\n",
       "\n",
       "    .dataframe tbody tr th {\n",
       "        vertical-align: top;\n",
       "    }\n",
       "\n",
       "    .dataframe thead th {\n",
       "        text-align: right;\n",
       "    }\n",
       "</style>\n",
       "<table border=\"1\" class=\"dataframe\">\n",
       "  <thead>\n",
       "    <tr style=\"text-align: right;\">\n",
       "      <th></th>\n",
       "      <th>customerID</th>\n",
       "      <th>gender</th>\n",
       "      <th>SeniorCitizen</th>\n",
       "      <th>Partner</th>\n",
       "      <th>Dependents</th>\n",
       "      <th>tenure</th>\n",
       "      <th>PhoneService</th>\n",
       "      <th>MultipleLines</th>\n",
       "      <th>InternetService</th>\n",
       "      <th>OnlineSecurity</th>\n",
       "      <th>...</th>\n",
       "      <th>DeviceProtection</th>\n",
       "      <th>TechSupport</th>\n",
       "      <th>StreamingTV</th>\n",
       "      <th>StreamingMovies</th>\n",
       "      <th>Contract</th>\n",
       "      <th>PaperlessBilling</th>\n",
       "      <th>PaymentMethod</th>\n",
       "      <th>MonthlyCharges</th>\n",
       "      <th>TotalCharges</th>\n",
       "      <th>Churn</th>\n",
       "    </tr>\n",
       "  </thead>\n",
       "  <tbody>\n",
       "    <tr>\n",
       "      <th>0</th>\n",
       "      <td>7590-VHVEG</td>\n",
       "      <td>Female</td>\n",
       "      <td>0</td>\n",
       "      <td>Yes</td>\n",
       "      <td>No</td>\n",
       "      <td>1</td>\n",
       "      <td>No</td>\n",
       "      <td>No phone service</td>\n",
       "      <td>DSL</td>\n",
       "      <td>No</td>\n",
       "      <td>...</td>\n",
       "      <td>No</td>\n",
       "      <td>No</td>\n",
       "      <td>No</td>\n",
       "      <td>No</td>\n",
       "      <td>Month-to-month</td>\n",
       "      <td>Yes</td>\n",
       "      <td>Electronic check</td>\n",
       "      <td>29.85</td>\n",
       "      <td>29.85</td>\n",
       "      <td>No</td>\n",
       "    </tr>\n",
       "    <tr>\n",
       "      <th>1</th>\n",
       "      <td>5575-GNVDE</td>\n",
       "      <td>Male</td>\n",
       "      <td>0</td>\n",
       "      <td>No</td>\n",
       "      <td>No</td>\n",
       "      <td>34</td>\n",
       "      <td>Yes</td>\n",
       "      <td>No</td>\n",
       "      <td>DSL</td>\n",
       "      <td>Yes</td>\n",
       "      <td>...</td>\n",
       "      <td>Yes</td>\n",
       "      <td>No</td>\n",
       "      <td>No</td>\n",
       "      <td>No</td>\n",
       "      <td>One year</td>\n",
       "      <td>No</td>\n",
       "      <td>Mailed check</td>\n",
       "      <td>56.95</td>\n",
       "      <td>1889.5</td>\n",
       "      <td>No</td>\n",
       "    </tr>\n",
       "  </tbody>\n",
       "</table>\n",
       "<p>2 rows × 21 columns</p>\n",
       "</div>"
      ],
      "text/plain": [
       "   customerID  gender  SeniorCitizen Partner Dependents  tenure PhoneService  \\\n",
       "0  7590-VHVEG  Female              0     Yes         No       1           No   \n",
       "1  5575-GNVDE    Male              0      No         No      34          Yes   \n",
       "\n",
       "      MultipleLines InternetService OnlineSecurity  ... DeviceProtection  \\\n",
       "0  No phone service             DSL             No  ...               No   \n",
       "1                No             DSL            Yes  ...              Yes   \n",
       "\n",
       "  TechSupport StreamingTV StreamingMovies        Contract PaperlessBilling  \\\n",
       "0          No          No              No  Month-to-month              Yes   \n",
       "1          No          No              No        One year               No   \n",
       "\n",
       "      PaymentMethod MonthlyCharges  TotalCharges Churn  \n",
       "0  Electronic check          29.85         29.85    No  \n",
       "1      Mailed check          56.95        1889.5    No  \n",
       "\n",
       "[2 rows x 21 columns]"
      ]
     },
     "execution_count": 208,
     "metadata": {},
     "output_type": "execute_result"
    }
   ],
   "source": [
    "df.head(2)"
   ]
  },
  {
   "cell_type": "code",
   "execution_count": 209,
   "id": "be445481",
   "metadata": {},
   "outputs": [
    {
     "data": {
      "text/html": [
       "<div>\n",
       "<style scoped>\n",
       "    .dataframe tbody tr th:only-of-type {\n",
       "        vertical-align: middle;\n",
       "    }\n",
       "\n",
       "    .dataframe tbody tr th {\n",
       "        vertical-align: top;\n",
       "    }\n",
       "\n",
       "    .dataframe thead th {\n",
       "        text-align: right;\n",
       "    }\n",
       "</style>\n",
       "<table border=\"1\" class=\"dataframe\">\n",
       "  <thead>\n",
       "    <tr style=\"text-align: right;\">\n",
       "      <th></th>\n",
       "      <th>0</th>\n",
       "      <th>1</th>\n",
       "      <th>2</th>\n",
       "      <th>3</th>\n",
       "      <th>4</th>\n",
       "    </tr>\n",
       "  </thead>\n",
       "  <tbody>\n",
       "    <tr>\n",
       "      <th>customerID</th>\n",
       "      <td>7590-VHVEG</td>\n",
       "      <td>5575-GNVDE</td>\n",
       "      <td>3668-QPYBK</td>\n",
       "      <td>7795-CFOCW</td>\n",
       "      <td>9237-HQITU</td>\n",
       "    </tr>\n",
       "    <tr>\n",
       "      <th>gender</th>\n",
       "      <td>Female</td>\n",
       "      <td>Male</td>\n",
       "      <td>Male</td>\n",
       "      <td>Male</td>\n",
       "      <td>Female</td>\n",
       "    </tr>\n",
       "    <tr>\n",
       "      <th>SeniorCitizen</th>\n",
       "      <td>0</td>\n",
       "      <td>0</td>\n",
       "      <td>0</td>\n",
       "      <td>0</td>\n",
       "      <td>0</td>\n",
       "    </tr>\n",
       "    <tr>\n",
       "      <th>Partner</th>\n",
       "      <td>Yes</td>\n",
       "      <td>No</td>\n",
       "      <td>No</td>\n",
       "      <td>No</td>\n",
       "      <td>No</td>\n",
       "    </tr>\n",
       "    <tr>\n",
       "      <th>Dependents</th>\n",
       "      <td>No</td>\n",
       "      <td>No</td>\n",
       "      <td>No</td>\n",
       "      <td>No</td>\n",
       "      <td>No</td>\n",
       "    </tr>\n",
       "    <tr>\n",
       "      <th>tenure</th>\n",
       "      <td>1</td>\n",
       "      <td>34</td>\n",
       "      <td>2</td>\n",
       "      <td>45</td>\n",
       "      <td>2</td>\n",
       "    </tr>\n",
       "    <tr>\n",
       "      <th>PhoneService</th>\n",
       "      <td>No</td>\n",
       "      <td>Yes</td>\n",
       "      <td>Yes</td>\n",
       "      <td>No</td>\n",
       "      <td>Yes</td>\n",
       "    </tr>\n",
       "    <tr>\n",
       "      <th>MultipleLines</th>\n",
       "      <td>No phone service</td>\n",
       "      <td>No</td>\n",
       "      <td>No</td>\n",
       "      <td>No phone service</td>\n",
       "      <td>No</td>\n",
       "    </tr>\n",
       "    <tr>\n",
       "      <th>InternetService</th>\n",
       "      <td>DSL</td>\n",
       "      <td>DSL</td>\n",
       "      <td>DSL</td>\n",
       "      <td>DSL</td>\n",
       "      <td>Fiber optic</td>\n",
       "    </tr>\n",
       "    <tr>\n",
       "      <th>OnlineSecurity</th>\n",
       "      <td>No</td>\n",
       "      <td>Yes</td>\n",
       "      <td>Yes</td>\n",
       "      <td>Yes</td>\n",
       "      <td>No</td>\n",
       "    </tr>\n",
       "    <tr>\n",
       "      <th>OnlineBackup</th>\n",
       "      <td>Yes</td>\n",
       "      <td>No</td>\n",
       "      <td>Yes</td>\n",
       "      <td>No</td>\n",
       "      <td>No</td>\n",
       "    </tr>\n",
       "    <tr>\n",
       "      <th>DeviceProtection</th>\n",
       "      <td>No</td>\n",
       "      <td>Yes</td>\n",
       "      <td>No</td>\n",
       "      <td>Yes</td>\n",
       "      <td>No</td>\n",
       "    </tr>\n",
       "    <tr>\n",
       "      <th>TechSupport</th>\n",
       "      <td>No</td>\n",
       "      <td>No</td>\n",
       "      <td>No</td>\n",
       "      <td>Yes</td>\n",
       "      <td>No</td>\n",
       "    </tr>\n",
       "    <tr>\n",
       "      <th>StreamingTV</th>\n",
       "      <td>No</td>\n",
       "      <td>No</td>\n",
       "      <td>No</td>\n",
       "      <td>No</td>\n",
       "      <td>No</td>\n",
       "    </tr>\n",
       "    <tr>\n",
       "      <th>StreamingMovies</th>\n",
       "      <td>No</td>\n",
       "      <td>No</td>\n",
       "      <td>No</td>\n",
       "      <td>No</td>\n",
       "      <td>No</td>\n",
       "    </tr>\n",
       "    <tr>\n",
       "      <th>Contract</th>\n",
       "      <td>Month-to-month</td>\n",
       "      <td>One year</td>\n",
       "      <td>Month-to-month</td>\n",
       "      <td>One year</td>\n",
       "      <td>Month-to-month</td>\n",
       "    </tr>\n",
       "    <tr>\n",
       "      <th>PaperlessBilling</th>\n",
       "      <td>Yes</td>\n",
       "      <td>No</td>\n",
       "      <td>Yes</td>\n",
       "      <td>No</td>\n",
       "      <td>Yes</td>\n",
       "    </tr>\n",
       "    <tr>\n",
       "      <th>PaymentMethod</th>\n",
       "      <td>Electronic check</td>\n",
       "      <td>Mailed check</td>\n",
       "      <td>Mailed check</td>\n",
       "      <td>Bank transfer (automatic)</td>\n",
       "      <td>Electronic check</td>\n",
       "    </tr>\n",
       "    <tr>\n",
       "      <th>MonthlyCharges</th>\n",
       "      <td>29.85</td>\n",
       "      <td>56.95</td>\n",
       "      <td>53.85</td>\n",
       "      <td>42.3</td>\n",
       "      <td>70.7</td>\n",
       "    </tr>\n",
       "    <tr>\n",
       "      <th>TotalCharges</th>\n",
       "      <td>29.85</td>\n",
       "      <td>1889.5</td>\n",
       "      <td>108.15</td>\n",
       "      <td>1840.75</td>\n",
       "      <td>151.65</td>\n",
       "    </tr>\n",
       "    <tr>\n",
       "      <th>Churn</th>\n",
       "      <td>No</td>\n",
       "      <td>No</td>\n",
       "      <td>Yes</td>\n",
       "      <td>No</td>\n",
       "      <td>Yes</td>\n",
       "    </tr>\n",
       "  </tbody>\n",
       "</table>\n",
       "</div>"
      ],
      "text/plain": [
       "                                 0             1               2  \\\n",
       "customerID              7590-VHVEG    5575-GNVDE      3668-QPYBK   \n",
       "gender                      Female          Male            Male   \n",
       "SeniorCitizen                    0             0               0   \n",
       "Partner                        Yes            No              No   \n",
       "Dependents                      No            No              No   \n",
       "tenure                           1            34               2   \n",
       "PhoneService                    No           Yes             Yes   \n",
       "MultipleLines     No phone service            No              No   \n",
       "InternetService                DSL           DSL             DSL   \n",
       "OnlineSecurity                  No           Yes             Yes   \n",
       "OnlineBackup                   Yes            No             Yes   \n",
       "DeviceProtection                No           Yes              No   \n",
       "TechSupport                     No            No              No   \n",
       "StreamingTV                     No            No              No   \n",
       "StreamingMovies                 No            No              No   \n",
       "Contract            Month-to-month      One year  Month-to-month   \n",
       "PaperlessBilling               Yes            No             Yes   \n",
       "PaymentMethod     Electronic check  Mailed check    Mailed check   \n",
       "MonthlyCharges               29.85         56.95           53.85   \n",
       "TotalCharges                 29.85        1889.5          108.15   \n",
       "Churn                           No            No             Yes   \n",
       "\n",
       "                                          3                 4  \n",
       "customerID                       7795-CFOCW        9237-HQITU  \n",
       "gender                                 Male            Female  \n",
       "SeniorCitizen                             0                 0  \n",
       "Partner                                  No                No  \n",
       "Dependents                               No                No  \n",
       "tenure                                   45                 2  \n",
       "PhoneService                             No               Yes  \n",
       "MultipleLines              No phone service                No  \n",
       "InternetService                         DSL       Fiber optic  \n",
       "OnlineSecurity                          Yes                No  \n",
       "OnlineBackup                             No                No  \n",
       "DeviceProtection                        Yes                No  \n",
       "TechSupport                             Yes                No  \n",
       "StreamingTV                              No                No  \n",
       "StreamingMovies                          No                No  \n",
       "Contract                           One year    Month-to-month  \n",
       "PaperlessBilling                         No               Yes  \n",
       "PaymentMethod     Bank transfer (automatic)  Electronic check  \n",
       "MonthlyCharges                         42.3              70.7  \n",
       "TotalCharges                        1840.75            151.65  \n",
       "Churn                                    No               Yes  "
      ]
     },
     "execution_count": 209,
     "metadata": {},
     "output_type": "execute_result"
    }
   ],
   "source": [
    "df.head().T # rows become columns"
   ]
  },
  {
   "cell_type": "code",
   "execution_count": 210,
   "id": "7b29e147",
   "metadata": {},
   "outputs": [],
   "source": [
    "# data not uniformed, not consistante"
   ]
  },
  {
   "cell_type": "code",
   "execution_count": 211,
   "id": "16f41de0",
   "metadata": {},
   "outputs": [],
   "source": [
    "df.columns = df.columns.str.lower().str.replace(' ', '_')"
   ]
  },
  {
   "cell_type": "code",
   "execution_count": 212,
   "id": "c08ae644",
   "metadata": {},
   "outputs": [
    {
     "data": {
      "text/html": [
       "<div>\n",
       "<style scoped>\n",
       "    .dataframe tbody tr th:only-of-type {\n",
       "        vertical-align: middle;\n",
       "    }\n",
       "\n",
       "    .dataframe tbody tr th {\n",
       "        vertical-align: top;\n",
       "    }\n",
       "\n",
       "    .dataframe thead th {\n",
       "        text-align: right;\n",
       "    }\n",
       "</style>\n",
       "<table border=\"1\" class=\"dataframe\">\n",
       "  <thead>\n",
       "    <tr style=\"text-align: right;\">\n",
       "      <th></th>\n",
       "      <th>0</th>\n",
       "      <th>1</th>\n",
       "      <th>2</th>\n",
       "      <th>3</th>\n",
       "      <th>4</th>\n",
       "    </tr>\n",
       "  </thead>\n",
       "  <tbody>\n",
       "    <tr>\n",
       "      <th>customerid</th>\n",
       "      <td>7590-VHVEG</td>\n",
       "      <td>5575-GNVDE</td>\n",
       "      <td>3668-QPYBK</td>\n",
       "      <td>7795-CFOCW</td>\n",
       "      <td>9237-HQITU</td>\n",
       "    </tr>\n",
       "    <tr>\n",
       "      <th>gender</th>\n",
       "      <td>Female</td>\n",
       "      <td>Male</td>\n",
       "      <td>Male</td>\n",
       "      <td>Male</td>\n",
       "      <td>Female</td>\n",
       "    </tr>\n",
       "    <tr>\n",
       "      <th>seniorcitizen</th>\n",
       "      <td>0</td>\n",
       "      <td>0</td>\n",
       "      <td>0</td>\n",
       "      <td>0</td>\n",
       "      <td>0</td>\n",
       "    </tr>\n",
       "    <tr>\n",
       "      <th>partner</th>\n",
       "      <td>Yes</td>\n",
       "      <td>No</td>\n",
       "      <td>No</td>\n",
       "      <td>No</td>\n",
       "      <td>No</td>\n",
       "    </tr>\n",
       "    <tr>\n",
       "      <th>dependents</th>\n",
       "      <td>No</td>\n",
       "      <td>No</td>\n",
       "      <td>No</td>\n",
       "      <td>No</td>\n",
       "      <td>No</td>\n",
       "    </tr>\n",
       "    <tr>\n",
       "      <th>tenure</th>\n",
       "      <td>1</td>\n",
       "      <td>34</td>\n",
       "      <td>2</td>\n",
       "      <td>45</td>\n",
       "      <td>2</td>\n",
       "    </tr>\n",
       "    <tr>\n",
       "      <th>phoneservice</th>\n",
       "      <td>No</td>\n",
       "      <td>Yes</td>\n",
       "      <td>Yes</td>\n",
       "      <td>No</td>\n",
       "      <td>Yes</td>\n",
       "    </tr>\n",
       "    <tr>\n",
       "      <th>multiplelines</th>\n",
       "      <td>No phone service</td>\n",
       "      <td>No</td>\n",
       "      <td>No</td>\n",
       "      <td>No phone service</td>\n",
       "      <td>No</td>\n",
       "    </tr>\n",
       "    <tr>\n",
       "      <th>internetservice</th>\n",
       "      <td>DSL</td>\n",
       "      <td>DSL</td>\n",
       "      <td>DSL</td>\n",
       "      <td>DSL</td>\n",
       "      <td>Fiber optic</td>\n",
       "    </tr>\n",
       "    <tr>\n",
       "      <th>onlinesecurity</th>\n",
       "      <td>No</td>\n",
       "      <td>Yes</td>\n",
       "      <td>Yes</td>\n",
       "      <td>Yes</td>\n",
       "      <td>No</td>\n",
       "    </tr>\n",
       "    <tr>\n",
       "      <th>onlinebackup</th>\n",
       "      <td>Yes</td>\n",
       "      <td>No</td>\n",
       "      <td>Yes</td>\n",
       "      <td>No</td>\n",
       "      <td>No</td>\n",
       "    </tr>\n",
       "    <tr>\n",
       "      <th>deviceprotection</th>\n",
       "      <td>No</td>\n",
       "      <td>Yes</td>\n",
       "      <td>No</td>\n",
       "      <td>Yes</td>\n",
       "      <td>No</td>\n",
       "    </tr>\n",
       "    <tr>\n",
       "      <th>techsupport</th>\n",
       "      <td>No</td>\n",
       "      <td>No</td>\n",
       "      <td>No</td>\n",
       "      <td>Yes</td>\n",
       "      <td>No</td>\n",
       "    </tr>\n",
       "    <tr>\n",
       "      <th>streamingtv</th>\n",
       "      <td>No</td>\n",
       "      <td>No</td>\n",
       "      <td>No</td>\n",
       "      <td>No</td>\n",
       "      <td>No</td>\n",
       "    </tr>\n",
       "    <tr>\n",
       "      <th>streamingmovies</th>\n",
       "      <td>No</td>\n",
       "      <td>No</td>\n",
       "      <td>No</td>\n",
       "      <td>No</td>\n",
       "      <td>No</td>\n",
       "    </tr>\n",
       "    <tr>\n",
       "      <th>contract</th>\n",
       "      <td>Month-to-month</td>\n",
       "      <td>One year</td>\n",
       "      <td>Month-to-month</td>\n",
       "      <td>One year</td>\n",
       "      <td>Month-to-month</td>\n",
       "    </tr>\n",
       "    <tr>\n",
       "      <th>paperlessbilling</th>\n",
       "      <td>Yes</td>\n",
       "      <td>No</td>\n",
       "      <td>Yes</td>\n",
       "      <td>No</td>\n",
       "      <td>Yes</td>\n",
       "    </tr>\n",
       "    <tr>\n",
       "      <th>paymentmethod</th>\n",
       "      <td>Electronic check</td>\n",
       "      <td>Mailed check</td>\n",
       "      <td>Mailed check</td>\n",
       "      <td>Bank transfer (automatic)</td>\n",
       "      <td>Electronic check</td>\n",
       "    </tr>\n",
       "    <tr>\n",
       "      <th>monthlycharges</th>\n",
       "      <td>29.85</td>\n",
       "      <td>56.95</td>\n",
       "      <td>53.85</td>\n",
       "      <td>42.3</td>\n",
       "      <td>70.7</td>\n",
       "    </tr>\n",
       "    <tr>\n",
       "      <th>totalcharges</th>\n",
       "      <td>29.85</td>\n",
       "      <td>1889.5</td>\n",
       "      <td>108.15</td>\n",
       "      <td>1840.75</td>\n",
       "      <td>151.65</td>\n",
       "    </tr>\n",
       "    <tr>\n",
       "      <th>churn</th>\n",
       "      <td>No</td>\n",
       "      <td>No</td>\n",
       "      <td>Yes</td>\n",
       "      <td>No</td>\n",
       "      <td>Yes</td>\n",
       "    </tr>\n",
       "  </tbody>\n",
       "</table>\n",
       "</div>"
      ],
      "text/plain": [
       "                                 0             1               2  \\\n",
       "customerid              7590-VHVEG    5575-GNVDE      3668-QPYBK   \n",
       "gender                      Female          Male            Male   \n",
       "seniorcitizen                    0             0               0   \n",
       "partner                        Yes            No              No   \n",
       "dependents                      No            No              No   \n",
       "tenure                           1            34               2   \n",
       "phoneservice                    No           Yes             Yes   \n",
       "multiplelines     No phone service            No              No   \n",
       "internetservice                DSL           DSL             DSL   \n",
       "onlinesecurity                  No           Yes             Yes   \n",
       "onlinebackup                   Yes            No             Yes   \n",
       "deviceprotection                No           Yes              No   \n",
       "techsupport                     No            No              No   \n",
       "streamingtv                     No            No              No   \n",
       "streamingmovies                 No            No              No   \n",
       "contract            Month-to-month      One year  Month-to-month   \n",
       "paperlessbilling               Yes            No             Yes   \n",
       "paymentmethod     Electronic check  Mailed check    Mailed check   \n",
       "monthlycharges               29.85         56.95           53.85   \n",
       "totalcharges                 29.85        1889.5          108.15   \n",
       "churn                           No            No             Yes   \n",
       "\n",
       "                                          3                 4  \n",
       "customerid                       7795-CFOCW        9237-HQITU  \n",
       "gender                                 Male            Female  \n",
       "seniorcitizen                             0                 0  \n",
       "partner                                  No                No  \n",
       "dependents                               No                No  \n",
       "tenure                                   45                 2  \n",
       "phoneservice                             No               Yes  \n",
       "multiplelines              No phone service                No  \n",
       "internetservice                         DSL       Fiber optic  \n",
       "onlinesecurity                          Yes                No  \n",
       "onlinebackup                             No                No  \n",
       "deviceprotection                        Yes                No  \n",
       "techsupport                             Yes                No  \n",
       "streamingtv                              No                No  \n",
       "streamingmovies                          No                No  \n",
       "contract                           One year    Month-to-month  \n",
       "paperlessbilling                         No               Yes  \n",
       "paymentmethod     Bank transfer (automatic)  Electronic check  \n",
       "monthlycharges                         42.3              70.7  \n",
       "totalcharges                        1840.75            151.65  \n",
       "churn                                    No               Yes  "
      ]
     },
     "execution_count": 212,
     "metadata": {},
     "output_type": "execute_result"
    }
   ],
   "source": [
    "df.head().T"
   ]
  },
  {
   "cell_type": "code",
   "execution_count": 213,
   "id": "a96e9076",
   "metadata": {},
   "outputs": [],
   "source": [
    "categorical_columns = list(df.dtypes[df.dtypes == 'object'].index)\n",
    "\n",
    "for c in categorical_columns:\n",
    "    df[c] = df[c].str.lower().str.replace(' ', '_')"
   ]
  },
  {
   "cell_type": "code",
   "execution_count": 214,
   "id": "90304456",
   "metadata": {},
   "outputs": [
    {
     "data": {
      "text/html": [
       "<div>\n",
       "<style scoped>\n",
       "    .dataframe tbody tr th:only-of-type {\n",
       "        vertical-align: middle;\n",
       "    }\n",
       "\n",
       "    .dataframe tbody tr th {\n",
       "        vertical-align: top;\n",
       "    }\n",
       "\n",
       "    .dataframe thead th {\n",
       "        text-align: right;\n",
       "    }\n",
       "</style>\n",
       "<table border=\"1\" class=\"dataframe\">\n",
       "  <thead>\n",
       "    <tr style=\"text-align: right;\">\n",
       "      <th></th>\n",
       "      <th>0</th>\n",
       "      <th>1</th>\n",
       "      <th>2</th>\n",
       "      <th>3</th>\n",
       "      <th>4</th>\n",
       "    </tr>\n",
       "  </thead>\n",
       "  <tbody>\n",
       "    <tr>\n",
       "      <th>customerid</th>\n",
       "      <td>7590-vhveg</td>\n",
       "      <td>5575-gnvde</td>\n",
       "      <td>3668-qpybk</td>\n",
       "      <td>7795-cfocw</td>\n",
       "      <td>9237-hqitu</td>\n",
       "    </tr>\n",
       "    <tr>\n",
       "      <th>gender</th>\n",
       "      <td>female</td>\n",
       "      <td>male</td>\n",
       "      <td>male</td>\n",
       "      <td>male</td>\n",
       "      <td>female</td>\n",
       "    </tr>\n",
       "    <tr>\n",
       "      <th>seniorcitizen</th>\n",
       "      <td>0</td>\n",
       "      <td>0</td>\n",
       "      <td>0</td>\n",
       "      <td>0</td>\n",
       "      <td>0</td>\n",
       "    </tr>\n",
       "    <tr>\n",
       "      <th>partner</th>\n",
       "      <td>yes</td>\n",
       "      <td>no</td>\n",
       "      <td>no</td>\n",
       "      <td>no</td>\n",
       "      <td>no</td>\n",
       "    </tr>\n",
       "    <tr>\n",
       "      <th>dependents</th>\n",
       "      <td>no</td>\n",
       "      <td>no</td>\n",
       "      <td>no</td>\n",
       "      <td>no</td>\n",
       "      <td>no</td>\n",
       "    </tr>\n",
       "    <tr>\n",
       "      <th>tenure</th>\n",
       "      <td>1</td>\n",
       "      <td>34</td>\n",
       "      <td>2</td>\n",
       "      <td>45</td>\n",
       "      <td>2</td>\n",
       "    </tr>\n",
       "    <tr>\n",
       "      <th>phoneservice</th>\n",
       "      <td>no</td>\n",
       "      <td>yes</td>\n",
       "      <td>yes</td>\n",
       "      <td>no</td>\n",
       "      <td>yes</td>\n",
       "    </tr>\n",
       "    <tr>\n",
       "      <th>multiplelines</th>\n",
       "      <td>no_phone_service</td>\n",
       "      <td>no</td>\n",
       "      <td>no</td>\n",
       "      <td>no_phone_service</td>\n",
       "      <td>no</td>\n",
       "    </tr>\n",
       "    <tr>\n",
       "      <th>internetservice</th>\n",
       "      <td>dsl</td>\n",
       "      <td>dsl</td>\n",
       "      <td>dsl</td>\n",
       "      <td>dsl</td>\n",
       "      <td>fiber_optic</td>\n",
       "    </tr>\n",
       "    <tr>\n",
       "      <th>onlinesecurity</th>\n",
       "      <td>no</td>\n",
       "      <td>yes</td>\n",
       "      <td>yes</td>\n",
       "      <td>yes</td>\n",
       "      <td>no</td>\n",
       "    </tr>\n",
       "    <tr>\n",
       "      <th>onlinebackup</th>\n",
       "      <td>yes</td>\n",
       "      <td>no</td>\n",
       "      <td>yes</td>\n",
       "      <td>no</td>\n",
       "      <td>no</td>\n",
       "    </tr>\n",
       "    <tr>\n",
       "      <th>deviceprotection</th>\n",
       "      <td>no</td>\n",
       "      <td>yes</td>\n",
       "      <td>no</td>\n",
       "      <td>yes</td>\n",
       "      <td>no</td>\n",
       "    </tr>\n",
       "    <tr>\n",
       "      <th>techsupport</th>\n",
       "      <td>no</td>\n",
       "      <td>no</td>\n",
       "      <td>no</td>\n",
       "      <td>yes</td>\n",
       "      <td>no</td>\n",
       "    </tr>\n",
       "    <tr>\n",
       "      <th>streamingtv</th>\n",
       "      <td>no</td>\n",
       "      <td>no</td>\n",
       "      <td>no</td>\n",
       "      <td>no</td>\n",
       "      <td>no</td>\n",
       "    </tr>\n",
       "    <tr>\n",
       "      <th>streamingmovies</th>\n",
       "      <td>no</td>\n",
       "      <td>no</td>\n",
       "      <td>no</td>\n",
       "      <td>no</td>\n",
       "      <td>no</td>\n",
       "    </tr>\n",
       "    <tr>\n",
       "      <th>contract</th>\n",
       "      <td>month-to-month</td>\n",
       "      <td>one_year</td>\n",
       "      <td>month-to-month</td>\n",
       "      <td>one_year</td>\n",
       "      <td>month-to-month</td>\n",
       "    </tr>\n",
       "    <tr>\n",
       "      <th>paperlessbilling</th>\n",
       "      <td>yes</td>\n",
       "      <td>no</td>\n",
       "      <td>yes</td>\n",
       "      <td>no</td>\n",
       "      <td>yes</td>\n",
       "    </tr>\n",
       "    <tr>\n",
       "      <th>paymentmethod</th>\n",
       "      <td>electronic_check</td>\n",
       "      <td>mailed_check</td>\n",
       "      <td>mailed_check</td>\n",
       "      <td>bank_transfer_(automatic)</td>\n",
       "      <td>electronic_check</td>\n",
       "    </tr>\n",
       "    <tr>\n",
       "      <th>monthlycharges</th>\n",
       "      <td>29.85</td>\n",
       "      <td>56.95</td>\n",
       "      <td>53.85</td>\n",
       "      <td>42.3</td>\n",
       "      <td>70.7</td>\n",
       "    </tr>\n",
       "    <tr>\n",
       "      <th>totalcharges</th>\n",
       "      <td>29.85</td>\n",
       "      <td>1889.5</td>\n",
       "      <td>108.15</td>\n",
       "      <td>1840.75</td>\n",
       "      <td>151.65</td>\n",
       "    </tr>\n",
       "    <tr>\n",
       "      <th>churn</th>\n",
       "      <td>no</td>\n",
       "      <td>no</td>\n",
       "      <td>yes</td>\n",
       "      <td>no</td>\n",
       "      <td>yes</td>\n",
       "    </tr>\n",
       "  </tbody>\n",
       "</table>\n",
       "</div>"
      ],
      "text/plain": [
       "                                 0             1               2  \\\n",
       "customerid              7590-vhveg    5575-gnvde      3668-qpybk   \n",
       "gender                      female          male            male   \n",
       "seniorcitizen                    0             0               0   \n",
       "partner                        yes            no              no   \n",
       "dependents                      no            no              no   \n",
       "tenure                           1            34               2   \n",
       "phoneservice                    no           yes             yes   \n",
       "multiplelines     no_phone_service            no              no   \n",
       "internetservice                dsl           dsl             dsl   \n",
       "onlinesecurity                  no           yes             yes   \n",
       "onlinebackup                   yes            no             yes   \n",
       "deviceprotection                no           yes              no   \n",
       "techsupport                     no            no              no   \n",
       "streamingtv                     no            no              no   \n",
       "streamingmovies                 no            no              no   \n",
       "contract            month-to-month      one_year  month-to-month   \n",
       "paperlessbilling               yes            no             yes   \n",
       "paymentmethod     electronic_check  mailed_check    mailed_check   \n",
       "monthlycharges               29.85         56.95           53.85   \n",
       "totalcharges                 29.85        1889.5          108.15   \n",
       "churn                           no            no             yes   \n",
       "\n",
       "                                          3                 4  \n",
       "customerid                       7795-cfocw        9237-hqitu  \n",
       "gender                                 male            female  \n",
       "seniorcitizen                             0                 0  \n",
       "partner                                  no                no  \n",
       "dependents                               no                no  \n",
       "tenure                                   45                 2  \n",
       "phoneservice                             no               yes  \n",
       "multiplelines              no_phone_service                no  \n",
       "internetservice                         dsl       fiber_optic  \n",
       "onlinesecurity                          yes                no  \n",
       "onlinebackup                             no                no  \n",
       "deviceprotection                        yes                no  \n",
       "techsupport                             yes                no  \n",
       "streamingtv                              no                no  \n",
       "streamingmovies                          no                no  \n",
       "contract                           one_year    month-to-month  \n",
       "paperlessbilling                         no               yes  \n",
       "paymentmethod     bank_transfer_(automatic)  electronic_check  \n",
       "monthlycharges                         42.3              70.7  \n",
       "totalcharges                        1840.75            151.65  \n",
       "churn                                    no               yes  "
      ]
     },
     "execution_count": 214,
     "metadata": {},
     "output_type": "execute_result"
    }
   ],
   "source": [
    "df.head().T"
   ]
  },
  {
   "cell_type": "code",
   "execution_count": 215,
   "id": "cefc9c6d",
   "metadata": {},
   "outputs": [
    {
     "data": {
      "text/plain": [
       "customerid           object\n",
       "gender               object\n",
       "seniorcitizen         int64\n",
       "partner              object\n",
       "dependents           object\n",
       "tenure                int64\n",
       "phoneservice         object\n",
       "multiplelines        object\n",
       "internetservice      object\n",
       "onlinesecurity       object\n",
       "onlinebackup         object\n",
       "deviceprotection     object\n",
       "techsupport          object\n",
       "streamingtv          object\n",
       "streamingmovies      object\n",
       "contract             object\n",
       "paperlessbilling     object\n",
       "paymentmethod        object\n",
       "monthlycharges      float64\n",
       "totalcharges         object\n",
       "churn                object\n",
       "dtype: object"
      ]
     },
     "execution_count": 215,
     "metadata": {},
     "output_type": "execute_result"
    }
   ],
   "source": [
    "df.dtypes # totalcharges should be a number, but it's object(so string)"
   ]
  },
  {
   "cell_type": "code",
   "execution_count": 216,
   "id": "23776529",
   "metadata": {},
   "outputs": [
    {
     "data": {
      "text/plain": [
       "0         29.85\n",
       "1        1889.5\n",
       "2        108.15\n",
       "3       1840.75\n",
       "4        151.65\n",
       "         ...   \n",
       "7038     1990.5\n",
       "7039     7362.9\n",
       "7040     346.45\n",
       "7041      306.6\n",
       "7042     6844.5\n",
       "Name: totalcharges, Length: 7043, dtype: object"
      ]
     },
     "execution_count": 216,
     "metadata": {},
     "output_type": "execute_result"
    }
   ],
   "source": [
    "df.totalcharges"
   ]
  },
  {
   "cell_type": "code",
   "execution_count": 217,
   "id": "46ed3ed3",
   "metadata": {},
   "outputs": [
    {
     "ename": "ValueError",
     "evalue": "Unable to parse string \"_\" at position 488",
     "output_type": "error",
     "traceback": [
      "\u001b[0;31m---------------------------------------------------------------------------\u001b[0m",
      "\u001b[0;31mValueError\u001b[0m                                Traceback (most recent call last)",
      "\u001b[0;32mpandas/_libs/lib.pyx\u001b[0m in \u001b[0;36mpandas._libs.lib.maybe_convert_numeric\u001b[0;34m()\u001b[0m\n",
      "\u001b[0;31mValueError\u001b[0m: Unable to parse string \"_\"",
      "\nDuring handling of the above exception, another exception occurred:\n",
      "\u001b[0;31mValueError\u001b[0m                                Traceback (most recent call last)",
      "\u001b[0;32m<ipython-input-217-4bcea321a627>\u001b[0m in \u001b[0;36m<module>\u001b[0;34m\u001b[0m\n\u001b[1;32m      1\u001b[0m \u001b[0;31m# try to convert to number\u001b[0m\u001b[0;34m\u001b[0m\u001b[0;34m\u001b[0m\u001b[0;34m\u001b[0m\u001b[0m\n\u001b[0;32m----> 2\u001b[0;31m \u001b[0mpd\u001b[0m\u001b[0;34m.\u001b[0m\u001b[0mto_numeric\u001b[0m\u001b[0;34m(\u001b[0m\u001b[0mdf\u001b[0m\u001b[0;34m.\u001b[0m\u001b[0mtotalcharges\u001b[0m\u001b[0;34m)\u001b[0m \u001b[0;31m# takes data series\u001b[0m\u001b[0;34m\u001b[0m\u001b[0;34m\u001b[0m\u001b[0m\n\u001b[0m",
      "\u001b[0;32m~/opt/anaconda3/lib/python3.8/site-packages/pandas/core/tools/numeric.py\u001b[0m in \u001b[0;36mto_numeric\u001b[0;34m(arg, errors, downcast)\u001b[0m\n\u001b[1;32m    152\u001b[0m         \u001b[0mcoerce_numeric\u001b[0m \u001b[0;34m=\u001b[0m \u001b[0merrors\u001b[0m \u001b[0;32mnot\u001b[0m \u001b[0;32min\u001b[0m \u001b[0;34m(\u001b[0m\u001b[0;34m\"ignore\"\u001b[0m\u001b[0;34m,\u001b[0m \u001b[0;34m\"raise\"\u001b[0m\u001b[0;34m)\u001b[0m\u001b[0;34m\u001b[0m\u001b[0;34m\u001b[0m\u001b[0m\n\u001b[1;32m    153\u001b[0m         \u001b[0;32mtry\u001b[0m\u001b[0;34m:\u001b[0m\u001b[0;34m\u001b[0m\u001b[0;34m\u001b[0m\u001b[0m\n\u001b[0;32m--> 154\u001b[0;31m             values = lib.maybe_convert_numeric(\n\u001b[0m\u001b[1;32m    155\u001b[0m                 \u001b[0mvalues\u001b[0m\u001b[0;34m,\u001b[0m \u001b[0mset\u001b[0m\u001b[0;34m(\u001b[0m\u001b[0;34m)\u001b[0m\u001b[0;34m,\u001b[0m \u001b[0mcoerce_numeric\u001b[0m\u001b[0;34m=\u001b[0m\u001b[0mcoerce_numeric\u001b[0m\u001b[0;34m\u001b[0m\u001b[0;34m\u001b[0m\u001b[0m\n\u001b[1;32m    156\u001b[0m             )\n",
      "\u001b[0;32mpandas/_libs/lib.pyx\u001b[0m in \u001b[0;36mpandas._libs.lib.maybe_convert_numeric\u001b[0;34m()\u001b[0m\n",
      "\u001b[0;31mValueError\u001b[0m: Unable to parse string \"_\" at position 488"
     ]
    }
   ],
   "source": [
    "# try to convert to number\n",
    "pd.to_numeric(df.totalcharges) # takes data series"
   ]
  },
  {
   "cell_type": "code",
   "execution_count": 218,
   "id": "15452dea",
   "metadata": {},
   "outputs": [
    {
     "data": {
      "text/plain": [
       "'_'"
      ]
     },
     "execution_count": 218,
     "metadata": {},
     "output_type": "execute_result"
    }
   ],
   "source": [
    "df.totalcharges[488]"
   ]
  },
  {
   "cell_type": "code",
   "execution_count": 219,
   "id": "44ec4642",
   "metadata": {},
   "outputs": [],
   "source": [
    "tc = pd.to_numeric(df.totalcharges, errors='coerce')"
   ]
  },
  {
   "cell_type": "code",
   "execution_count": 220,
   "id": "2466c5b0",
   "metadata": {
    "scrolled": true
   },
   "outputs": [
    {
     "data": {
      "text/html": [
       "<div>\n",
       "<style scoped>\n",
       "    .dataframe tbody tr th:only-of-type {\n",
       "        vertical-align: middle;\n",
       "    }\n",
       "\n",
       "    .dataframe tbody tr th {\n",
       "        vertical-align: top;\n",
       "    }\n",
       "\n",
       "    .dataframe thead th {\n",
       "        text-align: right;\n",
       "    }\n",
       "</style>\n",
       "<table border=\"1\" class=\"dataframe\">\n",
       "  <thead>\n",
       "    <tr style=\"text-align: right;\">\n",
       "      <th></th>\n",
       "      <th>customerid</th>\n",
       "      <th>totalcharges</th>\n",
       "    </tr>\n",
       "  </thead>\n",
       "  <tbody>\n",
       "    <tr>\n",
       "      <th>488</th>\n",
       "      <td>4472-lvygi</td>\n",
       "      <td>_</td>\n",
       "    </tr>\n",
       "    <tr>\n",
       "      <th>753</th>\n",
       "      <td>3115-czmzd</td>\n",
       "      <td>_</td>\n",
       "    </tr>\n",
       "    <tr>\n",
       "      <th>936</th>\n",
       "      <td>5709-lvoeq</td>\n",
       "      <td>_</td>\n",
       "    </tr>\n",
       "    <tr>\n",
       "      <th>1082</th>\n",
       "      <td>4367-nuyao</td>\n",
       "      <td>_</td>\n",
       "    </tr>\n",
       "    <tr>\n",
       "      <th>1340</th>\n",
       "      <td>1371-dwpaz</td>\n",
       "      <td>_</td>\n",
       "    </tr>\n",
       "    <tr>\n",
       "      <th>3331</th>\n",
       "      <td>7644-omvmy</td>\n",
       "      <td>_</td>\n",
       "    </tr>\n",
       "    <tr>\n",
       "      <th>3826</th>\n",
       "      <td>3213-vvolg</td>\n",
       "      <td>_</td>\n",
       "    </tr>\n",
       "    <tr>\n",
       "      <th>4380</th>\n",
       "      <td>2520-sgtta</td>\n",
       "      <td>_</td>\n",
       "    </tr>\n",
       "    <tr>\n",
       "      <th>5218</th>\n",
       "      <td>2923-arzlg</td>\n",
       "      <td>_</td>\n",
       "    </tr>\n",
       "    <tr>\n",
       "      <th>6670</th>\n",
       "      <td>4075-wkniu</td>\n",
       "      <td>_</td>\n",
       "    </tr>\n",
       "    <tr>\n",
       "      <th>6754</th>\n",
       "      <td>2775-sefee</td>\n",
       "      <td>_</td>\n",
       "    </tr>\n",
       "  </tbody>\n",
       "</table>\n",
       "</div>"
      ],
      "text/plain": [
       "      customerid totalcharges\n",
       "488   4472-lvygi            _\n",
       "753   3115-czmzd            _\n",
       "936   5709-lvoeq            _\n",
       "1082  4367-nuyao            _\n",
       "1340  1371-dwpaz            _\n",
       "3331  7644-omvmy            _\n",
       "3826  3213-vvolg            _\n",
       "4380  2520-sgtta            _\n",
       "5218  2923-arzlg            _\n",
       "6670  4075-wkniu            _\n",
       "6754  2775-sefee            _"
      ]
     },
     "execution_count": 220,
     "metadata": {},
     "output_type": "execute_result"
    }
   ],
   "source": [
    "df[tc.isnull()][['customerid', 'totalcharges']]"
   ]
  },
  {
   "cell_type": "code",
   "execution_count": 221,
   "id": "e88b6e47",
   "metadata": {},
   "outputs": [],
   "source": [
    "df.totalcharges = pd.to_numeric(df.totalcharges, errors='coerce')"
   ]
  },
  {
   "cell_type": "code",
   "execution_count": 222,
   "id": "43f448ad",
   "metadata": {},
   "outputs": [
    {
     "data": {
      "text/plain": [
       "488    NaN\n",
       "753    NaN\n",
       "936    NaN\n",
       "1082   NaN\n",
       "1340   NaN\n",
       "3331   NaN\n",
       "3826   NaN\n",
       "4380   NaN\n",
       "5218   NaN\n",
       "6670   NaN\n",
       "6754   NaN\n",
       "Name: totalcharges, dtype: float64"
      ]
     },
     "execution_count": 222,
     "metadata": {},
     "output_type": "execute_result"
    }
   ],
   "source": [
    "df[df.totalcharges.isnull()].totalcharges + 1"
   ]
  },
  {
   "cell_type": "code",
   "execution_count": 223,
   "id": "76da20a0",
   "metadata": {},
   "outputs": [],
   "source": [
    "df.totalcharges = df.totalcharges.fillna(0)"
   ]
  },
  {
   "cell_type": "code",
   "execution_count": 224,
   "id": "6ddf93d0",
   "metadata": {},
   "outputs": [
    {
     "data": {
      "text/plain": [
       "0"
      ]
     },
     "execution_count": 224,
     "metadata": {},
     "output_type": "execute_result"
    }
   ],
   "source": [
    "df.totalcharges.isnull().sum()"
   ]
  },
  {
   "cell_type": "code",
   "execution_count": 225,
   "id": "67fdf70e",
   "metadata": {},
   "outputs": [
    {
     "data": {
      "text/plain": [
       "0        no\n",
       "1        no\n",
       "2       yes\n",
       "3        no\n",
       "4       yes\n",
       "       ... \n",
       "7038     no\n",
       "7039     no\n",
       "7040     no\n",
       "7041    yes\n",
       "7042     no\n",
       "Name: churn, Length: 7043, dtype: object"
      ]
     },
     "execution_count": 225,
     "metadata": {},
     "output_type": "execute_result"
    }
   ],
   "source": [
    "df.churn # we want change yes -> 1 no -> 0"
   ]
  },
  {
   "cell_type": "code",
   "execution_count": 226,
   "id": "7276ac2d",
   "metadata": {},
   "outputs": [],
   "source": [
    "df.churn = (df.churn == 'yes').astype('int')"
   ]
  },
  {
   "cell_type": "code",
   "execution_count": 227,
   "id": "457d166d",
   "metadata": {},
   "outputs": [
    {
     "data": {
      "text/plain": [
       "0       0\n",
       "1       0\n",
       "2       1\n",
       "3       0\n",
       "4       1\n",
       "       ..\n",
       "7038    0\n",
       "7039    0\n",
       "7040    0\n",
       "7041    1\n",
       "7042    0\n",
       "Name: churn, Length: 7043, dtype: int64"
      ]
     },
     "execution_count": 227,
     "metadata": {},
     "output_type": "execute_result"
    }
   ],
   "source": [
    "df.churn"
   ]
  },
  {
   "cell_type": "code",
   "execution_count": 228,
   "id": "8021ee06",
   "metadata": {},
   "outputs": [],
   "source": [
    "from sklearn.model_selection import train_test_split"
   ]
  },
  {
   "cell_type": "code",
   "execution_count": 229,
   "id": "9c58a749",
   "metadata": {},
   "outputs": [],
   "source": [
    "train_test_split?"
   ]
  },
  {
   "cell_type": "code",
   "execution_count": 230,
   "id": "17f194ad",
   "metadata": {},
   "outputs": [
    {
     "data": {
      "text/plain": [
       "0       0\n",
       "1       0\n",
       "2       1\n",
       "3       0\n",
       "4       1\n",
       "       ..\n",
       "7038    0\n",
       "7039    0\n",
       "7040    0\n",
       "7041    1\n",
       "7042    0\n",
       "Name: churn, Length: 7043, dtype: int64"
      ]
     },
     "execution_count": 230,
     "metadata": {},
     "output_type": "execute_result"
    }
   ],
   "source": [
    "df.churn"
   ]
  },
  {
   "cell_type": "code",
   "execution_count": 231,
   "id": "edad1fec",
   "metadata": {},
   "outputs": [],
   "source": [
    "df_full_train, df_test = train_test_split(df, test_size=0.2, random_state=1)"
   ]
  },
  {
   "cell_type": "code",
   "execution_count": 232,
   "id": "34ae1eac",
   "metadata": {},
   "outputs": [],
   "source": [
    "df_train, df_val = train_test_split(df_full_train, test_size=0.25, random_state=1)"
   ]
  },
  {
   "cell_type": "code",
   "execution_count": 233,
   "id": "5c9ba4a4",
   "metadata": {},
   "outputs": [
    {
     "data": {
      "text/plain": [
       "True"
      ]
     },
     "execution_count": 233,
     "metadata": {},
     "output_type": "execute_result"
    }
   ],
   "source": [
    "df_train.shape[0] + df_val.shape[0] + df_test.shape[0] == df.shape[0]"
   ]
  },
  {
   "cell_type": "code",
   "execution_count": 234,
   "id": "79b079e7",
   "metadata": {},
   "outputs": [],
   "source": [
    "df_train = df_train.reset_index(drop=True)\n",
    "df_val = df_val.reset_index(drop=True)\n",
    "df_test = df_test.reset_index(drop=True)"
   ]
  },
  {
   "cell_type": "code",
   "execution_count": 235,
   "id": "0c7df167",
   "metadata": {},
   "outputs": [],
   "source": [
    "y_train = df_train.churn.values\n",
    "y_val = df_val.churn.values\n",
    "y_test = df_test.churn.values"
   ]
  },
  {
   "cell_type": "code",
   "execution_count": 236,
   "id": "277fd659",
   "metadata": {},
   "outputs": [],
   "source": [
    "del df_train['churn']\n",
    "del df_val['churn']\n",
    "del df_test['churn']"
   ]
  },
  {
   "cell_type": "markdown",
   "id": "174dc47b",
   "metadata": {},
   "source": [
    "# EDA"
   ]
  },
  {
   "cell_type": "code",
   "execution_count": 37,
   "id": "f3a87d0d",
   "metadata": {},
   "outputs": [],
   "source": [
    "df_full_train = df_full_train.reset_index(drop=True)"
   ]
  },
  {
   "cell_type": "code",
   "execution_count": 38,
   "id": "2439743f",
   "metadata": {},
   "outputs": [
    {
     "data": {
      "text/plain": [
       "customerid          0\n",
       "gender              0\n",
       "seniorcitizen       0\n",
       "partner             0\n",
       "dependents          0\n",
       "tenure              0\n",
       "phoneservice        0\n",
       "multiplelines       0\n",
       "internetservice     0\n",
       "onlinesecurity      0\n",
       "onlinebackup        0\n",
       "deviceprotection    0\n",
       "techsupport         0\n",
       "streamingtv         0\n",
       "streamingmovies     0\n",
       "contract            0\n",
       "paperlessbilling    0\n",
       "paymentmethod       0\n",
       "monthlycharges      0\n",
       "totalcharges        0\n",
       "churn               0\n",
       "dtype: int64"
      ]
     },
     "execution_count": 38,
     "metadata": {},
     "output_type": "execute_result"
    }
   ],
   "source": [
    "df_full_train.isnull().sum()"
   ]
  },
  {
   "cell_type": "code",
   "execution_count": 43,
   "id": "ee0a45da",
   "metadata": {
    "scrolled": true
   },
   "outputs": [
    {
     "data": {
      "text/plain": [
       "0    0.730032\n",
       "1    0.269968\n",
       "Name: churn, dtype: float64"
      ]
     },
     "execution_count": 43,
     "metadata": {},
     "output_type": "execute_result"
    }
   ],
   "source": [
    "df_full_train.churn.value_counts(normalize=True) #normalize = True show in %\n",
    "# 27% -is CHURN RATE"
   ]
  },
  {
   "cell_type": "code",
   "execution_count": 44,
   "id": "ed78dcf3",
   "metadata": {},
   "outputs": [
    {
     "data": {
      "text/plain": [
       "0.26996805111821087"
      ]
     },
     "execution_count": 44,
     "metadata": {},
     "output_type": "execute_result"
    }
   ],
   "source": [
    "df_full_train.churn.mean()"
   ]
  },
  {
   "cell_type": "code",
   "execution_count": 40,
   "id": "e63c3e40",
   "metadata": {},
   "outputs": [
    {
     "data": {
      "text/plain": [
       "count    5634.000000\n",
       "mean        0.269968\n",
       "std         0.443982\n",
       "min         0.000000\n",
       "25%         0.000000\n",
       "50%         0.000000\n",
       "75%         1.000000\n",
       "max         1.000000\n",
       "Name: churn, dtype: float64"
      ]
     },
     "execution_count": 40,
     "metadata": {},
     "output_type": "execute_result"
    }
   ],
   "source": [
    "df_full_train.churn.describe()"
   ]
  },
  {
   "cell_type": "code",
   "execution_count": 45,
   "id": "4d3f19d6",
   "metadata": {},
   "outputs": [
    {
     "data": {
      "text/plain": [
       "customerid           object\n",
       "gender               object\n",
       "seniorcitizen         int64\n",
       "partner              object\n",
       "dependents           object\n",
       "tenure                int64\n",
       "phoneservice         object\n",
       "multiplelines        object\n",
       "internetservice      object\n",
       "onlinesecurity       object\n",
       "onlinebackup         object\n",
       "deviceprotection     object\n",
       "techsupport          object\n",
       "streamingtv          object\n",
       "streamingmovies      object\n",
       "contract             object\n",
       "paperlessbilling     object\n",
       "paymentmethod        object\n",
       "monthlycharges      float64\n",
       "totalcharges        float64\n",
       "churn                 int64\n",
       "dtype: object"
      ]
     },
     "execution_count": 45,
     "metadata": {},
     "output_type": "execute_result"
    }
   ],
   "source": [
    "df.dtypes"
   ]
  },
  {
   "cell_type": "code",
   "execution_count": 46,
   "id": "25847bd2",
   "metadata": {},
   "outputs": [],
   "source": [
    "numerical = ['tenure', 'monthlycharges', 'totalcharges']"
   ]
  },
  {
   "cell_type": "code",
   "execution_count": 48,
   "id": "9068a9aa",
   "metadata": {},
   "outputs": [
    {
     "data": {
      "text/plain": [
       "Index(['customerid', 'gender', 'seniorcitizen', 'partner', 'dependents',\n",
       "       'tenure', 'phoneservice', 'multiplelines', 'internetservice',\n",
       "       'onlinesecurity', 'onlinebackup', 'deviceprotection', 'techsupport',\n",
       "       'streamingtv', 'streamingmovies', 'contract', 'paperlessbilling',\n",
       "       'paymentmethod', 'monthlycharges', 'totalcharges', 'churn'],\n",
       "      dtype='object')"
      ]
     },
     "execution_count": 48,
     "metadata": {},
     "output_type": "execute_result"
    }
   ],
   "source": [
    "df.columns"
   ]
  },
  {
   "cell_type": "code",
   "execution_count": 52,
   "id": "56038c4c",
   "metadata": {},
   "outputs": [],
   "source": [
    "categorical = ['gender', 'seniorcitizen', 'partner', 'dependents',\n",
    "        'phoneservice', 'multiplelines', 'internetservice',\n",
    "       'onlinesecurity', 'onlinebackup', 'deviceprotection', 'techsupport',\n",
    "       'streamingtv', 'streamingmovies', 'contract', 'paperlessbilling',\n",
    "       'paymentmethod']"
   ]
  },
  {
   "cell_type": "code",
   "execution_count": 53,
   "id": "f79adc26",
   "metadata": {},
   "outputs": [
    {
     "data": {
      "text/plain": [
       "gender              2\n",
       "seniorcitizen       2\n",
       "partner             2\n",
       "dependents          2\n",
       "phoneservice        2\n",
       "multiplelines       3\n",
       "internetservice     3\n",
       "onlinesecurity      3\n",
       "onlinebackup        3\n",
       "deviceprotection    3\n",
       "techsupport         3\n",
       "streamingtv         3\n",
       "streamingmovies     3\n",
       "contract            3\n",
       "paperlessbilling    2\n",
       "paymentmethod       4\n",
       "dtype: int64"
      ]
     },
     "execution_count": 53,
     "metadata": {},
     "output_type": "execute_result"
    }
   ],
   "source": [
    "df_full_train[categorical].nunique()"
   ]
  },
  {
   "cell_type": "code",
   "execution_count": 55,
   "id": "8a87f18f",
   "metadata": {},
   "outputs": [],
   "source": [
    "female_churn_rate = df_full_train[df_full_train.gender == 'female'].churn.mean()\n",
    "male_churn_rate = df_full_train[df_full_train.gender == 'male'].churn.mean()"
   ]
  },
  {
   "cell_type": "code",
   "execution_count": 57,
   "id": "da030785",
   "metadata": {},
   "outputs": [
    {
     "data": {
      "text/plain": [
       "0.05170898185014739"
      ]
     },
     "execution_count": 57,
     "metadata": {},
     "output_type": "execute_result"
    }
   ],
   "source": [
    "(female_churn_rate - male_churn_rate)/male_churn_rate"
   ]
  },
  {
   "cell_type": "code",
   "execution_count": 59,
   "id": "8f2fcf28",
   "metadata": {},
   "outputs": [],
   "source": [
    "partner_yes_churn_rate = df_full_train[df_full_train.partner == 'yes'].churn.mean()\n",
    "partner_no_churn_rate = df_full_train[df_full_train.partner == 'no'].churn.mean()"
   ]
  },
  {
   "cell_type": "code",
   "execution_count": 60,
   "id": "3b877dcd",
   "metadata": {},
   "outputs": [
    {
     "data": {
      "text/plain": [
       "(0.20503330866025166, 0.3298090040927694)"
      ]
     },
     "execution_count": 60,
     "metadata": {},
     "output_type": "execute_result"
    }
   ],
   "source": [
    "partner_yes_churn_rate, partner_no_churn_rate"
   ]
  },
  {
   "cell_type": "code",
   "execution_count": 61,
   "id": "eaadded0",
   "metadata": {},
   "outputs": [
    {
     "data": {
      "text/plain": [
       "0.608563048842352"
      ]
     },
     "execution_count": 61,
     "metadata": {},
     "output_type": "execute_result"
    }
   ],
   "source": [
    "(partner_no_churn_rate - partner_yes_churn_rate)/partner_yes_churn_rate"
   ]
  },
  {
   "cell_type": "code",
   "execution_count": 62,
   "id": "87a8eba8",
   "metadata": {},
   "outputs": [],
   "source": [
    "global_churn = df_full_train.churn.mean()"
   ]
  },
  {
   "cell_type": "markdown",
   "id": "a5d1ea37",
   "metadata": {},
   "source": [
    "# Risk ration"
   ]
  },
  {
   "cell_type": "code",
   "execution_count": 64,
   "id": "77681a08",
   "metadata": {},
   "outputs": [
    {
     "data": {
      "text/plain": [
       "(0.7594724924338315, 1.2216593879412643)"
      ]
     },
     "execution_count": 64,
     "metadata": {},
     "output_type": "execute_result"
    }
   ],
   "source": [
    "partner_yes_churn_rate/global_churn, partner_no_churn_rate/global_churn"
   ]
  },
  {
   "cell_type": "code",
   "execution_count": 65,
   "id": "fcfdd24a",
   "metadata": {},
   "outputs": [],
   "source": [
    "# risk = group/global\n",
    "# people with partner are low risk group\n",
    "# people without partner are high risk group risk of group are higher than for all group"
   ]
  },
  {
   "cell_type": "code",
   "execution_count": 67,
   "id": "20387405",
   "metadata": {},
   "outputs": [
    {
     "data": {
      "text/plain": [
       "gender\n",
       "female    0.269209\n",
       "male      0.261603\n",
       "Name: churn, dtype: float64"
      ]
     },
     "execution_count": 67,
     "metadata": {},
     "output_type": "execute_result"
    }
   ],
   "source": [
    "df.groupby('gender').churn.mean()"
   ]
  },
  {
   "cell_type": "code",
   "execution_count": 68,
   "id": "843d14cb",
   "metadata": {},
   "outputs": [
    {
     "data": {
      "text/plain": [
       "partner\n",
       "no     0.329580\n",
       "yes    0.196649\n",
       "Name: churn, dtype: float64"
      ]
     },
     "execution_count": 68,
     "metadata": {},
     "output_type": "execute_result"
    }
   ],
   "source": [
    "df.groupby('partner').churn.mean()"
   ]
  },
  {
   "cell_type": "code",
   "execution_count": 79,
   "id": "a126128e",
   "metadata": {},
   "outputs": [],
   "source": [
    "from IPython.display import display"
   ]
  },
  {
   "cell_type": "code",
   "execution_count": 80,
   "id": "f92f706b",
   "metadata": {
    "scrolled": false
   },
   "outputs": [
    {
     "name": "stdout",
     "output_type": "stream",
     "text": [
      "gender\n"
     ]
    },
    {
     "data": {
      "text/html": [
       "<div>\n",
       "<style scoped>\n",
       "    .dataframe tbody tr th:only-of-type {\n",
       "        vertical-align: middle;\n",
       "    }\n",
       "\n",
       "    .dataframe tbody tr th {\n",
       "        vertical-align: top;\n",
       "    }\n",
       "\n",
       "    .dataframe thead th {\n",
       "        text-align: right;\n",
       "    }\n",
       "</style>\n",
       "<table border=\"1\" class=\"dataframe\">\n",
       "  <thead>\n",
       "    <tr style=\"text-align: right;\">\n",
       "      <th></th>\n",
       "      <th>mean</th>\n",
       "      <th>count</th>\n",
       "      <th>diff</th>\n",
       "      <th>risk</th>\n",
       "    </tr>\n",
       "    <tr>\n",
       "      <th>gender</th>\n",
       "      <th></th>\n",
       "      <th></th>\n",
       "      <th></th>\n",
       "      <th></th>\n",
       "    </tr>\n",
       "  </thead>\n",
       "  <tbody>\n",
       "    <tr>\n",
       "      <th>female</th>\n",
       "      <td>0.276824</td>\n",
       "      <td>2796</td>\n",
       "      <td>0.006856</td>\n",
       "      <td>1.025396</td>\n",
       "    </tr>\n",
       "    <tr>\n",
       "      <th>male</th>\n",
       "      <td>0.263214</td>\n",
       "      <td>2838</td>\n",
       "      <td>-0.006755</td>\n",
       "      <td>0.974980</td>\n",
       "    </tr>\n",
       "  </tbody>\n",
       "</table>\n",
       "</div>"
      ],
      "text/plain": [
       "            mean  count      diff      risk\n",
       "gender                                     \n",
       "female  0.276824   2796  0.006856  1.025396\n",
       "male    0.263214   2838 -0.006755  0.974980"
      ]
     },
     "metadata": {},
     "output_type": "display_data"
    },
    {
     "name": "stdout",
     "output_type": "stream",
     "text": [
      "seniorcitizen\n"
     ]
    },
    {
     "data": {
      "text/html": [
       "<div>\n",
       "<style scoped>\n",
       "    .dataframe tbody tr th:only-of-type {\n",
       "        vertical-align: middle;\n",
       "    }\n",
       "\n",
       "    .dataframe tbody tr th {\n",
       "        vertical-align: top;\n",
       "    }\n",
       "\n",
       "    .dataframe thead th {\n",
       "        text-align: right;\n",
       "    }\n",
       "</style>\n",
       "<table border=\"1\" class=\"dataframe\">\n",
       "  <thead>\n",
       "    <tr style=\"text-align: right;\">\n",
       "      <th></th>\n",
       "      <th>mean</th>\n",
       "      <th>count</th>\n",
       "      <th>diff</th>\n",
       "      <th>risk</th>\n",
       "    </tr>\n",
       "    <tr>\n",
       "      <th>seniorcitizen</th>\n",
       "      <th></th>\n",
       "      <th></th>\n",
       "      <th></th>\n",
       "      <th></th>\n",
       "    </tr>\n",
       "  </thead>\n",
       "  <tbody>\n",
       "    <tr>\n",
       "      <th>0</th>\n",
       "      <td>0.242270</td>\n",
       "      <td>4722</td>\n",
       "      <td>-0.027698</td>\n",
       "      <td>0.897403</td>\n",
       "    </tr>\n",
       "    <tr>\n",
       "      <th>1</th>\n",
       "      <td>0.413377</td>\n",
       "      <td>912</td>\n",
       "      <td>0.143409</td>\n",
       "      <td>1.531208</td>\n",
       "    </tr>\n",
       "  </tbody>\n",
       "</table>\n",
       "</div>"
      ],
      "text/plain": [
       "                   mean  count      diff      risk\n",
       "seniorcitizen                                     \n",
       "0              0.242270   4722 -0.027698  0.897403\n",
       "1              0.413377    912  0.143409  1.531208"
      ]
     },
     "metadata": {},
     "output_type": "display_data"
    },
    {
     "name": "stdout",
     "output_type": "stream",
     "text": [
      "partner\n"
     ]
    },
    {
     "data": {
      "text/html": [
       "<div>\n",
       "<style scoped>\n",
       "    .dataframe tbody tr th:only-of-type {\n",
       "        vertical-align: middle;\n",
       "    }\n",
       "\n",
       "    .dataframe tbody tr th {\n",
       "        vertical-align: top;\n",
       "    }\n",
       "\n",
       "    .dataframe thead th {\n",
       "        text-align: right;\n",
       "    }\n",
       "</style>\n",
       "<table border=\"1\" class=\"dataframe\">\n",
       "  <thead>\n",
       "    <tr style=\"text-align: right;\">\n",
       "      <th></th>\n",
       "      <th>mean</th>\n",
       "      <th>count</th>\n",
       "      <th>diff</th>\n",
       "      <th>risk</th>\n",
       "    </tr>\n",
       "    <tr>\n",
       "      <th>partner</th>\n",
       "      <th></th>\n",
       "      <th></th>\n",
       "      <th></th>\n",
       "      <th></th>\n",
       "    </tr>\n",
       "  </thead>\n",
       "  <tbody>\n",
       "    <tr>\n",
       "      <th>no</th>\n",
       "      <td>0.329809</td>\n",
       "      <td>2932</td>\n",
       "      <td>0.059841</td>\n",
       "      <td>1.221659</td>\n",
       "    </tr>\n",
       "    <tr>\n",
       "      <th>yes</th>\n",
       "      <td>0.205033</td>\n",
       "      <td>2702</td>\n",
       "      <td>-0.064935</td>\n",
       "      <td>0.759472</td>\n",
       "    </tr>\n",
       "  </tbody>\n",
       "</table>\n",
       "</div>"
      ],
      "text/plain": [
       "             mean  count      diff      risk\n",
       "partner                                     \n",
       "no       0.329809   2932  0.059841  1.221659\n",
       "yes      0.205033   2702 -0.064935  0.759472"
      ]
     },
     "metadata": {},
     "output_type": "display_data"
    },
    {
     "name": "stdout",
     "output_type": "stream",
     "text": [
      "dependents\n"
     ]
    },
    {
     "data": {
      "text/html": [
       "<div>\n",
       "<style scoped>\n",
       "    .dataframe tbody tr th:only-of-type {\n",
       "        vertical-align: middle;\n",
       "    }\n",
       "\n",
       "    .dataframe tbody tr th {\n",
       "        vertical-align: top;\n",
       "    }\n",
       "\n",
       "    .dataframe thead th {\n",
       "        text-align: right;\n",
       "    }\n",
       "</style>\n",
       "<table border=\"1\" class=\"dataframe\">\n",
       "  <thead>\n",
       "    <tr style=\"text-align: right;\">\n",
       "      <th></th>\n",
       "      <th>mean</th>\n",
       "      <th>count</th>\n",
       "      <th>diff</th>\n",
       "      <th>risk</th>\n",
       "    </tr>\n",
       "    <tr>\n",
       "      <th>dependents</th>\n",
       "      <th></th>\n",
       "      <th></th>\n",
       "      <th></th>\n",
       "      <th></th>\n",
       "    </tr>\n",
       "  </thead>\n",
       "  <tbody>\n",
       "    <tr>\n",
       "      <th>no</th>\n",
       "      <td>0.313760</td>\n",
       "      <td>3968</td>\n",
       "      <td>0.043792</td>\n",
       "      <td>1.162212</td>\n",
       "    </tr>\n",
       "    <tr>\n",
       "      <th>yes</th>\n",
       "      <td>0.165666</td>\n",
       "      <td>1666</td>\n",
       "      <td>-0.104302</td>\n",
       "      <td>0.613651</td>\n",
       "    </tr>\n",
       "  </tbody>\n",
       "</table>\n",
       "</div>"
      ],
      "text/plain": [
       "                mean  count      diff      risk\n",
       "dependents                                     \n",
       "no          0.313760   3968  0.043792  1.162212\n",
       "yes         0.165666   1666 -0.104302  0.613651"
      ]
     },
     "metadata": {},
     "output_type": "display_data"
    },
    {
     "name": "stdout",
     "output_type": "stream",
     "text": [
      "phoneservice\n"
     ]
    },
    {
     "data": {
      "text/html": [
       "<div>\n",
       "<style scoped>\n",
       "    .dataframe tbody tr th:only-of-type {\n",
       "        vertical-align: middle;\n",
       "    }\n",
       "\n",
       "    .dataframe tbody tr th {\n",
       "        vertical-align: top;\n",
       "    }\n",
       "\n",
       "    .dataframe thead th {\n",
       "        text-align: right;\n",
       "    }\n",
       "</style>\n",
       "<table border=\"1\" class=\"dataframe\">\n",
       "  <thead>\n",
       "    <tr style=\"text-align: right;\">\n",
       "      <th></th>\n",
       "      <th>mean</th>\n",
       "      <th>count</th>\n",
       "      <th>diff</th>\n",
       "      <th>risk</th>\n",
       "    </tr>\n",
       "    <tr>\n",
       "      <th>phoneservice</th>\n",
       "      <th></th>\n",
       "      <th></th>\n",
       "      <th></th>\n",
       "      <th></th>\n",
       "    </tr>\n",
       "  </thead>\n",
       "  <tbody>\n",
       "    <tr>\n",
       "      <th>no</th>\n",
       "      <td>0.241316</td>\n",
       "      <td>547</td>\n",
       "      <td>-0.028652</td>\n",
       "      <td>0.893870</td>\n",
       "    </tr>\n",
       "    <tr>\n",
       "      <th>yes</th>\n",
       "      <td>0.273049</td>\n",
       "      <td>5087</td>\n",
       "      <td>0.003081</td>\n",
       "      <td>1.011412</td>\n",
       "    </tr>\n",
       "  </tbody>\n",
       "</table>\n",
       "</div>"
      ],
      "text/plain": [
       "                  mean  count      diff      risk\n",
       "phoneservice                                     \n",
       "no            0.241316    547 -0.028652  0.893870\n",
       "yes           0.273049   5087  0.003081  1.011412"
      ]
     },
     "metadata": {},
     "output_type": "display_data"
    },
    {
     "name": "stdout",
     "output_type": "stream",
     "text": [
      "multiplelines\n"
     ]
    },
    {
     "data": {
      "text/html": [
       "<div>\n",
       "<style scoped>\n",
       "    .dataframe tbody tr th:only-of-type {\n",
       "        vertical-align: middle;\n",
       "    }\n",
       "\n",
       "    .dataframe tbody tr th {\n",
       "        vertical-align: top;\n",
       "    }\n",
       "\n",
       "    .dataframe thead th {\n",
       "        text-align: right;\n",
       "    }\n",
       "</style>\n",
       "<table border=\"1\" class=\"dataframe\">\n",
       "  <thead>\n",
       "    <tr style=\"text-align: right;\">\n",
       "      <th></th>\n",
       "      <th>mean</th>\n",
       "      <th>count</th>\n",
       "      <th>diff</th>\n",
       "      <th>risk</th>\n",
       "    </tr>\n",
       "    <tr>\n",
       "      <th>multiplelines</th>\n",
       "      <th></th>\n",
       "      <th></th>\n",
       "      <th></th>\n",
       "      <th></th>\n",
       "    </tr>\n",
       "  </thead>\n",
       "  <tbody>\n",
       "    <tr>\n",
       "      <th>no</th>\n",
       "      <td>0.257407</td>\n",
       "      <td>2700</td>\n",
       "      <td>-0.012561</td>\n",
       "      <td>0.953474</td>\n",
       "    </tr>\n",
       "    <tr>\n",
       "      <th>no_phone_service</th>\n",
       "      <td>0.241316</td>\n",
       "      <td>547</td>\n",
       "      <td>-0.028652</td>\n",
       "      <td>0.893870</td>\n",
       "    </tr>\n",
       "    <tr>\n",
       "      <th>yes</th>\n",
       "      <td>0.290742</td>\n",
       "      <td>2387</td>\n",
       "      <td>0.020773</td>\n",
       "      <td>1.076948</td>\n",
       "    </tr>\n",
       "  </tbody>\n",
       "</table>\n",
       "</div>"
      ],
      "text/plain": [
       "                      mean  count      diff      risk\n",
       "multiplelines                                        \n",
       "no                0.257407   2700 -0.012561  0.953474\n",
       "no_phone_service  0.241316    547 -0.028652  0.893870\n",
       "yes               0.290742   2387  0.020773  1.076948"
      ]
     },
     "metadata": {},
     "output_type": "display_data"
    },
    {
     "name": "stdout",
     "output_type": "stream",
     "text": [
      "internetservice\n"
     ]
    },
    {
     "data": {
      "text/html": [
       "<div>\n",
       "<style scoped>\n",
       "    .dataframe tbody tr th:only-of-type {\n",
       "        vertical-align: middle;\n",
       "    }\n",
       "\n",
       "    .dataframe tbody tr th {\n",
       "        vertical-align: top;\n",
       "    }\n",
       "\n",
       "    .dataframe thead th {\n",
       "        text-align: right;\n",
       "    }\n",
       "</style>\n",
       "<table border=\"1\" class=\"dataframe\">\n",
       "  <thead>\n",
       "    <tr style=\"text-align: right;\">\n",
       "      <th></th>\n",
       "      <th>mean</th>\n",
       "      <th>count</th>\n",
       "      <th>diff</th>\n",
       "      <th>risk</th>\n",
       "    </tr>\n",
       "    <tr>\n",
       "      <th>internetservice</th>\n",
       "      <th></th>\n",
       "      <th></th>\n",
       "      <th></th>\n",
       "      <th></th>\n",
       "    </tr>\n",
       "  </thead>\n",
       "  <tbody>\n",
       "    <tr>\n",
       "      <th>dsl</th>\n",
       "      <td>0.192347</td>\n",
       "      <td>1934</td>\n",
       "      <td>-0.077621</td>\n",
       "      <td>0.712482</td>\n",
       "    </tr>\n",
       "    <tr>\n",
       "      <th>fiber_optic</th>\n",
       "      <td>0.425171</td>\n",
       "      <td>2479</td>\n",
       "      <td>0.155203</td>\n",
       "      <td>1.574895</td>\n",
       "    </tr>\n",
       "    <tr>\n",
       "      <th>no</th>\n",
       "      <td>0.077805</td>\n",
       "      <td>1221</td>\n",
       "      <td>-0.192163</td>\n",
       "      <td>0.288201</td>\n",
       "    </tr>\n",
       "  </tbody>\n",
       "</table>\n",
       "</div>"
      ],
      "text/plain": [
       "                     mean  count      diff      risk\n",
       "internetservice                                     \n",
       "dsl              0.192347   1934 -0.077621  0.712482\n",
       "fiber_optic      0.425171   2479  0.155203  1.574895\n",
       "no               0.077805   1221 -0.192163  0.288201"
      ]
     },
     "metadata": {},
     "output_type": "display_data"
    },
    {
     "name": "stdout",
     "output_type": "stream",
     "text": [
      "onlinesecurity\n"
     ]
    },
    {
     "data": {
      "text/html": [
       "<div>\n",
       "<style scoped>\n",
       "    .dataframe tbody tr th:only-of-type {\n",
       "        vertical-align: middle;\n",
       "    }\n",
       "\n",
       "    .dataframe tbody tr th {\n",
       "        vertical-align: top;\n",
       "    }\n",
       "\n",
       "    .dataframe thead th {\n",
       "        text-align: right;\n",
       "    }\n",
       "</style>\n",
       "<table border=\"1\" class=\"dataframe\">\n",
       "  <thead>\n",
       "    <tr style=\"text-align: right;\">\n",
       "      <th></th>\n",
       "      <th>mean</th>\n",
       "      <th>count</th>\n",
       "      <th>diff</th>\n",
       "      <th>risk</th>\n",
       "    </tr>\n",
       "    <tr>\n",
       "      <th>onlinesecurity</th>\n",
       "      <th></th>\n",
       "      <th></th>\n",
       "      <th></th>\n",
       "      <th></th>\n",
       "    </tr>\n",
       "  </thead>\n",
       "  <tbody>\n",
       "    <tr>\n",
       "      <th>no</th>\n",
       "      <td>0.420921</td>\n",
       "      <td>2801</td>\n",
       "      <td>0.150953</td>\n",
       "      <td>1.559152</td>\n",
       "    </tr>\n",
       "    <tr>\n",
       "      <th>no_internet_service</th>\n",
       "      <td>0.077805</td>\n",
       "      <td>1221</td>\n",
       "      <td>-0.192163</td>\n",
       "      <td>0.288201</td>\n",
       "    </tr>\n",
       "    <tr>\n",
       "      <th>yes</th>\n",
       "      <td>0.153226</td>\n",
       "      <td>1612</td>\n",
       "      <td>-0.116742</td>\n",
       "      <td>0.567570</td>\n",
       "    </tr>\n",
       "  </tbody>\n",
       "</table>\n",
       "</div>"
      ],
      "text/plain": [
       "                         mean  count      diff      risk\n",
       "onlinesecurity                                          \n",
       "no                   0.420921   2801  0.150953  1.559152\n",
       "no_internet_service  0.077805   1221 -0.192163  0.288201\n",
       "yes                  0.153226   1612 -0.116742  0.567570"
      ]
     },
     "metadata": {},
     "output_type": "display_data"
    },
    {
     "name": "stdout",
     "output_type": "stream",
     "text": [
      "onlinebackup\n"
     ]
    },
    {
     "data": {
      "text/html": [
       "<div>\n",
       "<style scoped>\n",
       "    .dataframe tbody tr th:only-of-type {\n",
       "        vertical-align: middle;\n",
       "    }\n",
       "\n",
       "    .dataframe tbody tr th {\n",
       "        vertical-align: top;\n",
       "    }\n",
       "\n",
       "    .dataframe thead th {\n",
       "        text-align: right;\n",
       "    }\n",
       "</style>\n",
       "<table border=\"1\" class=\"dataframe\">\n",
       "  <thead>\n",
       "    <tr style=\"text-align: right;\">\n",
       "      <th></th>\n",
       "      <th>mean</th>\n",
       "      <th>count</th>\n",
       "      <th>diff</th>\n",
       "      <th>risk</th>\n",
       "    </tr>\n",
       "    <tr>\n",
       "      <th>onlinebackup</th>\n",
       "      <th></th>\n",
       "      <th></th>\n",
       "      <th></th>\n",
       "      <th></th>\n",
       "    </tr>\n",
       "  </thead>\n",
       "  <tbody>\n",
       "    <tr>\n",
       "      <th>no</th>\n",
       "      <td>0.404323</td>\n",
       "      <td>2498</td>\n",
       "      <td>0.134355</td>\n",
       "      <td>1.497672</td>\n",
       "    </tr>\n",
       "    <tr>\n",
       "      <th>no_internet_service</th>\n",
       "      <td>0.077805</td>\n",
       "      <td>1221</td>\n",
       "      <td>-0.192163</td>\n",
       "      <td>0.288201</td>\n",
       "    </tr>\n",
       "    <tr>\n",
       "      <th>yes</th>\n",
       "      <td>0.217232</td>\n",
       "      <td>1915</td>\n",
       "      <td>-0.052736</td>\n",
       "      <td>0.804660</td>\n",
       "    </tr>\n",
       "  </tbody>\n",
       "</table>\n",
       "</div>"
      ],
      "text/plain": [
       "                         mean  count      diff      risk\n",
       "onlinebackup                                            \n",
       "no                   0.404323   2498  0.134355  1.497672\n",
       "no_internet_service  0.077805   1221 -0.192163  0.288201\n",
       "yes                  0.217232   1915 -0.052736  0.804660"
      ]
     },
     "metadata": {},
     "output_type": "display_data"
    },
    {
     "name": "stdout",
     "output_type": "stream",
     "text": [
      "deviceprotection\n"
     ]
    },
    {
     "data": {
      "text/html": [
       "<div>\n",
       "<style scoped>\n",
       "    .dataframe tbody tr th:only-of-type {\n",
       "        vertical-align: middle;\n",
       "    }\n",
       "\n",
       "    .dataframe tbody tr th {\n",
       "        vertical-align: top;\n",
       "    }\n",
       "\n",
       "    .dataframe thead th {\n",
       "        text-align: right;\n",
       "    }\n",
       "</style>\n",
       "<table border=\"1\" class=\"dataframe\">\n",
       "  <thead>\n",
       "    <tr style=\"text-align: right;\">\n",
       "      <th></th>\n",
       "      <th>mean</th>\n",
       "      <th>count</th>\n",
       "      <th>diff</th>\n",
       "      <th>risk</th>\n",
       "    </tr>\n",
       "    <tr>\n",
       "      <th>deviceprotection</th>\n",
       "      <th></th>\n",
       "      <th></th>\n",
       "      <th></th>\n",
       "      <th></th>\n",
       "    </tr>\n",
       "  </thead>\n",
       "  <tbody>\n",
       "    <tr>\n",
       "      <th>no</th>\n",
       "      <td>0.395875</td>\n",
       "      <td>2473</td>\n",
       "      <td>0.125907</td>\n",
       "      <td>1.466379</td>\n",
       "    </tr>\n",
       "    <tr>\n",
       "      <th>no_internet_service</th>\n",
       "      <td>0.077805</td>\n",
       "      <td>1221</td>\n",
       "      <td>-0.192163</td>\n",
       "      <td>0.288201</td>\n",
       "    </tr>\n",
       "    <tr>\n",
       "      <th>yes</th>\n",
       "      <td>0.230412</td>\n",
       "      <td>1940</td>\n",
       "      <td>-0.039556</td>\n",
       "      <td>0.853480</td>\n",
       "    </tr>\n",
       "  </tbody>\n",
       "</table>\n",
       "</div>"
      ],
      "text/plain": [
       "                         mean  count      diff      risk\n",
       "deviceprotection                                        \n",
       "no                   0.395875   2473  0.125907  1.466379\n",
       "no_internet_service  0.077805   1221 -0.192163  0.288201\n",
       "yes                  0.230412   1940 -0.039556  0.853480"
      ]
     },
     "metadata": {},
     "output_type": "display_data"
    },
    {
     "name": "stdout",
     "output_type": "stream",
     "text": [
      "techsupport\n"
     ]
    },
    {
     "data": {
      "text/html": [
       "<div>\n",
       "<style scoped>\n",
       "    .dataframe tbody tr th:only-of-type {\n",
       "        vertical-align: middle;\n",
       "    }\n",
       "\n",
       "    .dataframe tbody tr th {\n",
       "        vertical-align: top;\n",
       "    }\n",
       "\n",
       "    .dataframe thead th {\n",
       "        text-align: right;\n",
       "    }\n",
       "</style>\n",
       "<table border=\"1\" class=\"dataframe\">\n",
       "  <thead>\n",
       "    <tr style=\"text-align: right;\">\n",
       "      <th></th>\n",
       "      <th>mean</th>\n",
       "      <th>count</th>\n",
       "      <th>diff</th>\n",
       "      <th>risk</th>\n",
       "    </tr>\n",
       "    <tr>\n",
       "      <th>techsupport</th>\n",
       "      <th></th>\n",
       "      <th></th>\n",
       "      <th></th>\n",
       "      <th></th>\n",
       "    </tr>\n",
       "  </thead>\n",
       "  <tbody>\n",
       "    <tr>\n",
       "      <th>no</th>\n",
       "      <td>0.418914</td>\n",
       "      <td>2781</td>\n",
       "      <td>0.148946</td>\n",
       "      <td>1.551717</td>\n",
       "    </tr>\n",
       "    <tr>\n",
       "      <th>no_internet_service</th>\n",
       "      <td>0.077805</td>\n",
       "      <td>1221</td>\n",
       "      <td>-0.192163</td>\n",
       "      <td>0.288201</td>\n",
       "    </tr>\n",
       "    <tr>\n",
       "      <th>yes</th>\n",
       "      <td>0.159926</td>\n",
       "      <td>1632</td>\n",
       "      <td>-0.110042</td>\n",
       "      <td>0.592390</td>\n",
       "    </tr>\n",
       "  </tbody>\n",
       "</table>\n",
       "</div>"
      ],
      "text/plain": [
       "                         mean  count      diff      risk\n",
       "techsupport                                             \n",
       "no                   0.418914   2781  0.148946  1.551717\n",
       "no_internet_service  0.077805   1221 -0.192163  0.288201\n",
       "yes                  0.159926   1632 -0.110042  0.592390"
      ]
     },
     "metadata": {},
     "output_type": "display_data"
    },
    {
     "name": "stdout",
     "output_type": "stream",
     "text": [
      "streamingtv\n"
     ]
    },
    {
     "data": {
      "text/html": [
       "<div>\n",
       "<style scoped>\n",
       "    .dataframe tbody tr th:only-of-type {\n",
       "        vertical-align: middle;\n",
       "    }\n",
       "\n",
       "    .dataframe tbody tr th {\n",
       "        vertical-align: top;\n",
       "    }\n",
       "\n",
       "    .dataframe thead th {\n",
       "        text-align: right;\n",
       "    }\n",
       "</style>\n",
       "<table border=\"1\" class=\"dataframe\">\n",
       "  <thead>\n",
       "    <tr style=\"text-align: right;\">\n",
       "      <th></th>\n",
       "      <th>mean</th>\n",
       "      <th>count</th>\n",
       "      <th>diff</th>\n",
       "      <th>risk</th>\n",
       "    </tr>\n",
       "    <tr>\n",
       "      <th>streamingtv</th>\n",
       "      <th></th>\n",
       "      <th></th>\n",
       "      <th></th>\n",
       "      <th></th>\n",
       "    </tr>\n",
       "  </thead>\n",
       "  <tbody>\n",
       "    <tr>\n",
       "      <th>no</th>\n",
       "      <td>0.342832</td>\n",
       "      <td>2246</td>\n",
       "      <td>0.072864</td>\n",
       "      <td>1.269897</td>\n",
       "    </tr>\n",
       "    <tr>\n",
       "      <th>no_internet_service</th>\n",
       "      <td>0.077805</td>\n",
       "      <td>1221</td>\n",
       "      <td>-0.192163</td>\n",
       "      <td>0.288201</td>\n",
       "    </tr>\n",
       "    <tr>\n",
       "      <th>yes</th>\n",
       "      <td>0.302723</td>\n",
       "      <td>2167</td>\n",
       "      <td>0.032755</td>\n",
       "      <td>1.121328</td>\n",
       "    </tr>\n",
       "  </tbody>\n",
       "</table>\n",
       "</div>"
      ],
      "text/plain": [
       "                         mean  count      diff      risk\n",
       "streamingtv                                             \n",
       "no                   0.342832   2246  0.072864  1.269897\n",
       "no_internet_service  0.077805   1221 -0.192163  0.288201\n",
       "yes                  0.302723   2167  0.032755  1.121328"
      ]
     },
     "metadata": {},
     "output_type": "display_data"
    },
    {
     "name": "stdout",
     "output_type": "stream",
     "text": [
      "streamingmovies\n"
     ]
    },
    {
     "data": {
      "text/html": [
       "<div>\n",
       "<style scoped>\n",
       "    .dataframe tbody tr th:only-of-type {\n",
       "        vertical-align: middle;\n",
       "    }\n",
       "\n",
       "    .dataframe tbody tr th {\n",
       "        vertical-align: top;\n",
       "    }\n",
       "\n",
       "    .dataframe thead th {\n",
       "        text-align: right;\n",
       "    }\n",
       "</style>\n",
       "<table border=\"1\" class=\"dataframe\">\n",
       "  <thead>\n",
       "    <tr style=\"text-align: right;\">\n",
       "      <th></th>\n",
       "      <th>mean</th>\n",
       "      <th>count</th>\n",
       "      <th>diff</th>\n",
       "      <th>risk</th>\n",
       "    </tr>\n",
       "    <tr>\n",
       "      <th>streamingmovies</th>\n",
       "      <th></th>\n",
       "      <th></th>\n",
       "      <th></th>\n",
       "      <th></th>\n",
       "    </tr>\n",
       "  </thead>\n",
       "  <tbody>\n",
       "    <tr>\n",
       "      <th>no</th>\n",
       "      <td>0.338906</td>\n",
       "      <td>2213</td>\n",
       "      <td>0.068938</td>\n",
       "      <td>1.255358</td>\n",
       "    </tr>\n",
       "    <tr>\n",
       "      <th>no_internet_service</th>\n",
       "      <td>0.077805</td>\n",
       "      <td>1221</td>\n",
       "      <td>-0.192163</td>\n",
       "      <td>0.288201</td>\n",
       "    </tr>\n",
       "    <tr>\n",
       "      <th>yes</th>\n",
       "      <td>0.307273</td>\n",
       "      <td>2200</td>\n",
       "      <td>0.037305</td>\n",
       "      <td>1.138182</td>\n",
       "    </tr>\n",
       "  </tbody>\n",
       "</table>\n",
       "</div>"
      ],
      "text/plain": [
       "                         mean  count      diff      risk\n",
       "streamingmovies                                         \n",
       "no                   0.338906   2213  0.068938  1.255358\n",
       "no_internet_service  0.077805   1221 -0.192163  0.288201\n",
       "yes                  0.307273   2200  0.037305  1.138182"
      ]
     },
     "metadata": {},
     "output_type": "display_data"
    },
    {
     "name": "stdout",
     "output_type": "stream",
     "text": [
      "contract\n"
     ]
    },
    {
     "data": {
      "text/html": [
       "<div>\n",
       "<style scoped>\n",
       "    .dataframe tbody tr th:only-of-type {\n",
       "        vertical-align: middle;\n",
       "    }\n",
       "\n",
       "    .dataframe tbody tr th {\n",
       "        vertical-align: top;\n",
       "    }\n",
       "\n",
       "    .dataframe thead th {\n",
       "        text-align: right;\n",
       "    }\n",
       "</style>\n",
       "<table border=\"1\" class=\"dataframe\">\n",
       "  <thead>\n",
       "    <tr style=\"text-align: right;\">\n",
       "      <th></th>\n",
       "      <th>mean</th>\n",
       "      <th>count</th>\n",
       "      <th>diff</th>\n",
       "      <th>risk</th>\n",
       "    </tr>\n",
       "    <tr>\n",
       "      <th>contract</th>\n",
       "      <th></th>\n",
       "      <th></th>\n",
       "      <th></th>\n",
       "      <th></th>\n",
       "    </tr>\n",
       "  </thead>\n",
       "  <tbody>\n",
       "    <tr>\n",
       "      <th>month-to-month</th>\n",
       "      <td>0.431701</td>\n",
       "      <td>3104</td>\n",
       "      <td>0.161733</td>\n",
       "      <td>1.599082</td>\n",
       "    </tr>\n",
       "    <tr>\n",
       "      <th>one_year</th>\n",
       "      <td>0.120573</td>\n",
       "      <td>1186</td>\n",
       "      <td>-0.149395</td>\n",
       "      <td>0.446621</td>\n",
       "    </tr>\n",
       "    <tr>\n",
       "      <th>two_year</th>\n",
       "      <td>0.028274</td>\n",
       "      <td>1344</td>\n",
       "      <td>-0.241694</td>\n",
       "      <td>0.104730</td>\n",
       "    </tr>\n",
       "  </tbody>\n",
       "</table>\n",
       "</div>"
      ],
      "text/plain": [
       "                    mean  count      diff      risk\n",
       "contract                                           \n",
       "month-to-month  0.431701   3104  0.161733  1.599082\n",
       "one_year        0.120573   1186 -0.149395  0.446621\n",
       "two_year        0.028274   1344 -0.241694  0.104730"
      ]
     },
     "metadata": {},
     "output_type": "display_data"
    },
    {
     "name": "stdout",
     "output_type": "stream",
     "text": [
      "paperlessbilling\n"
     ]
    },
    {
     "data": {
      "text/html": [
       "<div>\n",
       "<style scoped>\n",
       "    .dataframe tbody tr th:only-of-type {\n",
       "        vertical-align: middle;\n",
       "    }\n",
       "\n",
       "    .dataframe tbody tr th {\n",
       "        vertical-align: top;\n",
       "    }\n",
       "\n",
       "    .dataframe thead th {\n",
       "        text-align: right;\n",
       "    }\n",
       "</style>\n",
       "<table border=\"1\" class=\"dataframe\">\n",
       "  <thead>\n",
       "    <tr style=\"text-align: right;\">\n",
       "      <th></th>\n",
       "      <th>mean</th>\n",
       "      <th>count</th>\n",
       "      <th>diff</th>\n",
       "      <th>risk</th>\n",
       "    </tr>\n",
       "    <tr>\n",
       "      <th>paperlessbilling</th>\n",
       "      <th></th>\n",
       "      <th></th>\n",
       "      <th></th>\n",
       "      <th></th>\n",
       "    </tr>\n",
       "  </thead>\n",
       "  <tbody>\n",
       "    <tr>\n",
       "      <th>no</th>\n",
       "      <td>0.172071</td>\n",
       "      <td>2313</td>\n",
       "      <td>-0.097897</td>\n",
       "      <td>0.637375</td>\n",
       "    </tr>\n",
       "    <tr>\n",
       "      <th>yes</th>\n",
       "      <td>0.338151</td>\n",
       "      <td>3321</td>\n",
       "      <td>0.068183</td>\n",
       "      <td>1.252560</td>\n",
       "    </tr>\n",
       "  </tbody>\n",
       "</table>\n",
       "</div>"
      ],
      "text/plain": [
       "                      mean  count      diff      risk\n",
       "paperlessbilling                                     \n",
       "no                0.172071   2313 -0.097897  0.637375\n",
       "yes               0.338151   3321  0.068183  1.252560"
      ]
     },
     "metadata": {},
     "output_type": "display_data"
    },
    {
     "name": "stdout",
     "output_type": "stream",
     "text": [
      "paymentmethod\n"
     ]
    },
    {
     "data": {
      "text/html": [
       "<div>\n",
       "<style scoped>\n",
       "    .dataframe tbody tr th:only-of-type {\n",
       "        vertical-align: middle;\n",
       "    }\n",
       "\n",
       "    .dataframe tbody tr th {\n",
       "        vertical-align: top;\n",
       "    }\n",
       "\n",
       "    .dataframe thead th {\n",
       "        text-align: right;\n",
       "    }\n",
       "</style>\n",
       "<table border=\"1\" class=\"dataframe\">\n",
       "  <thead>\n",
       "    <tr style=\"text-align: right;\">\n",
       "      <th></th>\n",
       "      <th>mean</th>\n",
       "      <th>count</th>\n",
       "      <th>diff</th>\n",
       "      <th>risk</th>\n",
       "    </tr>\n",
       "    <tr>\n",
       "      <th>paymentmethod</th>\n",
       "      <th></th>\n",
       "      <th></th>\n",
       "      <th></th>\n",
       "      <th></th>\n",
       "    </tr>\n",
       "  </thead>\n",
       "  <tbody>\n",
       "    <tr>\n",
       "      <th>bank_transfer_(automatic)</th>\n",
       "      <td>0.168171</td>\n",
       "      <td>1219</td>\n",
       "      <td>-0.101797</td>\n",
       "      <td>0.622928</td>\n",
       "    </tr>\n",
       "    <tr>\n",
       "      <th>credit_card_(automatic)</th>\n",
       "      <td>0.164339</td>\n",
       "      <td>1217</td>\n",
       "      <td>-0.105630</td>\n",
       "      <td>0.608733</td>\n",
       "    </tr>\n",
       "    <tr>\n",
       "      <th>electronic_check</th>\n",
       "      <td>0.455890</td>\n",
       "      <td>1893</td>\n",
       "      <td>0.185922</td>\n",
       "      <td>1.688682</td>\n",
       "    </tr>\n",
       "    <tr>\n",
       "      <th>mailed_check</th>\n",
       "      <td>0.193870</td>\n",
       "      <td>1305</td>\n",
       "      <td>-0.076098</td>\n",
       "      <td>0.718121</td>\n",
       "    </tr>\n",
       "  </tbody>\n",
       "</table>\n",
       "</div>"
      ],
      "text/plain": [
       "                               mean  count      diff      risk\n",
       "paymentmethod                                                 \n",
       "bank_transfer_(automatic)  0.168171   1219 -0.101797  0.622928\n",
       "credit_card_(automatic)    0.164339   1217 -0.105630  0.608733\n",
       "electronic_check           0.455890   1893  0.185922  1.688682\n",
       "mailed_check               0.193870   1305 -0.076098  0.718121"
      ]
     },
     "metadata": {},
     "output_type": "display_data"
    }
   ],
   "source": [
    "for c in categorical:\n",
    "    print(c)\n",
    "    df_group = df_full_train.groupby(c).churn.agg(['mean', 'count'])\n",
    "    df_group['diff'] = df_group['mean'] - global_churn\n",
    "    df_group['risk'] = df_group['mean']/global_churn\n",
    "    display(df_group)"
   ]
  },
  {
   "cell_type": "code",
   "execution_count": 76,
   "id": "e79a289c",
   "metadata": {},
   "outputs": [
    {
     "data": {
      "text/html": [
       "<div>\n",
       "<style scoped>\n",
       "    .dataframe tbody tr th:only-of-type {\n",
       "        vertical-align: middle;\n",
       "    }\n",
       "\n",
       "    .dataframe tbody tr th {\n",
       "        vertical-align: top;\n",
       "    }\n",
       "\n",
       "    .dataframe thead th {\n",
       "        text-align: right;\n",
       "    }\n",
       "</style>\n",
       "<table border=\"1\" class=\"dataframe\">\n",
       "  <thead>\n",
       "    <tr style=\"text-align: right;\">\n",
       "      <th></th>\n",
       "      <th>mean</th>\n",
       "      <th>count</th>\n",
       "      <th>diff</th>\n",
       "      <th>risk</th>\n",
       "    </tr>\n",
       "    <tr>\n",
       "      <th>gender</th>\n",
       "      <th></th>\n",
       "      <th></th>\n",
       "      <th></th>\n",
       "      <th></th>\n",
       "    </tr>\n",
       "  </thead>\n",
       "  <tbody>\n",
       "    <tr>\n",
       "      <th>female</th>\n",
       "      <td>0.276824</td>\n",
       "      <td>2796</td>\n",
       "      <td>0.006856</td>\n",
       "      <td>1.025396</td>\n",
       "    </tr>\n",
       "    <tr>\n",
       "      <th>male</th>\n",
       "      <td>0.263214</td>\n",
       "      <td>2838</td>\n",
       "      <td>-0.006755</td>\n",
       "      <td>0.974980</td>\n",
       "    </tr>\n",
       "  </tbody>\n",
       "</table>\n",
       "</div>"
      ],
      "text/plain": [
       "            mean  count      diff      risk\n",
       "gender                                     \n",
       "female  0.276824   2796  0.006856  1.025396\n",
       "male    0.263214   2838 -0.006755  0.974980"
      ]
     },
     "execution_count": 76,
     "metadata": {},
     "output_type": "execute_result"
    }
   ],
   "source": [
    "df_group"
   ]
  },
  {
   "cell_type": "markdown",
   "id": "5bb02db4",
   "metadata": {},
   "source": [
    "# Mutual info"
   ]
  },
  {
   "cell_type": "code",
   "execution_count": 81,
   "id": "252e285e",
   "metadata": {},
   "outputs": [],
   "source": [
    "from sklearn.metrics import mutual_info_score"
   ]
  },
  {
   "cell_type": "code",
   "execution_count": 87,
   "id": "7f81e0b3",
   "metadata": {},
   "outputs": [],
   "source": [
    "def mutual_info_churn_score(series):\n",
    "    return mutual_info_score(series, df_full_train.churn)"
   ]
  },
  {
   "cell_type": "code",
   "execution_count": 95,
   "id": "cbd196ca",
   "metadata": {},
   "outputs": [
    {
     "data": {
      "text/plain": [
       "contract            0.098320\n",
       "onlinesecurity      0.063085\n",
       "techsupport         0.061032\n",
       "internetservice     0.055868\n",
       "onlinebackup        0.046923\n",
       "deviceprotection    0.043453\n",
       "paymentmethod       0.043210\n",
       "streamingtv         0.031853\n",
       "streamingmovies     0.031581\n",
       "paperlessbilling    0.017589\n",
       "dependents          0.012346\n",
       "partner             0.009968\n",
       "seniorcitizen       0.009410\n",
       "multiplelines       0.000857\n",
       "phoneservice        0.000229\n",
       "gender              0.000117\n",
       "dtype: float64"
      ]
     },
     "execution_count": 95,
     "metadata": {},
     "output_type": "execute_result"
    }
   ],
   "source": [
    "mi = df_full_train[categorical].apply(mutual_info_churn_score)\n",
    "mi.sort_values(ascending=False)"
   ]
  },
  {
   "cell_type": "markdown",
   "id": "8f4d2b70",
   "metadata": {},
   "source": [
    "# Correlation"
   ]
  },
  {
   "cell_type": "code",
   "execution_count": 108,
   "id": "cdae32f9",
   "metadata": {},
   "outputs": [
    {
     "data": {
      "text/plain": [
       "tenure           -0.351885\n",
       "monthlycharges    0.196805\n",
       "totalcharges     -0.196353\n",
       "dtype: float64"
      ]
     },
     "execution_count": 108,
     "metadata": {},
     "output_type": "execute_result"
    }
   ],
   "source": [
    "# way to measure dependecy between variables\n",
    "df_full_train[numerical].corrwith(df_full_train.churn)"
   ]
  },
  {
   "cell_type": "code",
   "execution_count": 109,
   "id": "ec8f05c7",
   "metadata": {},
   "outputs": [
    {
     "data": {
      "text/plain": [
       "0.5953420669577875"
      ]
     },
     "execution_count": 109,
     "metadata": {},
     "output_type": "execute_result"
    }
   ],
   "source": [
    "df_full_train[df_full_train.tenure <= 2].churn.mean()"
   ]
  },
  {
   "cell_type": "code",
   "execution_count": 110,
   "id": "5f35bd3f",
   "metadata": {},
   "outputs": [
    {
     "data": {
      "text/plain": [
       "0.22478269658378816"
      ]
     },
     "execution_count": 110,
     "metadata": {},
     "output_type": "execute_result"
    }
   ],
   "source": [
    "df_full_train[df_full_train.tenure > 2].churn.mean()"
   ]
  },
  {
   "cell_type": "code",
   "execution_count": 111,
   "id": "4b4bdc1f",
   "metadata": {},
   "outputs": [
    {
     "data": {
      "text/plain": [
       "0.3994413407821229"
      ]
     },
     "execution_count": 111,
     "metadata": {},
     "output_type": "execute_result"
    }
   ],
   "source": [
    "df_full_train[(df_full_train.tenure > 2) & (df_full_train.tenure <= 12)].churn.mean()"
   ]
  },
  {
   "cell_type": "code",
   "execution_count": 112,
   "id": "c8e8dbd8",
   "metadata": {},
   "outputs": [
    {
     "data": {
      "text/plain": [
       "0.17634908339788277"
      ]
     },
     "execution_count": 112,
     "metadata": {},
     "output_type": "execute_result"
    }
   ],
   "source": [
    "df_full_train[df_full_train.tenure > 12].churn.mean()"
   ]
  },
  {
   "cell_type": "code",
   "execution_count": 113,
   "id": "974ccec3",
   "metadata": {},
   "outputs": [
    {
     "data": {
      "text/plain": [
       "0.08795411089866156"
      ]
     },
     "execution_count": 113,
     "metadata": {},
     "output_type": "execute_result"
    }
   ],
   "source": [
    "df_full_train[df_full_train.monthlycharges <= 20].churn.mean()"
   ]
  },
  {
   "cell_type": "code",
   "execution_count": 114,
   "id": "434d4d42",
   "metadata": {},
   "outputs": [
    {
     "data": {
      "text/plain": [
       "0.18340943683409436"
      ]
     },
     "execution_count": 114,
     "metadata": {},
     "output_type": "execute_result"
    }
   ],
   "source": [
    "df_full_train[(df_full_train.monthlycharges > 20) & (df_full_train.monthlycharges <= 50)].churn.mean()"
   ]
  },
  {
   "cell_type": "code",
   "execution_count": 115,
   "id": "99b36768",
   "metadata": {},
   "outputs": [
    {
     "data": {
      "text/plain": [
       "0.32499341585462205"
      ]
     },
     "execution_count": 115,
     "metadata": {},
     "output_type": "execute_result"
    }
   ],
   "source": [
    "df_full_train[df_full_train.monthlycharges > 50].churn.mean()"
   ]
  },
  {
   "cell_type": "code",
   "execution_count": 117,
   "id": "fa636b16",
   "metadata": {},
   "outputs": [
    {
     "data": {
      "text/plain": [
       "tenure            0.351885\n",
       "monthlycharges    0.196805\n",
       "totalcharges      0.196353\n",
       "dtype: float64"
      ]
     },
     "execution_count": 117,
     "metadata": {},
     "output_type": "execute_result"
    }
   ],
   "source": [
    "df_full_train[numerical].corrwith(df_full_train.churn).abs() # show importance of numerical values"
   ]
  },
  {
   "cell_type": "markdown",
   "id": "efdf8ad6",
   "metadata": {},
   "source": [
    "# One-hot encoding"
   ]
  },
  {
   "cell_type": "code",
   "execution_count": 118,
   "id": "aac900d9",
   "metadata": {},
   "outputs": [],
   "source": [
    "#categorical columns -> set of binary numerical columns"
   ]
  },
  {
   "cell_type": "code",
   "execution_count": 119,
   "id": "392fa858",
   "metadata": {},
   "outputs": [],
   "source": [
    "from sklearn.feature_extraction import DictVectorizer"
   ]
  },
  {
   "cell_type": "code",
   "execution_count": 136,
   "id": "7498af50",
   "metadata": {},
   "outputs": [],
   "source": [
    "dicts = df_train[['gender', 'contract', 'tenure']].iloc[:100].to_dict(orient = 'records')"
   ]
  },
  {
   "cell_type": "code",
   "execution_count": 137,
   "id": "19cb8669",
   "metadata": {},
   "outputs": [],
   "source": [
    "dv = DictVectorizer(sparse = False)"
   ]
  },
  {
   "cell_type": "code",
   "execution_count": 138,
   "id": "fd792016",
   "metadata": {
    "scrolled": true
   },
   "outputs": [
    {
     "data": {
      "text/plain": [
       "DictVectorizer(sparse=False)"
      ]
     },
     "execution_count": 138,
     "metadata": {},
     "output_type": "execute_result"
    }
   ],
   "source": [
    "dv.fit(dicts)"
   ]
  },
  {
   "cell_type": "code",
   "execution_count": 141,
   "id": "f265809b",
   "metadata": {},
   "outputs": [
    {
     "data": {
      "text/plain": [
       "['contract=month-to-month',\n",
       " 'contract=one_year',\n",
       " 'contract=two_year',\n",
       " 'gender=female',\n",
       " 'gender=male',\n",
       " 'tenure']"
      ]
     },
     "execution_count": 141,
     "metadata": {},
     "output_type": "execute_result"
    }
   ],
   "source": [
    "dv.get_feature_names() # first three - contract, 4-5 it's gender # tenure don't do one-hot transform"
   ]
  },
  {
   "cell_type": "code",
   "execution_count": 140,
   "id": "4cfea48d",
   "metadata": {
    "scrolled": true
   },
   "outputs": [
    {
     "data": {
      "text/plain": [
       "array([[ 0.,  0.,  1.,  1.,  0., 72.],\n",
       "       [ 1.,  0.,  0.,  0.,  1., 10.],\n",
       "       [ 1.,  0.,  0.,  1.,  0.,  5.],\n",
       "       [ 1.,  0.,  0.,  1.,  0.,  5.],\n",
       "       [ 0.,  0.,  1.,  1.,  0., 18.],\n",
       "       [ 1.,  0.,  0.,  0.,  1.,  4.],\n",
       "       [ 1.,  0.,  0.,  0.,  1.,  1.],\n",
       "       [ 1.,  0.,  0.,  1.,  0.,  1.],\n",
       "       [ 0.,  0.,  1.,  1.,  0., 72.],\n",
       "       [ 1.,  0.,  0.,  1.,  0.,  6.],\n",
       "       [ 0.,  0.,  1.,  1.,  0., 72.],\n",
       "       [ 1.,  0.,  0.,  0.,  1., 17.],\n",
       "       [ 0.,  0.,  1.,  1.,  0., 66.],\n",
       "       [ 1.,  0.,  0.,  1.,  0.,  2.],\n",
       "       [ 1.,  0.,  0.,  1.,  0.,  4.],\n",
       "       [ 1.,  0.,  0.,  0.,  1.,  3.],\n",
       "       [ 0.,  0.,  1.,  1.,  0., 71.],\n",
       "       [ 1.,  0.,  0.,  1.,  0., 32.],\n",
       "       [ 0.,  1.,  0.,  0.,  1., 53.],\n",
       "       [ 0.,  0.,  1.,  0.,  1., 56.],\n",
       "       [ 1.,  0.,  0.,  0.,  1., 61.],\n",
       "       [ 0.,  1.,  0.,  1.,  0., 41.],\n",
       "       [ 1.,  0.,  0.,  1.,  0.,  1.],\n",
       "       [ 0.,  0.,  1.,  1.,  0.,  3.],\n",
       "       [ 1.,  0.,  0.,  0.,  1.,  3.],\n",
       "       [ 0.,  0.,  1.,  0.,  1., 12.],\n",
       "       [ 1.,  0.,  0.,  1.,  0., 41.],\n",
       "       [ 1.,  0.,  0.,  1.,  0., 47.],\n",
       "       [ 1.,  0.,  0.,  1.,  0.,  2.],\n",
       "       [ 0.,  1.,  0.,  1.,  0., 66.],\n",
       "       [ 1.,  0.,  0.,  0.,  1.,  8.],\n",
       "       [ 1.,  0.,  0.,  0.,  1.,  1.],\n",
       "       [ 0.,  1.,  0.,  1.,  0., 35.],\n",
       "       [ 0.,  1.,  0.,  1.,  0., 67.],\n",
       "       [ 1.,  0.,  0.,  0.,  1.,  1.],\n",
       "       [ 0.,  1.,  0.,  1.,  0., 46.],\n",
       "       [ 0.,  1.,  0.,  1.,  0., 37.],\n",
       "       [ 0.,  0.,  1.,  0.,  1., 72.],\n",
       "       [ 1.,  0.,  0.,  0.,  1., 35.],\n",
       "       [ 1.,  0.,  0.,  1.,  0., 43.],\n",
       "       [ 1.,  0.,  0.,  1.,  0., 20.],\n",
       "       [ 1.,  0.,  0.,  0.,  1., 64.],\n",
       "       [ 1.,  0.,  0.,  1.,  0.,  6.],\n",
       "       [ 1.,  0.,  0.,  0.,  1.,  9.],\n",
       "       [ 1.,  0.,  0.,  0.,  1., 18.],\n",
       "       [ 0.,  1.,  0.,  1.,  0., 46.],\n",
       "       [ 1.,  0.,  0.,  0.,  1.,  9.],\n",
       "       [ 0.,  0.,  1.,  1.,  0., 69.],\n",
       "       [ 1.,  0.,  0.,  0.,  1., 32.],\n",
       "       [ 0.,  0.,  1.,  1.,  0., 67.],\n",
       "       [ 0.,  0.,  1.,  0.,  1., 69.],\n",
       "       [ 1.,  0.,  0.,  0.,  1.,  6.],\n",
       "       [ 0.,  1.,  0.,  1.,  0., 30.],\n",
       "       [ 1.,  0.,  0.,  0.,  1., 30.],\n",
       "       [ 0.,  1.,  0.,  1.,  0., 58.],\n",
       "       [ 1.,  0.,  0.,  1.,  0., 18.],\n",
       "       [ 1.,  0.,  0.,  0.,  1., 34.],\n",
       "       [ 0.,  1.,  0.,  0.,  1.,  2.],\n",
       "       [ 0.,  0.,  1.,  1.,  0., 10.],\n",
       "       [ 0.,  0.,  1.,  1.,  0., 71.],\n",
       "       [ 0.,  0.,  1.,  0.,  1., 72.],\n",
       "       [ 0.,  0.,  1.,  1.,  0., 46.],\n",
       "       [ 1.,  0.,  0.,  0.,  1., 49.],\n",
       "       [ 0.,  0.,  1.,  1.,  0., 65.],\n",
       "       [ 1.,  0.,  0.,  0.,  1., 15.],\n",
       "       [ 0.,  1.,  0.,  0.,  1., 58.],\n",
       "       [ 0.,  1.,  0.,  0.,  1., 66.],\n",
       "       [ 0.,  0.,  1.,  0.,  1., 66.],\n",
       "       [ 0.,  1.,  0.,  0.,  1., 68.],\n",
       "       [ 0.,  1.,  0.,  1.,  0., 45.],\n",
       "       [ 1.,  0.,  0.,  0.,  1.,  1.],\n",
       "       [ 1.,  0.,  0.,  0.,  1., 11.],\n",
       "       [ 1.,  0.,  0.,  1.,  0., 18.],\n",
       "       [ 0.,  0.,  1.,  0.,  1., 71.],\n",
       "       [ 1.,  0.,  0.,  0.,  1.,  4.],\n",
       "       [ 1.,  0.,  0.,  1.,  0., 13.],\n",
       "       [ 0.,  0.,  1.,  1.,  0., 50.],\n",
       "       [ 1.,  0.,  0.,  0.,  1., 12.],\n",
       "       [ 1.,  0.,  0.,  0.,  1.,  1.],\n",
       "       [ 0.,  1.,  0.,  1.,  0.,  7.],\n",
       "       [ 0.,  1.,  0.,  0.,  1., 71.],\n",
       "       [ 1.,  0.,  0.,  0.,  1.,  1.],\n",
       "       [ 1.,  0.,  0.,  0.,  1., 21.],\n",
       "       [ 1.,  0.,  0.,  1.,  0., 12.],\n",
       "       [ 1.,  0.,  0.,  0.,  1.,  1.],\n",
       "       [ 1.,  0.,  0.,  1.,  0., 33.],\n",
       "       [ 1.,  0.,  0.,  0.,  1., 46.],\n",
       "       [ 0.,  1.,  0.,  1.,  0., 44.],\n",
       "       [ 0.,  0.,  1.,  0.,  1., 70.],\n",
       "       [ 0.,  1.,  0.,  0.,  1.,  7.],\n",
       "       [ 1.,  0.,  0.,  1.,  0., 18.],\n",
       "       [ 0.,  1.,  0.,  0.,  1., 54.],\n",
       "       [ 1.,  0.,  0.,  1.,  0., 35.],\n",
       "       [ 1.,  0.,  0.,  0.,  1.,  5.],\n",
       "       [ 1.,  0.,  0.,  1.,  0., 35.],\n",
       "       [ 0.,  1.,  0.,  0.,  1., 39.],\n",
       "       [ 1.,  0.,  0.,  1.,  0., 19.],\n",
       "       [ 1.,  0.,  0.,  0.,  1., 21.],\n",
       "       [ 0.,  1.,  0.,  0.,  1., 43.],\n",
       "       [ 1.,  0.,  0.,  0.,  1., 19.]])"
      ]
     },
     "execution_count": 140,
     "metadata": {},
     "output_type": "execute_result"
    }
   ],
   "source": [
    "dv.transform(dicts) # sparse matrix mean that a lot of values are zeros"
   ]
  },
  {
   "cell_type": "code",
   "execution_count": 142,
   "id": "272f10cf",
   "metadata": {},
   "outputs": [],
   "source": [
    "train_dict = df_train[categorical + numerical].to_dict(orient='records')"
   ]
  },
  {
   "cell_type": "code",
   "execution_count": 144,
   "id": "311fa692",
   "metadata": {},
   "outputs": [],
   "source": [
    "dv = DictVectorizer(sparse=False)"
   ]
  },
  {
   "cell_type": "code",
   "execution_count": 147,
   "id": "b7343dda",
   "metadata": {},
   "outputs": [],
   "source": [
    "X_train = dv.fit_transform(train_dict)"
   ]
  },
  {
   "cell_type": "code",
   "execution_count": 148,
   "id": "c9cac0c0",
   "metadata": {
    "scrolled": true
   },
   "outputs": [
    {
     "data": {
      "text/plain": [
       "['contract=month-to-month',\n",
       " 'contract=one_year',\n",
       " 'contract=two_year',\n",
       " 'dependents=no',\n",
       " 'dependents=yes',\n",
       " 'deviceprotection=no',\n",
       " 'deviceprotection=no_internet_service',\n",
       " 'deviceprotection=yes',\n",
       " 'gender=female',\n",
       " 'gender=male',\n",
       " 'internetservice=dsl',\n",
       " 'internetservice=fiber_optic',\n",
       " 'internetservice=no',\n",
       " 'monthlycharges',\n",
       " 'multiplelines=no',\n",
       " 'multiplelines=no_phone_service',\n",
       " 'multiplelines=yes',\n",
       " 'onlinebackup=no',\n",
       " 'onlinebackup=no_internet_service',\n",
       " 'onlinebackup=yes',\n",
       " 'onlinesecurity=no',\n",
       " 'onlinesecurity=no_internet_service',\n",
       " 'onlinesecurity=yes',\n",
       " 'paperlessbilling=no',\n",
       " 'paperlessbilling=yes',\n",
       " 'partner=no',\n",
       " 'partner=yes',\n",
       " 'paymentmethod=bank_transfer_(automatic)',\n",
       " 'paymentmethod=credit_card_(automatic)',\n",
       " 'paymentmethod=electronic_check',\n",
       " 'paymentmethod=mailed_check',\n",
       " 'phoneservice=no',\n",
       " 'phoneservice=yes',\n",
       " 'seniorcitizen',\n",
       " 'streamingmovies=no',\n",
       " 'streamingmovies=no_internet_service',\n",
       " 'streamingmovies=yes',\n",
       " 'streamingtv=no',\n",
       " 'streamingtv=no_internet_service',\n",
       " 'streamingtv=yes',\n",
       " 'techsupport=no',\n",
       " 'techsupport=no_internet_service',\n",
       " 'techsupport=yes',\n",
       " 'tenure',\n",
       " 'totalcharges']"
      ]
     },
     "execution_count": 148,
     "metadata": {},
     "output_type": "execute_result"
    }
   ],
   "source": [
    "dv.get_feature_names()"
   ]
  },
  {
   "cell_type": "code",
   "execution_count": 153,
   "id": "b5334545",
   "metadata": {},
   "outputs": [],
   "source": [
    "val_dicts = df_val[categorical + numerical].to_dict(orient='records')"
   ]
  },
  {
   "cell_type": "code",
   "execution_count": 154,
   "id": "13a8cd50",
   "metadata": {},
   "outputs": [],
   "source": [
    "X_val = dv.transform(val_dicts)"
   ]
  },
  {
   "cell_type": "markdown",
   "id": "3df68af7",
   "metadata": {},
   "source": [
    "# Logistic Regression"
   ]
  },
  {
   "cell_type": "markdown",
   "id": "a5932cd5",
   "metadata": {},
   "source": [
    "- classification"
   ]
  },
  {
   "cell_type": "code",
   "execution_count": 155,
   "id": "9f21860d",
   "metadata": {},
   "outputs": [],
   "source": [
    "def sigmoid(z):\n",
    "    return 1 / (1 + np.exp(-z))"
   ]
  },
  {
   "cell_type": "code",
   "execution_count": 160,
   "id": "e1108202",
   "metadata": {},
   "outputs": [],
   "source": [
    "z = np.linspace(-7, 7, 71)"
   ]
  },
  {
   "cell_type": "code",
   "execution_count": 161,
   "id": "b347eb45",
   "metadata": {},
   "outputs": [
    {
     "data": {
      "text/plain": [
       "[<matplotlib.lines.Line2D at 0x7f8625a42f40>]"
      ]
     },
     "execution_count": 161,
     "metadata": {},
     "output_type": "execute_result"
    },
    {
     "data": {
      "image/png": "[encoded data removed]",
      "text/plain": [
       "<Figure size 432x288 with 1 Axes>"
      ]
     },
     "metadata": {
      "needs_background": "light"
     },
     "output_type": "display_data"
    }
   ],
   "source": [
    "plt.plot(z, sigmoid(z))"
   ]
  },
  {
   "cell_type": "code",
   "execution_count": 162,
   "id": "57360a6f",
   "metadata": {},
   "outputs": [],
   "source": [
    "def linear_regression(xi):\n",
    "    result = w0\n",
    "    \n",
    "    for j in range(len(w)):\n",
    "        result = result + xi[j]*w[j]\n",
    "\n",
    "    return result"
   ]
  },
  {
   "cell_type": "code",
   "execution_count": 164,
   "id": "a6e67a6c",
   "metadata": {},
   "outputs": [],
   "source": [
    "def logistic_regression(xi):\n",
    "    score = w0\n",
    "    for j in range(len(w)):\n",
    "        score = score + xi[j]*w[j]\n",
    "    \n",
    "    result = sigmoid(score)\n",
    "    return result"
   ]
  },
  {
   "cell_type": "markdown",
   "id": "30577855",
   "metadata": {},
   "source": [
    "# Training logistic regression with Scikit-Learn"
   ]
  },
  {
   "cell_type": "markdown",
   "id": "56808941",
   "metadata": {},
   "source": [
    "- Train a model with Scikit-Learn\n",
    "- Apply to val set\n",
    "- calculate accuracy"
   ]
  },
  {
   "cell_type": "code",
   "execution_count": 166,
   "id": "4825b361",
   "metadata": {},
   "outputs": [],
   "source": [
    "from sklearn.linear_model import LogisticRegression"
   ]
  },
  {
   "cell_type": "code",
   "execution_count": null,
   "id": "05269277",
   "metadata": {},
   "outputs": [],
   "source": []
  },
  {
   "cell_type": "code",
   "execution_count": 280,
   "id": "bf257fd3",
   "metadata": {},
   "outputs": [
    {
     "name": "stderr",
     "output_type": "stream",
     "text": [
      "/Users/artemnikolaev/opt/anaconda3/lib/python3.8/site-packages/sklearn/linear_model/_logistic.py:763: ConvergenceWarning: lbfgs failed to converge (status=1):\n",
      "STOP: TOTAL NO. of ITERATIONS REACHED LIMIT.\n",
      "\n",
      "Increase the number of iterations (max_iter) or scale the data as shown in:\n",
      "    https://scikit-learn.org/stable/modules/preprocessing.html\n",
      "Please also refer to the documentation for alternative solver options:\n",
      "    https://scikit-learn.org/stable/modules/linear_model.html#logistic-regression\n",
      "  n_iter_i = _check_optimize_result(\n"
     ]
    },
    {
     "data": {
      "text/plain": [
       "LogisticRegression()"
      ]
     },
     "execution_count": 280,
     "metadata": {},
     "output_type": "execute_result"
    }
   ],
   "source": [
    "model = LogisticRegression()\n",
    "model.fit(X_train, y_train)"
   ]
  },
  {
   "cell_type": "code",
   "execution_count": 195,
   "id": "b373a493",
   "metadata": {},
   "outputs": [
    {
     "data": {
      "text/plain": [
       "array([ 0.475, -0.175, -0.408, -0.03 , -0.078,  0.063, -0.089, -0.081,\n",
       "       -0.034, -0.073, -0.335,  0.317, -0.089,  0.004, -0.258,  0.141,\n",
       "        0.009,  0.063, -0.089, -0.081,  0.266, -0.089, -0.284, -0.231,\n",
       "        0.124, -0.166,  0.058, -0.087, -0.032,  0.07 , -0.059,  0.141,\n",
       "       -0.249,  0.216, -0.12 , -0.089,  0.102, -0.071, -0.089,  0.052,\n",
       "        0.213, -0.089, -0.232, -0.07 ,  0.   ])"
      ]
     },
     "execution_count": 195,
     "metadata": {},
     "output_type": "execute_result"
    }
   ],
   "source": [
    "model.coef_[0].round(3)"
   ]
  },
  {
   "cell_type": "code",
   "execution_count": 196,
   "id": "611418ca",
   "metadata": {},
   "outputs": [
    {
     "data": {
      "text/plain": [
       "-0.109"
      ]
     },
     "execution_count": 196,
     "metadata": {},
     "output_type": "execute_result"
    }
   ],
   "source": [
    "model.intercept_[0].round(3)"
   ]
  },
  {
   "cell_type": "code",
   "execution_count": 197,
   "id": "ede8cc59",
   "metadata": {},
   "outputs": [
    {
     "data": {
      "text/plain": [
       "array([0, 1, 1, ..., 1, 0, 1])"
      ]
     },
     "execution_count": 197,
     "metadata": {},
     "output_type": "execute_result"
    }
   ],
   "source": [
    "model.predict(X_train) # hard predictions"
   ]
  },
  {
   "cell_type": "code",
   "execution_count": 198,
   "id": "d270cfd0",
   "metadata": {},
   "outputs": [
    {
     "data": {
      "text/plain": [
       "array([[0.991001  , 0.008999  ],\n",
       "       [0.79534939, 0.20465061],\n",
       "       [0.78764484, 0.21235516],\n",
       "       ...,\n",
       "       [0.86360216, 0.13639784],\n",
       "       [0.20027492, 0.79972508],\n",
       "       [0.16262965, 0.83737035]])"
      ]
     },
     "execution_count": 198,
     "metadata": {},
     "output_type": "execute_result"
    }
   ],
   "source": [
    "model.predict_proba(X_val) # it's score, 1 column, probability being negative , probability being negative class"
   ]
  },
  {
   "cell_type": "code",
   "execution_count": 199,
   "id": "b6ba91d6",
   "metadata": {},
   "outputs": [],
   "source": [
    "y_pred = model.predict_proba(X_val)[:, 1]"
   ]
  },
  {
   "cell_type": "code",
   "execution_count": 256,
   "id": "1f40b08f",
   "metadata": {},
   "outputs": [],
   "source": [
    "churn_decision = (y_pred >= 0.5)"
   ]
  },
  {
   "cell_type": "code",
   "execution_count": 255,
   "id": "9c140e4a",
   "metadata": {},
   "outputs": [
    {
     "data": {
      "text/plain": [
       "0.8034066713981547"
      ]
     },
     "execution_count": 255,
     "metadata": {},
     "output_type": "execute_result"
    }
   ],
   "source": [
    "(churn_decision.astype(int) == y_val).mean()"
   ]
  },
  {
   "cell_type": "markdown",
   "id": "ce53c69d",
   "metadata": {},
   "source": [
    "# Model interpretation"
   ]
  },
  {
   "cell_type": "code",
   "execution_count": 261,
   "id": "1ff1a3f5",
   "metadata": {},
   "outputs": [],
   "source": [
    "dv_features = np.array(dv.feature_names_)"
   ]
  },
  {
   "cell_type": "code",
   "execution_count": 262,
   "id": "54f61c88",
   "metadata": {},
   "outputs": [],
   "source": [
    "model_coef = model.coef_[0].round(3)"
   ]
  },
  {
   "cell_type": "code",
   "execution_count": 264,
   "id": "e8b990a2",
   "metadata": {},
   "outputs": [
    {
     "data": {
      "text/plain": [
       "array([['contract=month-to-month', '0.475'],\n",
       "       ['contract=one_year', '-0.175'],\n",
       "       ['contract=two_year', '-0.408'],\n",
       "       ['dependents=no', '-0.03'],\n",
       "       ['dependents=yes', '-0.078'],\n",
       "       ['deviceprotection=no', '0.063'],\n",
       "       ['deviceprotection=no_internet_service', '-0.089'],\n",
       "       ['deviceprotection=yes', '-0.081'],\n",
       "       ['gender=female', '-0.034'],\n",
       "       ['gender=male', '-0.073'],\n",
       "       ['internetservice=dsl', '-0.335'],\n",
       "       ['internetservice=fiber_optic', '0.317'],\n",
       "       ['internetservice=no', '-0.089'],\n",
       "       ['monthlycharges', '0.004'],\n",
       "       ['multiplelines=no', '-0.258'],\n",
       "       ['multiplelines=no_phone_service', '0.141'],\n",
       "       ['multiplelines=yes', '0.009'],\n",
       "       ['onlinebackup=no', '0.063'],\n",
       "       ['onlinebackup=no_internet_service', '-0.089'],\n",
       "       ['onlinebackup=yes', '-0.081'],\n",
       "       ['onlinesecurity=no', '0.266'],\n",
       "       ['onlinesecurity=no_internet_service', '-0.089'],\n",
       "       ['onlinesecurity=yes', '-0.284'],\n",
       "       ['paperlessbilling=no', '-0.231'],\n",
       "       ['paperlessbilling=yes', '0.124'],\n",
       "       ['partner=no', '-0.166'],\n",
       "       ['partner=yes', '0.058'],\n",
       "       ['paymentmethod=bank_transfer_(automatic)', '-0.087'],\n",
       "       ['paymentmethod=credit_card_(automatic)', '-0.032'],\n",
       "       ['paymentmethod=electronic_check', '0.07'],\n",
       "       ['paymentmethod=mailed_check', '-0.059'],\n",
       "       ['phoneservice=no', '0.141'],\n",
       "       ['phoneservice=yes', '-0.249'],\n",
       "       ['seniorcitizen', '0.216'],\n",
       "       ['streamingmovies=no', '-0.12'],\n",
       "       ['streamingmovies=no_internet_service', '-0.089'],\n",
       "       ['streamingmovies=yes', '0.102'],\n",
       "       ['streamingtv=no', '-0.071'],\n",
       "       ['streamingtv=no_internet_service', '-0.089'],\n",
       "       ['streamingtv=yes', '0.052'],\n",
       "       ['techsupport=no', '0.213'],\n",
       "       ['techsupport=no_internet_service', '-0.089'],\n",
       "       ['techsupport=yes', '-0.232'],\n",
       "       ['tenure', '-0.07'],\n",
       "       ['totalcharges', '0.0']], dtype='<U39')"
      ]
     },
     "execution_count": 264,
     "metadata": {},
     "output_type": "execute_result"
    }
   ],
   "source": [
    "np.vstack([dv_features, model_coef]).T"
   ]
  },
  {
   "cell_type": "code",
   "execution_count": 266,
   "id": "d46358c8",
   "metadata": {},
   "outputs": [
    {
     "data": {
      "text/plain": [
       "[('contract=month-to-month', 0.475),\n",
       " ('contract=one_year', -0.175),\n",
       " ('contract=two_year', -0.408),\n",
       " ('dependents=no', -0.03),\n",
       " ('dependents=yes', -0.078),\n",
       " ('deviceprotection=no', 0.063),\n",
       " ('deviceprotection=no_internet_service', -0.089),\n",
       " ('deviceprotection=yes', -0.081),\n",
       " ('gender=female', -0.034),\n",
       " ('gender=male', -0.073),\n",
       " ('internetservice=dsl', -0.335),\n",
       " ('internetservice=fiber_optic', 0.317),\n",
       " ('internetservice=no', -0.089),\n",
       " ('monthlycharges', 0.004),\n",
       " ('multiplelines=no', -0.258),\n",
       " ('multiplelines=no_phone_service', 0.141),\n",
       " ('multiplelines=yes', 0.009),\n",
       " ('onlinebackup=no', 0.063),\n",
       " ('onlinebackup=no_internet_service', -0.089),\n",
       " ('onlinebackup=yes', -0.081),\n",
       " ('onlinesecurity=no', 0.266),\n",
       " ('onlinesecurity=no_internet_service', -0.089),\n",
       " ('onlinesecurity=yes', -0.284),\n",
       " ('paperlessbilling=no', -0.231),\n",
       " ('paperlessbilling=yes', 0.124),\n",
       " ('partner=no', -0.166),\n",
       " ('partner=yes', 0.058),\n",
       " ('paymentmethod=bank_transfer_(automatic)', -0.087),\n",
       " ('paymentmethod=credit_card_(automatic)', -0.032),\n",
       " ('paymentmethod=electronic_check', 0.07),\n",
       " ('paymentmethod=mailed_check', -0.059),\n",
       " ('phoneservice=no', 0.141),\n",
       " ('phoneservice=yes', -0.249),\n",
       " ('seniorcitizen', 0.216),\n",
       " ('streamingmovies=no', -0.12),\n",
       " ('streamingmovies=no_internet_service', -0.089),\n",
       " ('streamingmovies=yes', 0.102),\n",
       " ('streamingtv=no', -0.071),\n",
       " ('streamingtv=no_internet_service', -0.089),\n",
       " ('streamingtv=yes', 0.052),\n",
       " ('techsupport=no', 0.213),\n",
       " ('techsupport=no_internet_service', -0.089),\n",
       " ('techsupport=yes', -0.232),\n",
       " ('tenure', -0.07),\n",
       " ('totalcharges', 0.0)]"
      ]
     },
     "execution_count": 266,
     "metadata": {},
     "output_type": "execute_result"
    }
   ],
   "source": [
    "list(zip(dv.feature_names_, model.coef_[0].round(3)))"
   ]
  },
  {
   "cell_type": "code",
   "execution_count": 269,
   "id": "c7d80d4d",
   "metadata": {},
   "outputs": [],
   "source": [
    "small = ['contract', 'tenure', 'monthlycharges']"
   ]
  },
  {
   "cell_type": "code",
   "execution_count": 271,
   "id": "1668b639",
   "metadata": {},
   "outputs": [
    {
     "data": {
      "text/plain": [
       "[{'contract': 'two_year', 'tenure': 72, 'monthlycharges': 115.5},\n",
       " {'contract': 'month-to-month', 'tenure': 10, 'monthlycharges': 95.25},\n",
       " {'contract': 'month-to-month', 'tenure': 5, 'monthlycharges': 75.55},\n",
       " {'contract': 'month-to-month', 'tenure': 5, 'monthlycharges': 80.85},\n",
       " {'contract': 'two_year', 'tenure': 18, 'monthlycharges': 20.1},\n",
       " {'contract': 'month-to-month', 'tenure': 4, 'monthlycharges': 30.5},\n",
       " {'contract': 'month-to-month', 'tenure': 1, 'monthlycharges': 75.1},\n",
       " {'contract': 'month-to-month', 'tenure': 1, 'monthlycharges': 70.3},\n",
       " {'contract': 'two_year', 'tenure': 72, 'monthlycharges': 19.75},\n",
       " {'contract': 'month-to-month', 'tenure': 6, 'monthlycharges': 109.9},\n",
       " {'contract': 'two_year', 'tenure': 72, 'monthlycharges': 99.9},\n",
       " {'contract': 'month-to-month', 'tenure': 17, 'monthlycharges': 102.55},\n",
       " {'contract': 'two_year', 'tenure': 66, 'monthlycharges': 58.2},\n",
       " {'contract': 'month-to-month', 'tenure': 2, 'monthlycharges': 68.95},\n",
       " {'contract': 'month-to-month', 'tenure': 4, 'monthlycharges': 20.15},\n",
       " {'contract': 'month-to-month', 'tenure': 3, 'monthlycharges': 70.7},\n",
       " {'contract': 'two_year', 'tenure': 71, 'monthlycharges': 19.6},\n",
       " {'contract': 'month-to-month', 'tenure': 32, 'monthlycharges': 90.95},\n",
       " {'contract': 'one_year', 'tenure': 53, 'monthlycharges': 105.25},\n",
       " {'contract': 'two_year', 'tenure': 56, 'monthlycharges': 103.2},\n",
       " {'contract': 'month-to-month', 'tenure': 61, 'monthlycharges': 106.45},\n",
       " {'contract': 'one_year', 'tenure': 41, 'monthlycharges': 50.05},\n",
       " {'contract': 'month-to-month', 'tenure': 1, 'monthlycharges': 44.9},\n",
       " {'contract': 'two_year', 'tenure': 3, 'monthlycharges': 71.1},\n",
       " {'contract': 'month-to-month', 'tenure': 3, 'monthlycharges': 94.6},\n",
       " {'contract': 'two_year', 'tenure': 12, 'monthlycharges': 21.05},\n",
       " {'contract': 'month-to-month', 'tenure': 41, 'monthlycharges': 98.05},\n",
       " {'contract': 'month-to-month', 'tenure': 47, 'monthlycharges': 85.2},\n",
       " {'contract': 'month-to-month', 'tenure': 2, 'monthlycharges': 20.3},\n",
       " {'contract': 'one_year', 'tenure': 66, 'monthlycharges': 70.85},\n",
       " {'contract': 'month-to-month', 'tenure': 8, 'monthlycharges': 59.25},\n",
       " {'contract': 'month-to-month', 'tenure': 1, 'monthlycharges': 19.9},\n",
       " {'contract': 'one_year', 'tenure': 35, 'monthlycharges': 40.9},\n",
       " {'contract': 'one_year', 'tenure': 67, 'monthlycharges': 107.05},\n",
       " {'contract': 'month-to-month', 'tenure': 1, 'monthlycharges': 31.35},\n",
       " {'contract': 'one_year', 'tenure': 46, 'monthlycharges': 103.15},\n",
       " {'contract': 'one_year', 'tenure': 37, 'monthlycharges': 80.05},\n",
       " {'contract': 'two_year', 'tenure': 72, 'monthlycharges': 90.6},\n",
       " {'contract': 'month-to-month', 'tenure': 35, 'monthlycharges': 75.35},\n",
       " {'contract': 'month-to-month', 'tenure': 43, 'monthlycharges': 94.1},\n",
       " {'contract': 'month-to-month', 'tenure': 20, 'monthlycharges': 20.35},\n",
       " {'contract': 'month-to-month', 'tenure': 64, 'monthlycharges': 81.05},\n",
       " {'contract': 'month-to-month', 'tenure': 6, 'monthlycharges': 44.4},\n",
       " {'contract': 'month-to-month', 'tenure': 9, 'monthlycharges': 55.35},\n",
       " {'contract': 'month-to-month', 'tenure': 18, 'monthlycharges': 25.55},\n",
       " {'contract': 'one_year', 'tenure': 46, 'monthlycharges': 94.15},\n",
       " {'contract': 'month-to-month', 'tenure': 9, 'monthlycharges': 70.05},\n",
       " {'contract': 'two_year', 'tenure': 69, 'monthlycharges': 20.15},\n",
       " {'contract': 'month-to-month', 'tenure': 32, 'monthlycharges': 19.45},\n",
       " {'contract': 'two_year', 'tenure': 67, 'monthlycharges': 75.5},\n",
       " {'contract': 'two_year', 'tenure': 69, 'monthlycharges': 80.65},\n",
       " {'contract': 'month-to-month', 'tenure': 6, 'monthlycharges': 80.5},\n",
       " {'contract': 'one_year', 'tenure': 30, 'monthlycharges': 40.35},\n",
       " {'contract': 'month-to-month', 'tenure': 30, 'monthlycharges': 54.45},\n",
       " {'contract': 'one_year', 'tenure': 58, 'monthlycharges': 45.35},\n",
       " {'contract': 'month-to-month', 'tenure': 18, 'monthlycharges': 90.1},\n",
       " {'contract': 'month-to-month', 'tenure': 34, 'monthlycharges': 71.55},\n",
       " {'contract': 'one_year', 'tenure': 2, 'monthlycharges': 20.2},\n",
       " {'contract': 'two_year', 'tenure': 10, 'monthlycharges': 20.15},\n",
       " {'contract': 'two_year', 'tenure': 71, 'monthlycharges': 99.0},\n",
       " {'contract': 'two_year', 'tenure': 72, 'monthlycharges': 60.95},\n",
       " {'contract': 'two_year', 'tenure': 46, 'monthlycharges': 21.1},\n",
       " {'contract': 'month-to-month', 'tenure': 49, 'monthlycharges': 74.6},\n",
       " {'contract': 'two_year', 'tenure': 65, 'monthlycharges': 59.95},\n",
       " {'contract': 'month-to-month', 'tenure': 15, 'monthlycharges': 74.9},\n",
       " {'contract': 'one_year', 'tenure': 58, 'monthlycharges': 103.25},\n",
       " {'contract': 'one_year', 'tenure': 66, 'monthlycharges': 54.8},\n",
       " {'contract': 'two_year', 'tenure': 66, 'monthlycharges': 19.7},\n",
       " {'contract': 'one_year', 'tenure': 68, 'monthlycharges': 19.5},\n",
       " {'contract': 'one_year', 'tenure': 45, 'monthlycharges': 102.15},\n",
       " {'contract': 'month-to-month', 'tenure': 1, 'monthlycharges': 20.2},\n",
       " {'contract': 'month-to-month', 'tenure': 11, 'monthlycharges': 79.5},\n",
       " {'contract': 'month-to-month', 'tenure': 18, 'monthlycharges': 99.75},\n",
       " {'contract': 'two_year', 'tenure': 71, 'monthlycharges': 97.2},\n",
       " {'contract': 'month-to-month', 'tenure': 4, 'monthlycharges': 80.8},\n",
       " {'contract': 'month-to-month', 'tenure': 13, 'monthlycharges': 56.0},\n",
       " {'contract': 'two_year', 'tenure': 50, 'monthlycharges': 20.15},\n",
       " {'contract': 'month-to-month', 'tenure': 12, 'monthlycharges': 50.95},\n",
       " {'contract': 'month-to-month', 'tenure': 1, 'monthlycharges': 43.85},\n",
       " {'contract': 'one_year', 'tenure': 7, 'monthlycharges': 19.9},\n",
       " {'contract': 'one_year', 'tenure': 71, 'monthlycharges': 105.75},\n",
       " {'contract': 'month-to-month', 'tenure': 1, 'monthlycharges': 80.55},\n",
       " {'contract': 'month-to-month', 'tenure': 21, 'monthlycharges': 104.35},\n",
       " {'contract': 'month-to-month', 'tenure': 12, 'monthlycharges': 86.55},\n",
       " {'contract': 'month-to-month', 'tenure': 1, 'monthlycharges': 50.5},\n",
       " {'contract': 'month-to-month', 'tenure': 33, 'monthlycharges': 95.0},\n",
       " {'contract': 'month-to-month', 'tenure': 46, 'monthlycharges': 72.8},\n",
       " {'contract': 'one_year', 'tenure': 44, 'monthlycharges': 61.5},\n",
       " {'contract': 'two_year', 'tenure': 70, 'monthlycharges': 88.55},\n",
       " {'contract': 'one_year', 'tenure': 7, 'monthlycharges': 49.75},\n",
       " {'contract': 'month-to-month', 'tenure': 18, 'monthlycharges': 69.8},\n",
       " {'contract': 'one_year', 'tenure': 54, 'monthlycharges': 65.25},\n",
       " {'contract': 'month-to-month', 'tenure': 35, 'monthlycharges': 33.45},\n",
       " {'contract': 'month-to-month', 'tenure': 5, 'monthlycharges': 70.25},\n",
       " {'contract': 'month-to-month', 'tenure': 35, 'monthlycharges': 86.45},\n",
       " {'contract': 'one_year', 'tenure': 39, 'monthlycharges': 25.25},\n",
       " {'contract': 'month-to-month', 'tenure': 19, 'monthlycharges': 48.8},\n",
       " {'contract': 'month-to-month', 'tenure': 21, 'monthlycharges': 36.0},\n",
       " {'contract': 'one_year', 'tenure': 43, 'monthlycharges': 104.3},\n",
       " {'contract': 'month-to-month', 'tenure': 19, 'monthlycharges': 95.9},\n",
       " {'contract': 'two_year', 'tenure': 72, 'monthlycharges': 112.6},\n",
       " {'contract': 'month-to-month', 'tenure': 59, 'monthlycharges': 101.1},\n",
       " {'contract': 'two_year', 'tenure': 11, 'monthlycharges': 19.65},\n",
       " {'contract': 'month-to-month', 'tenure': 9, 'monthlycharges': 59.5},\n",
       " {'contract': 'two_year', 'tenure': 70, 'monthlycharges': 20.15},\n",
       " {'contract': 'month-to-month', 'tenure': 22, 'monthlycharges': 39.2},\n",
       " {'contract': 'two_year', 'tenure': 69, 'monthlycharges': 19.1},\n",
       " {'contract': 'month-to-month', 'tenure': 16, 'monthlycharges': 94.45},\n",
       " {'contract': 'one_year', 'tenure': 32, 'monthlycharges': 30.15},\n",
       " {'contract': 'two_year', 'tenure': 61, 'monthlycharges': 20.25},\n",
       " {'contract': 'month-to-month', 'tenure': 14, 'monthlycharges': 80.05},\n",
       " {'contract': 'month-to-month', 'tenure': 34, 'monthlycharges': 85.2},\n",
       " {'contract': 'two_year', 'tenure': 40, 'monthlycharges': 19.65},\n",
       " {'contract': 'month-to-month', 'tenure': 1, 'monthlycharges': 45.4},\n",
       " {'contract': 'two_year', 'tenure': 6, 'monthlycharges': 20.1},\n",
       " {'contract': 'month-to-month', 'tenure': 39, 'monthlycharges': 50.75},\n",
       " {'contract': 'two_year', 'tenure': 56, 'monthlycharges': 24.15},\n",
       " {'contract': 'one_year', 'tenure': 36, 'monthlycharges': 63.7},\n",
       " {'contract': 'one_year', 'tenure': 44, 'monthlycharges': 53.95},\n",
       " {'contract': 'month-to-month', 'tenure': 7, 'monthlycharges': 69.95},\n",
       " {'contract': 'month-to-month', 'tenure': 2, 'monthlycharges': 75.9},\n",
       " {'contract': 'two_year', 'tenure': 72, 'monthlycharges': 109.55},\n",
       " {'contract': 'month-to-month', 'tenure': 1, 'monthlycharges': 19.2},\n",
       " {'contract': 'month-to-month', 'tenure': 71, 'monthlycharges': 105.1},\n",
       " {'contract': 'month-to-month', 'tenure': 17, 'monthlycharges': 78.9},\n",
       " {'contract': 'one_year', 'tenure': 26, 'monthlycharges': 56.05},\n",
       " {'contract': 'month-to-month', 'tenure': 29, 'monthlycharges': 76.0},\n",
       " {'contract': 'two_year', 'tenure': 72, 'monthlycharges': 68.75},\n",
       " {'contract': 'month-to-month', 'tenure': 24, 'monthlycharges': 99.65},\n",
       " {'contract': 'two_year', 'tenure': 11, 'monthlycharges': 25.0},\n",
       " {'contract': 'one_year', 'tenure': 51, 'monthlycharges': 76.4},\n",
       " {'contract': 'month-to-month', 'tenure': 4, 'monthlycharges': 50.05},\n",
       " {'contract': 'month-to-month', 'tenure': 43, 'monthlycharges': 86.1},\n",
       " {'contract': 'month-to-month', 'tenure': 16, 'monthlycharges': 85.35},\n",
       " {'contract': 'month-to-month', 'tenure': 10, 'monthlycharges': 60.95},\n",
       " {'contract': 'one_year', 'tenure': 64, 'monthlycharges': 104.4},\n",
       " {'contract': 'month-to-month', 'tenure': 12, 'monthlycharges': 56.65},\n",
       " {'contract': 'month-to-month', 'tenure': 18, 'monthlycharges': 74.8},\n",
       " {'contract': 'one_year', 'tenure': 65, 'monthlycharges': 110.0},\n",
       " {'contract': 'month-to-month', 'tenure': 29, 'monthlycharges': 100.55},\n",
       " {'contract': 'month-to-month', 'tenure': 44, 'monthlycharges': 84.8},\n",
       " {'contract': 'month-to-month', 'tenure': 7, 'monthlycharges': 70.75},\n",
       " {'contract': 'month-to-month', 'tenure': 1, 'monthlycharges': 45.0},\n",
       " {'contract': 'month-to-month', 'tenure': 31, 'monthlycharges': 96.6},\n",
       " {'contract': 'one_year', 'tenure': 9, 'monthlycharges': 50.8},\n",
       " {'contract': 'month-to-month', 'tenure': 1, 'monthlycharges': 71.65},\n",
       " {'contract': 'two_year', 'tenure': 60, 'monthlycharges': 53.6},\n",
       " {'contract': 'one_year', 'tenure': 13, 'monthlycharges': 19.95},\n",
       " {'contract': 'month-to-month', 'tenure': 3, 'monthlycharges': 100.95},\n",
       " {'contract': 'month-to-month', 'tenure': 10, 'monthlycharges': 19.8},\n",
       " {'contract': 'month-to-month', 'tenure': 50, 'monthlycharges': 39.45},\n",
       " {'contract': 'two_year', 'tenure': 8, 'monthlycharges': 20.25},\n",
       " {'contract': 'month-to-month', 'tenure': 41, 'monthlycharges': 53.95},\n",
       " {'contract': 'month-to-month', 'tenure': 10, 'monthlycharges': 85.95},\n",
       " {'contract': 'one_year', 'tenure': 31, 'monthlycharges': 81.7},\n",
       " {'contract': 'month-to-month', 'tenure': 40, 'monthlycharges': 74.55},\n",
       " {'contract': 'month-to-month', 'tenure': 17, 'monthlycharges': 95.65},\n",
       " {'contract': 'month-to-month', 'tenure': 11, 'monthlycharges': 20.45},\n",
       " {'contract': 'month-to-month', 'tenure': 19, 'monthlycharges': 20.0},\n",
       " {'contract': 'month-to-month', 'tenure': 31, 'monthlycharges': 84.75},\n",
       " {'contract': 'month-to-month', 'tenure': 10, 'monthlycharges': 81.0},\n",
       " {'contract': 'month-to-month', 'tenure': 1, 'monthlycharges': 69.7},\n",
       " {'contract': 'month-to-month', 'tenure': 1, 'monthlycharges': 80.8},\n",
       " {'contract': 'one_year', 'tenure': 6, 'monthlycharges': 20.6},\n",
       " {'contract': 'month-to-month', 'tenure': 1, 'monthlycharges': 69.95},\n",
       " {'contract': 'one_year', 'tenure': 41, 'monthlycharges': 70.2},\n",
       " {'contract': 'two_year', 'tenure': 66, 'monthlycharges': 20.0},\n",
       " {'contract': 'month-to-month', 'tenure': 26, 'monthlycharges': 86.65},\n",
       " {'contract': 'one_year', 'tenure': 34, 'monthlycharges': 30.4},\n",
       " {'contract': 'two_year', 'tenure': 60, 'monthlycharges': 115.25},\n",
       " {'contract': 'month-to-month', 'tenure': 37, 'monthlycharges': 99.5},\n",
       " {'contract': 'one_year', 'tenure': 18, 'monthlycharges': 89.6},\n",
       " {'contract': 'one_year', 'tenure': 62, 'monthlycharges': 74.3},\n",
       " {'contract': 'two_year', 'tenure': 47, 'monthlycharges': 20.55},\n",
       " {'contract': 'one_year', 'tenure': 7, 'monthlycharges': 20.65},\n",
       " {'contract': 'month-to-month', 'tenure': 10, 'monthlycharges': 85.25},\n",
       " {'contract': 'month-to-month', 'tenure': 5, 'monthlycharges': 89.35},\n",
       " {'contract': 'month-to-month', 'tenure': 19, 'monthlycharges': 59.8},\n",
       " {'contract': 'one_year', 'tenure': 20, 'monthlycharges': 20.35},\n",
       " {'contract': 'two_year', 'tenure': 72, 'monthlycharges': 92.3},\n",
       " {'contract': 'month-to-month', 'tenure': 1, 'monthlycharges': 95.65},\n",
       " {'contract': 'one_year', 'tenure': 66, 'monthlycharges': 92.15},\n",
       " {'contract': 'month-to-month', 'tenure': 24, 'monthlycharges': 66.3},\n",
       " {'contract': 'one_year', 'tenure': 25, 'monthlycharges': 20.95},\n",
       " {'contract': 'month-to-month', 'tenure': 43, 'monthlycharges': 75.2},\n",
       " {'contract': 'month-to-month', 'tenure': 58, 'monthlycharges': 80.65},\n",
       " {'contract': 'month-to-month', 'tenure': 20, 'monthlycharges': 18.9},\n",
       " {'contract': 'one_year', 'tenure': 27, 'monthlycharges': 81.7},\n",
       " {'contract': 'month-to-month', 'tenure': 8, 'monthlycharges': 103.35},\n",
       " {'contract': 'month-to-month', 'tenure': 60, 'monthlycharges': 79.05},\n",
       " {'contract': 'one_year', 'tenure': 11, 'monthlycharges': 36.05},\n",
       " {'contract': 'month-to-month', 'tenure': 10, 'monthlycharges': 35.75},\n",
       " {'contract': 'two_year', 'tenure': 69, 'monthlycharges': 108.4},\n",
       " {'contract': 'two_year', 'tenure': 42, 'monthlycharges': 22.95},\n",
       " {'contract': 'one_year', 'tenure': 34, 'monthlycharges': 64.2},\n",
       " {'contract': 'one_year', 'tenure': 27, 'monthlycharges': 45.85},\n",
       " {'contract': 'month-to-month', 'tenure': 20, 'monthlycharges': 24.9},\n",
       " {'contract': 'two_year', 'tenure': 72, 'monthlycharges': 25.2},\n",
       " {'contract': 'month-to-month', 'tenure': 3, 'monthlycharges': 79.65},\n",
       " {'contract': 'month-to-month', 'tenure': 1, 'monthlycharges': 80.5},\n",
       " {'contract': 'two_year', 'tenure': 64, 'monthlycharges': 70.2},\n",
       " {'contract': 'one_year', 'tenure': 56, 'monthlycharges': 106.8},\n",
       " {'contract': 'month-to-month', 'tenure': 47, 'monthlycharges': 98.75},\n",
       " {'contract': 'two_year', 'tenure': 70, 'monthlycharges': 79.15},\n",
       " {'contract': 'two_year', 'tenure': 48, 'monthlycharges': 108.1},\n",
       " {'contract': 'month-to-month', 'tenure': 1, 'monthlycharges': 61.15},\n",
       " {'contract': 'month-to-month', 'tenure': 3, 'monthlycharges': 19.9},\n",
       " {'contract': 'month-to-month', 'tenure': 29, 'monthlycharges': 33.75},\n",
       " {'contract': 'month-to-month', 'tenure': 12, 'monthlycharges': 112.95},\n",
       " {'contract': 'month-to-month', 'tenure': 8, 'monthlycharges': 74.85},\n",
       " {'contract': 'month-to-month', 'tenure': 1, 'monthlycharges': 75.1},\n",
       " {'contract': 'two_year', 'tenure': 23, 'monthlycharges': 77.15},\n",
       " {'contract': 'month-to-month', 'tenure': 47, 'monthlycharges': 85.5},\n",
       " {'contract': 'month-to-month', 'tenure': 54, 'monthlycharges': 99.05},\n",
       " {'contract': 'one_year', 'tenure': 25, 'monthlycharges': 54.2},\n",
       " {'contract': 'month-to-month', 'tenure': 26, 'monthlycharges': 84.3},\n",
       " {'contract': 'two_year', 'tenure': 68, 'monthlycharges': 103.25},\n",
       " {'contract': 'one_year', 'tenure': 56, 'monthlycharges': 94.8},\n",
       " {'contract': 'one_year', 'tenure': 66, 'monthlycharges': 108.1},\n",
       " {'contract': 'month-to-month', 'tenure': 11, 'monthlycharges': 64.9},\n",
       " {'contract': 'one_year', 'tenure': 46, 'monthlycharges': 69.1},\n",
       " {'contract': 'month-to-month', 'tenure': 33, 'monthlycharges': 50.0},\n",
       " {'contract': 'month-to-month', 'tenure': 54, 'monthlycharges': 104.1},\n",
       " {'contract': 'two_year', 'tenure': 72, 'monthlycharges': 65.6},\n",
       " {'contract': 'month-to-month', 'tenure': 54, 'monthlycharges': 24.95},\n",
       " {'contract': 'month-to-month', 'tenure': 55, 'monthlycharges': 73.1},\n",
       " {'contract': 'one_year', 'tenure': 68, 'monthlycharges': 100.3},\n",
       " {'contract': 'two_year', 'tenure': 72, 'monthlycharges': 66.85},\n",
       " {'contract': 'two_year', 'tenure': 18, 'monthlycharges': 24.65},\n",
       " {'contract': 'month-to-month', 'tenure': 52, 'monthlycharges': 109.1},\n",
       " {'contract': 'one_year', 'tenure': 54, 'monthlycharges': 105.2},\n",
       " {'contract': 'one_year', 'tenure': 17, 'monthlycharges': 19.9},\n",
       " {'contract': 'one_year', 'tenure': 33, 'monthlycharges': 93.55},\n",
       " {'contract': 'one_year', 'tenure': 61, 'monthlycharges': 103.95},\n",
       " {'contract': 'month-to-month', 'tenure': 1, 'monthlycharges': 90.1},\n",
       " {'contract': 'two_year', 'tenure': 71, 'monthlycharges': 82.7},\n",
       " {'contract': 'two_year', 'tenure': 6, 'monthlycharges': 63.4},\n",
       " {'contract': 'two_year', 'tenure': 69, 'monthlycharges': 81.95},\n",
       " {'contract': 'month-to-month', 'tenure': 9, 'monthlycharges': 83.3},\n",
       " {'contract': 'month-to-month', 'tenure': 34, 'monthlycharges': 100.05},\n",
       " {'contract': 'two_year', 'tenure': 60, 'monthlycharges': 60.8},\n",
       " {'contract': 'one_year', 'tenure': 51, 'monthlycharges': 23.95},\n",
       " {'contract': 'two_year', 'tenure': 43, 'monthlycharges': 75.2},\n",
       " {'contract': 'one_year', 'tenure': 42, 'monthlycharges': 63.7},\n",
       " {'contract': 'month-to-month', 'tenure': 29, 'monthlycharges': 51.6},\n",
       " {'contract': 'month-to-month', 'tenure': 3, 'monthlycharges': 89.45},\n",
       " {'contract': 'one_year', 'tenure': 46, 'monthlycharges': 24.45},\n",
       " {'contract': 'month-to-month', 'tenure': 17, 'monthlycharges': 89.4},\n",
       " {'contract': 'one_year', 'tenure': 43, 'monthlycharges': 85.1},\n",
       " {'contract': 'month-to-month', 'tenure': 45, 'monthlycharges': 108.45},\n",
       " {'contract': 'two_year', 'tenure': 72, 'monthlycharges': 109.95},\n",
       " {'contract': 'month-to-month', 'tenure': 4, 'monthlycharges': 29.05},\n",
       " {'contract': 'month-to-month', 'tenure': 7, 'monthlycharges': 18.95},\n",
       " {'contract': 'month-to-month', 'tenure': 2, 'monthlycharges': 79.75},\n",
       " {'contract': 'month-to-month', 'tenure': 1, 'monthlycharges': 25.1},\n",
       " {'contract': 'month-to-month', 'tenure': 7, 'monthlycharges': 75.35},\n",
       " {'contract': 'month-to-month', 'tenure': 8, 'monthlycharges': 69.7},\n",
       " {'contract': 'month-to-month', 'tenure': 15, 'monthlycharges': 75.1},\n",
       " {'contract': 'month-to-month', 'tenure': 45, 'monthlycharges': 115.65},\n",
       " {'contract': 'month-to-month', 'tenure': 32, 'monthlycharges': 79.3},\n",
       " {'contract': 'one_year', 'tenure': 15, 'monthlycharges': 50.75},\n",
       " {'contract': 'one_year', 'tenure': 19, 'monthlycharges': 87.7},\n",
       " {'contract': 'month-to-month', 'tenure': 8, 'monthlycharges': 100.6},\n",
       " {'contract': 'month-to-month', 'tenure': 9, 'monthlycharges': 58.5},\n",
       " {'contract': 'month-to-month', 'tenure': 41, 'monthlycharges': 106.5},\n",
       " {'contract': 'month-to-month', 'tenure': 2, 'monthlycharges': 86.2},\n",
       " {'contract': 'month-to-month', 'tenure': 1, 'monthlycharges': 20.6},\n",
       " {'contract': 'one_year', 'tenure': 28, 'monthlycharges': 92.9},\n",
       " {'contract': 'month-to-month', 'tenure': 67, 'monthlycharges': 101.4},\n",
       " {'contract': 'two_year', 'tenure': 72, 'monthlycharges': 111.65},\n",
       " {'contract': 'two_year', 'tenure': 63, 'monthlycharges': 97.45},\n",
       " {'contract': 'two_year', 'tenure': 47, 'monthlycharges': 20.05},\n",
       " {'contract': 'two_year', 'tenure': 15, 'monthlycharges': 19.35},\n",
       " {'contract': 'month-to-month', 'tenure': 4, 'monthlycharges': 70.05},\n",
       " {'contract': 'month-to-month', 'tenure': 5, 'monthlycharges': 51.0},\n",
       " {'contract': 'month-to-month', 'tenure': 24, 'monthlycharges': 79.85},\n",
       " {'contract': 'month-to-month', 'tenure': 4, 'monthlycharges': 70.65},\n",
       " {'contract': 'month-to-month', 'tenure': 24, 'monthlycharges': 79.85},\n",
       " {'contract': 'one_year', 'tenure': 40, 'monthlycharges': 103.75},\n",
       " {'contract': 'month-to-month', 'tenure': 14, 'monthlycharges': 86.3},\n",
       " {'contract': 'month-to-month', 'tenure': 1, 'monthlycharges': 45.3},\n",
       " {'contract': 'month-to-month', 'tenure': 25, 'monthlycharges': 65.8},\n",
       " {'contract': 'month-to-month', 'tenure': 7, 'monthlycharges': 34.5},\n",
       " {'contract': 'month-to-month', 'tenure': 1, 'monthlycharges': 20.25},\n",
       " {'contract': 'two_year', 'tenure': 27, 'monthlycharges': 19.85},\n",
       " {'contract': 'month-to-month', 'tenure': 1, 'monthlycharges': 19.3},\n",
       " {'contract': 'month-to-month', 'tenure': 7, 'monthlycharges': 71.35},\n",
       " {'contract': 'two_year', 'tenure': 55, 'monthlycharges': 85.1},\n",
       " {'contract': 'month-to-month', 'tenure': 2, 'monthlycharges': 80.15},\n",
       " {'contract': 'month-to-month', 'tenure': 23, 'monthlycharges': 85.6},\n",
       " {'contract': 'two_year', 'tenure': 70, 'monthlycharges': 98.3},\n",
       " {'contract': 'month-to-month', 'tenure': 2, 'monthlycharges': 95.5},\n",
       " {'contract': 'two_year', 'tenure': 48, 'monthlycharges': 19.25},\n",
       " {'contract': 'month-to-month', 'tenure': 67, 'monthlycharges': 75.7},\n",
       " {'contract': 'one_year', 'tenure': 40, 'monthlycharges': 60.3},\n",
       " {'contract': 'one_year', 'tenure': 35, 'monthlycharges': 73.45},\n",
       " {'contract': 'one_year', 'tenure': 9, 'monthlycharges': 20.15},\n",
       " {'contract': 'two_year', 'tenure': 47, 'monthlycharges': 19.65},\n",
       " {'contract': 'one_year', 'tenure': 51, 'monthlycharges': 94.0},\n",
       " {'contract': 'month-to-month', 'tenure': 2, 'monthlycharges': 85.65},\n",
       " {'contract': 'one_year', 'tenure': 60, 'monthlycharges': 79.2},\n",
       " {'contract': 'month-to-month', 'tenure': 1, 'monthlycharges': 84.6},\n",
       " {'contract': 'month-to-month', 'tenure': 3, 'monthlycharges': 69.35},\n",
       " {'contract': 'month-to-month', 'tenure': 2, 'monthlycharges': 80.25},\n",
       " {'contract': 'month-to-month', 'tenure': 64, 'monthlycharges': 99.15},\n",
       " {'contract': 'month-to-month', 'tenure': 30, 'monthlycharges': 94.1},\n",
       " {'contract': 'month-to-month', 'tenure': 2, 'monthlycharges': 44.95},\n",
       " {'contract': 'month-to-month', 'tenure': 22, 'monthlycharges': 95.1},\n",
       " {'contract': 'month-to-month', 'tenure': 1, 'monthlycharges': 49.9},\n",
       " {'contract': 'month-to-month', 'tenure': 16, 'monthlycharges': 69.1},\n",
       " {'contract': 'two_year', 'tenure': 68, 'monthlycharges': 82.85},\n",
       " {'contract': 'month-to-month', 'tenure': 8, 'monthlycharges': 80.1},\n",
       " {'contract': 'one_year', 'tenure': 47, 'monthlycharges': 58.9},\n",
       " {'contract': 'two_year', 'tenure': 69, 'monthlycharges': 86.9},\n",
       " {'contract': 'month-to-month', 'tenure': 4, 'monthlycharges': 19.0},\n",
       " {'contract': 'month-to-month', 'tenure': 8, 'monthlycharges': 94.7},\n",
       " {'contract': 'month-to-month', 'tenure': 1, 'monthlycharges': 44.9},\n",
       " {'contract': 'two_year', 'tenure': 35, 'monthlycharges': 19.25},\n",
       " {'contract': 'two_year', 'tenure': 61, 'monthlycharges': 94.1},\n",
       " {'contract': 'month-to-month', 'tenure': 6, 'monthlycharges': 44.75},\n",
       " {'contract': 'one_year', 'tenure': 40, 'monthlycharges': 106.0},\n",
       " {'contract': 'month-to-month', 'tenure': 30, 'monthlycharges': 66.3},\n",
       " {'contract': 'one_year', 'tenure': 37, 'monthlycharges': 90.6},\n",
       " {'contract': 'month-to-month', 'tenure': 7, 'monthlycharges': 24.7},\n",
       " {'contract': 'one_year', 'tenure': 33, 'monthlycharges': 103.7},\n",
       " {'contract': 'month-to-month', 'tenure': 18, 'monthlycharges': 90.7},\n",
       " {'contract': 'month-to-month', 'tenure': 7, 'monthlycharges': 48.7},\n",
       " {'contract': 'two_year', 'tenure': 60, 'monthlycharges': 110.0},\n",
       " {'contract': 'month-to-month', 'tenure': 3, 'monthlycharges': 40.3},\n",
       " {'contract': 'month-to-month', 'tenure': 24, 'monthlycharges': 104.25},\n",
       " {'contract': 'month-to-month', 'tenure': 23, 'monthlycharges': 104.45},\n",
       " {'contract': 'month-to-month', 'tenure': 1, 'monthlycharges': 95.6},\n",
       " {'contract': 'month-to-month', 'tenure': 1, 'monthlycharges': 49.95},\n",
       " {'contract': 'month-to-month', 'tenure': 12, 'monthlycharges': 99.45},\n",
       " {'contract': 'month-to-month', 'tenure': 6, 'monthlycharges': 19.5},\n",
       " {'contract': 'month-to-month', 'tenure': 12, 'monthlycharges': 91.3},\n",
       " {'contract': 'month-to-month', 'tenure': 1, 'monthlycharges': 24.8},\n",
       " {'contract': 'month-to-month', 'tenure': 44, 'monthlycharges': 95.1},\n",
       " {'contract': 'two_year', 'tenure': 71, 'monthlycharges': 24.75},\n",
       " {'contract': 'month-to-month', 'tenure': 48, 'monthlycharges': 45.3},\n",
       " {'contract': 'month-to-month', 'tenure': 50, 'monthlycharges': 95.7},\n",
       " {'contract': 'one_year', 'tenure': 29, 'monthlycharges': 58.75},\n",
       " {'contract': 'month-to-month', 'tenure': 6, 'monthlycharges': 59.15},\n",
       " {'contract': 'month-to-month', 'tenure': 1, 'monthlycharges': 70.05},\n",
       " {'contract': 'month-to-month', 'tenure': 1, 'monthlycharges': 69.95},\n",
       " {'contract': 'one_year', 'tenure': 32, 'monthlycharges': 20.55},\n",
       " {'contract': 'month-to-month', 'tenure': 2, 'monthlycharges': 24.5},\n",
       " {'contract': 'two_year', 'tenure': 39, 'monthlycharges': 20.7},\n",
       " {'contract': 'two_year', 'tenure': 57, 'monthlycharges': 79.75},\n",
       " {'contract': 'month-to-month', 'tenure': 26, 'monthlycharges': 80.5},\n",
       " {'contract': 'one_year', 'tenure': 27, 'monthlycharges': 20.3},\n",
       " {'contract': 'one_year', 'tenure': 31, 'monthlycharges': 20.1},\n",
       " {'contract': 'month-to-month', 'tenure': 35, 'monthlycharges': 20.75},\n",
       " {'contract': 'month-to-month', 'tenure': 14, 'monthlycharges': 92.9},\n",
       " {'contract': 'two_year', 'tenure': 72, 'monthlycharges': 88.6},\n",
       " {'contract': 'month-to-month', 'tenure': 1, 'monthlycharges': 20.3},\n",
       " {'contract': 'one_year', 'tenure': 48, 'monthlycharges': 75.15},\n",
       " {'contract': 'month-to-month', 'tenure': 6, 'monthlycharges': 55.3},\n",
       " {'contract': 'month-to-month', 'tenure': 20, 'monthlycharges': 94.1},\n",
       " {'contract': 'month-to-month', 'tenure': 1, 'monthlycharges': 70.25},\n",
       " {'contract': 'two_year', 'tenure': 72, 'monthlycharges': 21.15},\n",
       " {'contract': 'one_year', 'tenure': 44, 'monthlycharges': 59.85},\n",
       " {'contract': 'two_year', 'tenure': 72, 'monthlycharges': 24.55},\n",
       " {'contract': 'month-to-month', 'tenure': 1, 'monthlycharges': 74.7},\n",
       " {'contract': 'month-to-month', 'tenure': 16, 'monthlycharges': 80.75},\n",
       " {'contract': 'month-to-month', 'tenure': 11, 'monthlycharges': 99.55},\n",
       " {'contract': 'two_year', 'tenure': 64, 'monthlycharges': 60.05},\n",
       " {'contract': 'one_year', 'tenure': 22, 'monthlycharges': 78.65},\n",
       " {'contract': 'month-to-month', 'tenure': 15, 'monthlycharges': 87.75},\n",
       " {'contract': 'two_year', 'tenure': 13, 'monthlycharges': 19.55},\n",
       " {'contract': 'one_year', 'tenure': 48, 'monthlycharges': 24.55},\n",
       " {'contract': 'month-to-month', 'tenure': 15, 'monthlycharges': 75.35},\n",
       " {'contract': 'month-to-month', 'tenure': 26, 'monthlycharges': 95.0},\n",
       " {'contract': 'month-to-month', 'tenure': 40, 'monthlycharges': 101.85},\n",
       " {'contract': 'one_year', 'tenure': 31, 'monthlycharges': 93.8},\n",
       " {'contract': 'two_year', 'tenure': 66, 'monthlycharges': 47.4},\n",
       " {'contract': 'two_year', 'tenure': 72, 'monthlycharges': 109.7},\n",
       " {'contract': 'two_year', 'tenure': 52, 'monthlycharges': 63.9},\n",
       " {'contract': 'month-to-month', 'tenure': 2, 'monthlycharges': 45.85},\n",
       " {'contract': 'two_year', 'tenure': 71, 'monthlycharges': 23.9},\n",
       " {'contract': 'one_year', 'tenure': 42, 'monthlycharges': 73.9},\n",
       " {'contract': 'two_year', 'tenure': 62, 'monthlycharges': 39.0},\n",
       " {'contract': 'month-to-month', 'tenure': 2, 'monthlycharges': 50.2},\n",
       " {'contract': 'month-to-month', 'tenure': 34, 'monthlycharges': 69.15},\n",
       " {'contract': 'month-to-month', 'tenure': 11, 'monthlycharges': 79.0},\n",
       " {'contract': 'one_year', 'tenure': 61, 'monthlycharges': 49.7},\n",
       " {'contract': 'month-to-month', 'tenure': 3, 'monthlycharges': 20.2},\n",
       " {'contract': 'month-to-month', 'tenure': 1, 'monthlycharges': 20.4},\n",
       " {'contract': 'one_year', 'tenure': 40, 'monthlycharges': 62.05},\n",
       " {'contract': 'two_year', 'tenure': 46, 'monthlycharges': 108.9},\n",
       " {'contract': 'month-to-month', 'tenure': 1, 'monthlycharges': 47.95},\n",
       " {'contract': 'month-to-month', 'tenure': 12, 'monthlycharges': 69.85},\n",
       " {'contract': 'two_year', 'tenure': 72, 'monthlycharges': 83.7},\n",
       " {'contract': 'one_year', 'tenure': 41, 'monthlycharges': 78.35},\n",
       " {'contract': 'one_year', 'tenure': 38, 'monthlycharges': 70.6},\n",
       " {'contract': 'month-to-month', 'tenure': 3, 'monthlycharges': 80.1},\n",
       " {'contract': 'month-to-month', 'tenure': 18, 'monthlycharges': 95.45},\n",
       " {'contract': 'month-to-month', 'tenure': 31, 'monthlycharges': 83.85},\n",
       " {'contract': 'two_year', 'tenure': 58, 'monthlycharges': 71.6},\n",
       " {'contract': 'month-to-month', 'tenure': 18, 'monthlycharges': 50.0},\n",
       " {'contract': 'month-to-month', 'tenure': 20, 'monthlycharges': 55.0},\n",
       " {'contract': 'month-to-month', 'tenure': 7, 'monthlycharges': 25.05},\n",
       " {'contract': 'month-to-month', 'tenure': 46, 'monthlycharges': 80.0},\n",
       " {'contract': 'month-to-month', 'tenure': 14, 'monthlycharges': 78.1},\n",
       " {'contract': 'month-to-month', 'tenure': 1, 'monthlycharges': 80.15},\n",
       " {'contract': 'one_year', 'tenure': 55, 'monthlycharges': 19.5},\n",
       " {'contract': 'month-to-month', 'tenure': 11, 'monthlycharges': 70.5},\n",
       " {'contract': 'month-to-month', 'tenure': 8, 'monthlycharges': 54.65},\n",
       " {'contract': 'month-to-month', 'tenure': 29, 'monthlycharges': 78.9},\n",
       " {'contract': 'two_year', 'tenure': 70, 'monthlycharges': 76.95},\n",
       " {'contract': 'one_year', 'tenure': 29, 'monthlycharges': 35.6},\n",
       " {'contract': 'one_year', 'tenure': 38, 'monthlycharges': 19.3},\n",
       " {'contract': 'two_year', 'tenure': 57, 'monthlycharges': 20.75},\n",
       " {'contract': 'one_year', 'tenure': 11, 'monthlycharges': 61.25},\n",
       " {'contract': 'month-to-month', 'tenure': 23, 'monthlycharges': 90.0},\n",
       " {'contract': 'month-to-month', 'tenure': 41, 'monthlycharges': 74.25},\n",
       " {'contract': 'month-to-month', 'tenure': 3, 'monthlycharges': 20.05},\n",
       " {'contract': 'month-to-month', 'tenure': 45, 'monthlycharges': 95.95},\n",
       " {'contract': 'two_year', 'tenure': 70, 'monthlycharges': 110.2},\n",
       " {'contract': 'month-to-month', 'tenure': 1, 'monthlycharges': 50.9},\n",
       " {'contract': 'month-to-month', 'tenure': 3, 'monthlycharges': 55.9},\n",
       " {'contract': 'two_year', 'tenure': 63, 'monthlycharges': 83.5},\n",
       " {'contract': 'month-to-month', 'tenure': 5, 'monthlycharges': 20.35},\n",
       " {'contract': 'one_year', 'tenure': 29, 'monthlycharges': 19.85},\n",
       " {'contract': 'two_year', 'tenure': 72, 'monthlycharges': 107.5},\n",
       " {'contract': 'two_year', 'tenure': 71, 'monthlycharges': 58.25},\n",
       " {'contract': 'two_year', 'tenure': 18, 'monthlycharges': 20.05},\n",
       " {'contract': 'two_year', 'tenure': 3, 'monthlycharges': 19.1},\n",
       " {'contract': 'month-to-month', 'tenure': 4, 'monthlycharges': 74.35},\n",
       " {'contract': 'month-to-month', 'tenure': 2, 'monthlycharges': 55.3},\n",
       " {'contract': 'two_year', 'tenure': 60, 'monthlycharges': 61.4},\n",
       " {'contract': 'two_year', 'tenure': 72, 'monthlycharges': 69.65},\n",
       " {'contract': 'two_year', 'tenure': 68, 'monthlycharges': 85.0},\n",
       " {'contract': 'two_year', 'tenure': 38, 'monthlycharges': 60.0},\n",
       " {'contract': 'two_year', 'tenure': 58, 'monthlycharges': 20.8},\n",
       " {'contract': 'month-to-month', 'tenure': 6, 'monthlycharges': 105.3},\n",
       " {'contract': 'one_year', 'tenure': 52, 'monthlycharges': 57.95},\n",
       " {'contract': 'month-to-month', 'tenure': 19, 'monthlycharges': 89.95},\n",
       " {'contract': 'month-to-month', 'tenure': 8, 'monthlycharges': 60.9},\n",
       " {'contract': 'month-to-month', 'tenure': 1, 'monthlycharges': 19.1},\n",
       " {'contract': 'one_year', 'tenure': 37, 'monthlycharges': 104.5},\n",
       " {'contract': 'month-to-month', 'tenure': 6, 'monthlycharges': 60.9},\n",
       " {'contract': 'month-to-month', 'tenure': 1, 'monthlycharges': 19.95},\n",
       " {'contract': 'month-to-month', 'tenure': 3, 'monthlycharges': 73.85},\n",
       " {'contract': 'month-to-month', 'tenure': 2, 'monthlycharges': 30.4},\n",
       " {'contract': 'one_year', 'tenure': 43, 'monthlycharges': 100.55},\n",
       " {'contract': 'one_year', 'tenure': 43, 'monthlycharges': 84.25},\n",
       " {'contract': 'month-to-month', 'tenure': 14, 'monthlycharges': 80.35},\n",
       " {'contract': 'month-to-month', 'tenure': 3, 'monthlycharges': 69.55},\n",
       " {'contract': 'month-to-month', 'tenure': 10, 'monthlycharges': 19.85},\n",
       " {'contract': 'month-to-month', 'tenure': 12, 'monthlycharges': 19.7},\n",
       " {'contract': 'month-to-month', 'tenure': 5, 'monthlycharges': 85.55},\n",
       " {'contract': 'month-to-month', 'tenure': 67, 'monthlycharges': 102.95},\n",
       " {'contract': 'month-to-month', 'tenure': 11, 'monthlycharges': 86.2},\n",
       " {'contract': 'two_year', 'tenure': 68, 'monthlycharges': 84.7},\n",
       " {'contract': 'month-to-month', 'tenure': 34, 'monthlycharges': 97.65},\n",
       " {'contract': 'month-to-month', 'tenure': 2, 'monthlycharges': 54.4},\n",
       " {'contract': 'month-to-month', 'tenure': 44, 'monthlycharges': 85.15},\n",
       " {'contract': 'two_year', 'tenure': 71, 'monthlycharges': 64.05},\n",
       " {'contract': 'month-to-month', 'tenure': 10, 'monthlycharges': 72.15},\n",
       " {'contract': 'one_year', 'tenure': 30, 'monthlycharges': 68.95},\n",
       " {'contract': 'two_year', 'tenure': 43, 'monthlycharges': 78.8},\n",
       " {'contract': 'one_year', 'tenure': 32, 'monthlycharges': 19.3},\n",
       " {'contract': 'month-to-month', 'tenure': 1, 'monthlycharges': 70.55},\n",
       " {'contract': 'month-to-month', 'tenure': 11, 'monthlycharges': 20.25},\n",
       " {'contract': 'month-to-month', 'tenure': 29, 'monthlycharges': 99.05},\n",
       " {'contract': 'two_year', 'tenure': 0, 'monthlycharges': 20.25},\n",
       " {'contract': 'one_year', 'tenure': 19, 'monthlycharges': 100.0},\n",
       " {'contract': 'month-to-month', 'tenure': 40, 'monthlycharges': 102.65},\n",
       " {'contract': 'one_year', 'tenure': 28, 'monthlycharges': 90.1},\n",
       " {'contract': 'month-to-month', 'tenure': 27, 'monthlycharges': 19.15},\n",
       " {'contract': 'two_year', 'tenure': 22, 'monthlycharges': 25.25},\n",
       " {'contract': 'one_year', 'tenure': 69, 'monthlycharges': 73.7},\n",
       " {'contract': 'two_year', 'tenure': 52, 'monthlycharges': 58.75},\n",
       " {'contract': 'month-to-month', 'tenure': 3, 'monthlycharges': 20.5},\n",
       " {'contract': 'month-to-month', 'tenure': 16, 'monthlycharges': 98.75},\n",
       " {'contract': 'month-to-month', 'tenure': 71, 'monthlycharges': 107.5},\n",
       " {'contract': 'two_year', 'tenure': 72, 'monthlycharges': 102.65},\n",
       " {'contract': 'two_year', 'tenure': 6, 'monthlycharges': 19.65},\n",
       " {'contract': 'two_year', 'tenure': 70, 'monthlycharges': 75.35},\n",
       " {'contract': 'month-to-month', 'tenure': 1, 'monthlycharges': 20.65},\n",
       " {'contract': 'month-to-month', 'tenure': 18, 'monthlycharges': 74.15},\n",
       " {'contract': 'month-to-month', 'tenure': 5, 'monthlycharges': 85.4},\n",
       " {'contract': 'month-to-month', 'tenure': 1, 'monthlycharges': 20.2},\n",
       " {'contract': 'month-to-month', 'tenure': 12, 'monthlycharges': 98.1},\n",
       " {'contract': 'two_year', 'tenure': 72, 'monthlycharges': 42.1},\n",
       " {'contract': 'month-to-month', 'tenure': 6, 'monthlycharges': 47.95},\n",
       " {'contract': 'month-to-month', 'tenure': 1, 'monthlycharges': 85.0},\n",
       " {'contract': 'month-to-month', 'tenure': 26, 'monthlycharges': 78.8},\n",
       " {'contract': 'month-to-month', 'tenure': 33, 'monthlycharges': 100.0},\n",
       " {'contract': 'month-to-month', 'tenure': 31, 'monthlycharges': 73.9},\n",
       " {'contract': 'one_year', 'tenure': 23, 'monthlycharges': 19.3},\n",
       " {'contract': 'month-to-month', 'tenure': 1, 'monthlycharges': 75.5},\n",
       " {'contract': 'month-to-month', 'tenure': 15, 'monthlycharges': 83.05},\n",
       " {'contract': 'month-to-month', 'tenure': 14, 'monthlycharges': 71.0},\n",
       " {'contract': 'one_year', 'tenure': 43, 'monthlycharges': 60.4},\n",
       " {'contract': 'two_year', 'tenure': 64, 'monthlycharges': 19.45},\n",
       " {'contract': 'month-to-month', 'tenure': 19, 'monthlycharges': 49.6},\n",
       " {'contract': 'month-to-month', 'tenure': 59, 'monthlycharges': 89.75},\n",
       " {'contract': 'month-to-month', 'tenure': 3, 'monthlycharges': 57.55},\n",
       " {'contract': 'month-to-month', 'tenure': 15, 'monthlycharges': 64.65},\n",
       " {'contract': 'month-to-month', 'tenure': 7, 'monthlycharges': 84.35},\n",
       " {'contract': 'month-to-month', 'tenure': 7, 'monthlycharges': 20.35},\n",
       " {'contract': 'month-to-month', 'tenure': 37, 'monthlycharges': 76.5},\n",
       " {'contract': 'month-to-month', 'tenure': 2, 'monthlycharges': 70.3},\n",
       " {'contract': 'month-to-month', 'tenure': 21, 'monthlycharges': 69.1},\n",
       " {'contract': 'month-to-month', 'tenure': 19, 'monthlycharges': 88.8},\n",
       " {'contract': 'one_year', 'tenure': 66, 'monthlycharges': 63.85},\n",
       " {'contract': 'month-to-month', 'tenure': 4, 'monthlycharges': 60.4},\n",
       " {'contract': 'two_year', 'tenure': 69, 'monthlycharges': 109.95},\n",
       " {'contract': 'month-to-month', 'tenure': 8, 'monthlycharges': 100.15},\n",
       " {'contract': 'two_year', 'tenure': 69, 'monthlycharges': 112.55},\n",
       " {'contract': 'month-to-month', 'tenure': 2, 'monthlycharges': 50.3},\n",
       " {'contract': 'month-to-month', 'tenure': 1, 'monthlycharges': 45.95},\n",
       " {'contract': 'two_year', 'tenure': 55, 'monthlycharges': 59.2},\n",
       " {'contract': 'one_year', 'tenure': 18, 'monthlycharges': 20.1},\n",
       " {'contract': 'one_year', 'tenure': 64, 'monthlycharges': 58.35},\n",
       " {'contract': 'month-to-month', 'tenure': 6, 'monthlycharges': 55.0},\n",
       " {'contract': 'two_year', 'tenure': 69, 'monthlycharges': 99.15},\n",
       " {'contract': 'one_year', 'tenure': 40, 'monthlycharges': 70.75},\n",
       " {'contract': 'month-to-month', 'tenure': 30, 'monthlycharges': 90.05},\n",
       " {'contract': 'two_year', 'tenure': 72, 'monthlycharges': 64.8},\n",
       " {'contract': 'two_year', 'tenure': 25, 'monthlycharges': 20.1},\n",
       " {'contract': 'two_year', 'tenure': 50, 'monthlycharges': 109.65},\n",
       " {'contract': 'month-to-month', 'tenure': 5, 'monthlycharges': 80.15},\n",
       " {'contract': 'month-to-month', 'tenure': 30, 'monthlycharges': 101.3},\n",
       " {'contract': 'two_year', 'tenure': 41, 'monthlycharges': 20.65},\n",
       " {'contract': 'month-to-month', 'tenure': 56, 'monthlycharges': 105.35},\n",
       " {'contract': 'one_year', 'tenure': 70, 'monthlycharges': 58.4},\n",
       " {'contract': 'month-to-month', 'tenure': 7, 'monthlycharges': 20.65},\n",
       " {'contract': 'month-to-month', 'tenure': 1, 'monthlycharges': 20.3},\n",
       " {'contract': 'one_year', 'tenure': 38, 'monthlycharges': 84.1},\n",
       " {'contract': 'month-to-month', 'tenure': 23, 'monthlycharges': 79.15},\n",
       " {'contract': 'two_year', 'tenure': 72, 'monthlycharges': 25.1},\n",
       " {'contract': 'month-to-month', 'tenure': 5, 'monthlycharges': 75.15},\n",
       " {'contract': 'month-to-month', 'tenure': 20, 'monthlycharges': 80.7},\n",
       " {'contract': 'month-to-month', 'tenure': 9, 'monthlycharges': 85.05},\n",
       " {'contract': 'month-to-month', 'tenure': 29, 'monthlycharges': 74.95},\n",
       " {'contract': 'month-to-month', 'tenure': 11, 'monthlycharges': 59.65},\n",
       " {'contract': 'month-to-month', 'tenure': 51, 'monthlycharges': 80.75},\n",
       " {'contract': 'month-to-month', 'tenure': 2, 'monthlycharges': 44.9},\n",
       " {'contract': 'month-to-month', 'tenure': 39, 'monthlycharges': 99.75},\n",
       " {'contract': 'month-to-month', 'tenure': 26, 'monthlycharges': 49.5},\n",
       " {'contract': 'month-to-month', 'tenure': 6, 'monthlycharges': 19.7},\n",
       " {'contract': 'two_year', 'tenure': 57, 'monthlycharges': 59.75},\n",
       " {'contract': 'month-to-month', 'tenure': 4, 'monthlycharges': 100.2},\n",
       " {'contract': 'month-to-month', 'tenure': 3, 'monthlycharges': 29.6},\n",
       " {'contract': 'one_year', 'tenure': 28, 'monthlycharges': 100.35},\n",
       " {'contract': 'one_year', 'tenure': 32, 'monthlycharges': 70.5},\n",
       " {'contract': 'one_year', 'tenure': 36, 'monthlycharges': 20.35},\n",
       " {'contract': 'month-to-month', 'tenure': 27, 'monthlycharges': 50.35},\n",
       " {'contract': 'month-to-month', 'tenure': 3, 'monthlycharges': 69.15},\n",
       " {'contract': 'two_year', 'tenure': 62, 'monthlycharges': 84.5},\n",
       " {'contract': 'one_year', 'tenure': 49, 'monthlycharges': 20.45},\n",
       " {'contract': 'month-to-month', 'tenure': 19, 'monthlycharges': 59.55},\n",
       " {'contract': 'month-to-month', 'tenure': 5, 'monthlycharges': 45.4},\n",
       " {'contract': 'month-to-month', 'tenure': 1, 'monthlycharges': 89.35},\n",
       " {'contract': 'month-to-month', 'tenure': 3, 'monthlycharges': 23.6},\n",
       " {'contract': 'month-to-month', 'tenure': 10, 'monthlycharges': 20.55},\n",
       " {'contract': 'one_year', 'tenure': 33, 'monthlycharges': 79.15},\n",
       " {'contract': 'month-to-month', 'tenure': 14, 'monthlycharges': 25.55},\n",
       " {'contract': 'month-to-month', 'tenure': 61, 'monthlycharges': 82.15},\n",
       " {'contract': 'month-to-month', 'tenure': 1, 'monthlycharges': 25.0},\n",
       " {'contract': 'month-to-month', 'tenure': 1, 'monthlycharges': 55.7},\n",
       " {'contract': 'month-to-month', 'tenure': 18, 'monthlycharges': 75.9},\n",
       " {'contract': 'month-to-month', 'tenure': 60, 'monthlycharges': 99.8},\n",
       " {'contract': 'month-to-month', 'tenure': 7, 'monthlycharges': 85.2},\n",
       " {'contract': 'one_year', 'tenure': 15, 'monthlycharges': 20.1},\n",
       " {'contract': 'month-to-month', 'tenure': 1, 'monthlycharges': 24.4},\n",
       " {'contract': 'one_year', 'tenure': 17, 'monthlycharges': 44.45},\n",
       " {'contract': 'two_year', 'tenure': 72, 'monthlycharges': 83.3},\n",
       " {'contract': 'month-to-month', 'tenure': 39, 'monthlycharges': 81.5},\n",
       " {'contract': 'month-to-month', 'tenure': 7, 'monthlycharges': 94.7},\n",
       " {'contract': 'one_year', 'tenure': 30, 'monthlycharges': 85.35},\n",
       " {'contract': 'month-to-month', 'tenure': 32, 'monthlycharges': 69.75},\n",
       " {'contract': 'two_year', 'tenure': 58, 'monthlycharges': 70.1},\n",
       " {'contract': 'one_year', 'tenure': 68, 'monthlycharges': 75.8},\n",
       " {'contract': 'two_year', 'tenure': 64, 'monthlycharges': 68.3},\n",
       " {'contract': 'two_year', 'tenure': 35, 'monthlycharges': 69.15},\n",
       " {'contract': 'two_year', 'tenure': 72, 'monthlycharges': 65.65},\n",
       " {'contract': 'two_year', 'tenure': 72, 'monthlycharges': 91.15},\n",
       " {'contract': 'month-to-month', 'tenure': 2, 'monthlycharges': 74.4},\n",
       " {'contract': 'two_year', 'tenure': 66, 'monthlycharges': 56.75},\n",
       " {'contract': 'two_year', 'tenure': 65, 'monthlycharges': 74.8},\n",
       " {'contract': 'one_year', 'tenure': 61, 'monthlycharges': 115.1},\n",
       " {'contract': 'month-to-month', 'tenure': 17, 'monthlycharges': 83.55},\n",
       " {'contract': 'month-to-month', 'tenure': 1, 'monthlycharges': 25.75},\n",
       " {'contract': 'one_year', 'tenure': 38, 'monthlycharges': 24.25},\n",
       " {'contract': 'month-to-month', 'tenure': 22, 'monthlycharges': 55.1},\n",
       " {'contract': 'month-to-month', 'tenure': 1, 'monthlycharges': 25.3},\n",
       " {'contract': 'month-to-month', 'tenure': 21, 'monthlycharges': 44.95},\n",
       " {'contract': 'one_year', 'tenure': 68, 'monthlycharges': 76.9},\n",
       " {'contract': 'month-to-month', 'tenure': 39, 'monthlycharges': 50.65},\n",
       " {'contract': 'month-to-month', 'tenure': 35, 'monthlycharges': 55.0},\n",
       " {'contract': 'two_year', 'tenure': 52, 'monthlycharges': 66.25},\n",
       " {'contract': 'two_year', 'tenure': 71, 'monthlycharges': 104.15},\n",
       " {'contract': 'month-to-month', 'tenure': 1, 'monthlycharges': 59.2},\n",
       " {'contract': 'month-to-month', 'tenure': 43, 'monthlycharges': 103.0},\n",
       " {'contract': 'one_year', 'tenure': 72, 'monthlycharges': 104.45},\n",
       " {'contract': 'two_year', 'tenure': 8, 'monthlycharges': 19.85},\n",
       " {'contract': 'one_year', 'tenure': 34, 'monthlycharges': 99.85},\n",
       " {'contract': 'month-to-month', 'tenure': 1, 'monthlycharges': 20.0},\n",
       " {'contract': 'two_year', 'tenure': 72, 'monthlycharges': 108.3},\n",
       " {'contract': 'one_year', 'tenure': 11, 'monthlycharges': 64.9},\n",
       " {'contract': 'one_year', 'tenure': 16, 'monthlycharges': 55.85},\n",
       " {'contract': 'month-to-month', 'tenure': 45, 'monthlycharges': 100.85},\n",
       " {'contract': 'month-to-month', 'tenure': 16, 'monthlycharges': 89.05},\n",
       " {'contract': 'month-to-month', 'tenure': 37, 'monthlycharges': 72.25},\n",
       " {'contract': 'month-to-month', 'tenure': 16, 'monthlycharges': 20.6},\n",
       " {'contract': 'one_year', 'tenure': 25, 'monthlycharges': 19.9},\n",
       " {'contract': 'one_year', 'tenure': 10, 'monthlycharges': 49.55},\n",
       " {'contract': 'one_year', 'tenure': 26, 'monthlycharges': 61.55},\n",
       " {'contract': 'month-to-month', 'tenure': 42, 'monthlycharges': 101.75},\n",
       " {'contract': 'two_year', 'tenure': 45, 'monthlycharges': 24.45},\n",
       " {'contract': 'month-to-month', 'tenure': 47, 'monthlycharges': 106.4},\n",
       " {'contract': 'one_year', 'tenure': 40, 'monthlycharges': 105.75},\n",
       " {'contract': 'month-to-month', 'tenure': 17, 'monthlycharges': 82.65},\n",
       " {'contract': 'month-to-month', 'tenure': 2, 'monthlycharges': 24.45},\n",
       " {'contract': 'one_year', 'tenure': 23, 'monthlycharges': 81.85},\n",
       " {'contract': 'two_year', 'tenure': 53, 'monthlycharges': 19.85},\n",
       " {'contract': 'month-to-month', 'tenure': 5, 'monthlycharges': 80.1},\n",
       " {'contract': 'two_year', 'tenure': 72, 'monthlycharges': 73.0},\n",
       " {'contract': 'one_year', 'tenure': 44, 'monthlycharges': 94.4},\n",
       " {'contract': 'month-to-month', 'tenure': 16, 'monthlycharges': 19.6},\n",
       " {'contract': 'two_year', 'tenure': 71, 'monthlycharges': 114.6},\n",
       " {'contract': 'two_year', 'tenure': 63, 'monthlycharges': 75.55},\n",
       " {'contract': 'two_year', 'tenure': 70, 'monthlycharges': 25.15},\n",
       " {'contract': 'month-to-month', 'tenure': 19, 'monthlycharges': 105.0},\n",
       " {'contract': 'two_year', 'tenure': 58, 'monthlycharges': 109.45},\n",
       " {'contract': 'month-to-month', 'tenure': 41, 'monthlycharges': 94.55},\n",
       " {'contract': 'month-to-month', 'tenure': 9, 'monthlycharges': 70.05},\n",
       " {'contract': 'one_year', 'tenure': 44, 'monthlycharges': 54.3},\n",
       " {'contract': 'two_year', 'tenure': 72, 'monthlycharges': 89.85},\n",
       " {'contract': 'two_year', 'tenure': 62, 'monthlycharges': 113.95},\n",
       " {'contract': 'one_year', 'tenure': 41, 'monthlycharges': 89.55},\n",
       " {'contract': 'month-to-month', 'tenure': 43, 'monthlycharges': 50.2},\n",
       " {'contract': 'month-to-month', 'tenure': 20, 'monthlycharges': 25.55},\n",
       " {'contract': 'month-to-month', 'tenure': 8, 'monthlycharges': 45.45},\n",
       " {'contract': 'one_year', 'tenure': 60, 'monthlycharges': 44.45},\n",
       " {'contract': 'one_year', 'tenure': 35, 'monthlycharges': 21.1},\n",
       " {'contract': 'one_year', 'tenure': 45, 'monthlycharges': 51.0},\n",
       " {'contract': 'month-to-month', 'tenure': 2, 'monthlycharges': 75.55},\n",
       " {'contract': 'two_year', 'tenure': 66, 'monthlycharges': 105.65},\n",
       " {'contract': 'month-to-month', 'tenure': 3, 'monthlycharges': 74.55},\n",
       " {'contract': 'one_year', 'tenure': 60, 'monthlycharges': 50.05},\n",
       " {'contract': 'month-to-month', 'tenure': 10, 'monthlycharges': 65.5},\n",
       " {'contract': 'month-to-month', 'tenure': 50, 'monthlycharges': 104.95},\n",
       " {'contract': 'month-to-month', 'tenure': 19, 'monthlycharges': 83.65},\n",
       " {'contract': 'one_year', 'tenure': 64, 'monthlycharges': 108.5},\n",
       " {'contract': 'month-to-month', 'tenure': 7, 'monthlycharges': 69.15},\n",
       " {'contract': 'two_year', 'tenure': 51, 'monthlycharges': 34.2},\n",
       " {'contract': 'one_year', 'tenure': 37, 'monthlycharges': 99.2},\n",
       " {'contract': 'month-to-month', 'tenure': 10, 'monthlycharges': 84.7},\n",
       " {'contract': 'two_year', 'tenure': 70, 'monthlycharges': 114.6},\n",
       " {'contract': 'month-to-month', 'tenure': 5, 'monthlycharges': 88.9},\n",
       " {'contract': 'month-to-month', 'tenure': 64, 'monthlycharges': 108.95},\n",
       " {'contract': 'one_year', 'tenure': 62, 'monthlycharges': 103.75},\n",
       " {'contract': 'month-to-month', 'tenure': 1, 'monthlycharges': 88.35},\n",
       " {'contract': 'one_year', 'tenure': 20, 'monthlycharges': 20.0},\n",
       " {'contract': 'two_year', 'tenure': 72, 'monthlycharges': 99.15},\n",
       " {'contract': 'month-to-month', 'tenure': 2, 'monthlycharges': 19.65},\n",
       " {'contract': 'month-to-month', 'tenure': 66, 'monthlycharges': 105.2},\n",
       " {'contract': 'month-to-month', 'tenure': 19, 'monthlycharges': 55.0},\n",
       " {'contract': 'month-to-month', 'tenure': 1, 'monthlycharges': 44.35},\n",
       " {'contract': 'one_year', 'tenure': 24, 'monthlycharges': 57.6},\n",
       " {'contract': 'month-to-month', 'tenure': 16, 'monthlycharges': 88.45},\n",
       " {'contract': 'month-to-month', 'tenure': 6, 'monthlycharges': 55.15},\n",
       " {'contract': 'month-to-month', 'tenure': 15, 'monthlycharges': 101.1},\n",
       " {'contract': 'two_year', 'tenure': 72, 'monthlycharges': 110.6},\n",
       " {'contract': 'two_year', 'tenure': 70, 'monthlycharges': 19.8},\n",
       " {'contract': 'month-to-month', 'tenure': 2, 'monthlycharges': 93.85},\n",
       " {'contract': 'month-to-month', 'tenure': 15, 'monthlycharges': 46.3},\n",
       " {'contract': 'one_year', 'tenure': 33, 'monthlycharges': 20.1},\n",
       " {'contract': 'month-to-month', 'tenure': 14, 'monthlycharges': 90.9},\n",
       " {'contract': 'month-to-month', 'tenure': 23, 'monthlycharges': 79.35},\n",
       " {'contract': 'month-to-month', 'tenure': 9, 'monthlycharges': 20.15},\n",
       " {'contract': 'one_year', 'tenure': 60, 'monthlycharges': 106.0},\n",
       " {'contract': 'one_year', 'tenure': 32, 'monthlycharges': 109.55},\n",
       " {'contract': 'month-to-month', 'tenure': 23, 'monthlycharges': 49.7},\n",
       " {'contract': 'one_year', 'tenure': 50, 'monthlycharges': 19.35},\n",
       " {'contract': 'two_year', 'tenure': 72, 'monthlycharges': 86.6},\n",
       " {'contract': 'month-to-month', 'tenure': 9, 'monthlycharges': 79.9},\n",
       " {'contract': 'month-to-month', 'tenure': 3, 'monthlycharges': 77.0},\n",
       " {'contract': 'two_year', 'tenure': 72, 'monthlycharges': 66.75},\n",
       " {'contract': 'month-to-month', 'tenure': 11, 'monthlycharges': 51.0},\n",
       " {'contract': 'one_year', 'tenure': 39, 'monthlycharges': 89.55},\n",
       " {'contract': 'month-to-month', 'tenure': 3, 'monthlycharges': 79.1},\n",
       " {'contract': 'month-to-month', 'tenure': 1, 'monthlycharges': 75.3},\n",
       " {'contract': 'month-to-month', 'tenure': 4, 'monthlycharges': 81.0},\n",
       " {'contract': 'month-to-month', 'tenure': 2, 'monthlycharges': 45.35},\n",
       " {'contract': 'two_year', 'tenure': 66, 'monthlycharges': 25.3},\n",
       " {'contract': 'two_year', 'tenure': 72, 'monthlycharges': 24.45},\n",
       " {'contract': 'month-to-month', 'tenure': 7, 'monthlycharges': 86.5},\n",
       " {'contract': 'month-to-month', 'tenure': 17, 'monthlycharges': 35.65},\n",
       " {'contract': 'month-to-month', 'tenure': 31, 'monthlycharges': 93.8},\n",
       " {'contract': 'one_year', 'tenure': 46, 'monthlycharges': 24.95},\n",
       " {'contract': 'month-to-month', 'tenure': 2, 'monthlycharges': 72.6},\n",
       " {'contract': 'month-to-month', 'tenure': 4, 'monthlycharges': 20.45},\n",
       " {'contract': 'month-to-month', 'tenure': 2, 'monthlycharges': 70.35},\n",
       " {'contract': 'month-to-month', 'tenure': 41, 'monthlycharges': 113.2},\n",
       " {'contract': 'month-to-month', 'tenure': 13, 'monthlycharges': 94.1},\n",
       " {'contract': 'month-to-month', 'tenure': 60, 'monthlycharges': 80.95},\n",
       " {'contract': 'month-to-month', 'tenure': 2, 'monthlycharges': 80.75},\n",
       " {'contract': 'month-to-month', 'tenure': 1, 'monthlycharges': 86.6},\n",
       " {'contract': 'month-to-month', 'tenure': 1, 'monthlycharges': 24.05},\n",
       " {'contract': 'month-to-month', 'tenure': 27, 'monthlycharges': 95.55},\n",
       " {'contract': 'one_year', 'tenure': 32, 'monthlycharges': 19.8},\n",
       " {'contract': 'one_year', 'tenure': 2, 'monthlycharges': 20.3},\n",
       " {'contract': 'one_year', 'tenure': 16, 'monthlycharges': 20.1},\n",
       " {'contract': 'one_year', 'tenure': 52, 'monthlycharges': 64.3},\n",
       " {'contract': 'month-to-month', 'tenure': 1, 'monthlycharges': 70.5},\n",
       " {'contract': 'two_year', 'tenure': 72, 'monthlycharges': 116.95},\n",
       " {'contract': 'month-to-month', 'tenure': 20, 'monthlycharges': 69.8},\n",
       " {'contract': 'month-to-month', 'tenure': 23, 'monthlycharges': 90.6},\n",
       " {'contract': 'one_year', 'tenure': 23, 'monthlycharges': 64.9},\n",
       " {'contract': 'month-to-month', 'tenure': 15, 'monthlycharges': 99.1},\n",
       " {'contract': 'month-to-month', 'tenure': 52, 'monthlycharges': 83.8},\n",
       " {'contract': 'two_year', 'tenure': 72, 'monthlycharges': 19.55},\n",
       " {'contract': 'two_year', 'tenure': 16, 'monthlycharges': 19.75},\n",
       " {'contract': 'month-to-month', 'tenure': 49, 'monthlycharges': 93.85},\n",
       " {'contract': 'two_year', 'tenure': 35, 'monthlycharges': 20.2},\n",
       " {'contract': 'one_year', 'tenure': 13, 'monthlycharges': 24.5},\n",
       " {'contract': 'two_year', 'tenure': 29, 'monthlycharges': 26.1},\n",
       " {'contract': 'month-to-month', 'tenure': 58, 'monthlycharges': 66.8},\n",
       " {'contract': 'month-to-month', 'tenure': 9, 'monthlycharges': 66.25},\n",
       " {'contract': 'month-to-month', 'tenure': 1, 'monthlycharges': 44.1},\n",
       " {'contract': 'month-to-month', 'tenure': 2, 'monthlycharges': 91.45},\n",
       " {'contract': 'month-to-month', 'tenure': 49, 'monthlycharges': 90.85},\n",
       " {'contract': 'month-to-month', 'tenure': 26, 'monthlycharges': 93.6},\n",
       " {'contract': 'month-to-month', 'tenure': 1, 'monthlycharges': 55.45},\n",
       " {'contract': 'month-to-month', 'tenure': 10, 'monthlycharges': 75.75},\n",
       " {'contract': 'month-to-month', 'tenure': 2, 'monthlycharges': 20.3},\n",
       " {'contract': 'one_year', 'tenure': 49, 'monthlycharges': 103.0},\n",
       " {'contract': 'one_year', 'tenure': 39, 'monthlycharges': 81.9},\n",
       " {'contract': 'two_year', 'tenure': 70, 'monthlycharges': 104.0},\n",
       " {'contract': 'one_year', 'tenure': 28, 'monthlycharges': 54.4},\n",
       " {'contract': 'one_year', 'tenure': 62, 'monthlycharges': 110.8},\n",
       " {'contract': 'one_year', 'tenure': 71, 'monthlycharges': 85.45},\n",
       " {'contract': 'one_year', 'tenure': 53, 'monthlycharges': 94.45},\n",
       " {'contract': 'month-to-month', 'tenure': 4, 'monthlycharges': 74.65},\n",
       " {'contract': 'two_year', 'tenure': 72, 'monthlycharges': 82.65},\n",
       " {'contract': 'month-to-month', 'tenure': 1, 'monthlycharges': 74.35},\n",
       " {'contract': 'month-to-month', 'tenure': 47, 'monthlycharges': 90.05},\n",
       " {'contract': 'one_year', 'tenure': 43, 'monthlycharges': 80.2},\n",
       " {'contract': 'month-to-month', 'tenure': 7, 'monthlycharges': 25.05},\n",
       " {'contract': 'two_year', 'tenure': 56, 'monthlycharges': 85.65},\n",
       " {'contract': 'month-to-month', 'tenure': 11, 'monthlycharges': 111.4},\n",
       " {'contract': 'one_year', 'tenure': 29, 'monthlycharges': 39.5},\n",
       " {'contract': 'one_year', 'tenure': 22, 'monthlycharges': 69.5},\n",
       " {'contract': 'one_year', 'tenure': 23, 'monthlycharges': 73.75},\n",
       " {'contract': 'month-to-month', 'tenure': 13, 'monthlycharges': 80.5},\n",
       " {'contract': 'two_year', 'tenure': 64, 'monthlycharges': 86.55},\n",
       " {'contract': 'month-to-month', 'tenure': 62, 'monthlycharges': 90.7},\n",
       " {'contract': 'one_year', 'tenure': 15, 'monthlycharges': 19.65},\n",
       " {'contract': 'month-to-month', 'tenure': 17, 'monthlycharges': 75.4},\n",
       " {'contract': 'two_year', 'tenure': 72, 'monthlycharges': 113.1},\n",
       " {'contract': 'month-to-month', 'tenure': 7, 'monthlycharges': 95.35},\n",
       " {'contract': 'month-to-month', 'tenure': 2, 'monthlycharges': 55.05},\n",
       " {'contract': 'two_year', 'tenure': 56, 'monthlycharges': 75.85},\n",
       " {'contract': 'month-to-month', 'tenure': 6, 'monthlycharges': 19.7},\n",
       " {'contract': 'two_year', 'tenure': 64, 'monthlycharges': 69.25},\n",
       " {'contract': 'month-to-month', 'tenure': 17, 'monthlycharges': 81.5},\n",
       " {'contract': 'month-to-month', 'tenure': 1, 'monthlycharges': 19.65},\n",
       " {'contract': 'month-to-month', 'tenure': 51, 'monthlycharges': 83.4},\n",
       " {'contract': 'two_year', 'tenure': 72, 'monthlycharges': 109.65},\n",
       " {'contract': 'one_year', 'tenure': 11, 'monthlycharges': 53.8},\n",
       " {'contract': 'two_year', 'tenure': 72, 'monthlycharges': 106.1},\n",
       " {'contract': 'month-to-month', 'tenure': 37, 'monthlycharges': 19.35},\n",
       " {'contract': 'month-to-month', 'tenure': 35, 'monthlycharges': 70.3},\n",
       " {'contract': 'month-to-month', 'tenure': 66, 'monthlycharges': 99.5},\n",
       " {'contract': 'month-to-month', 'tenure': 15, 'monthlycharges': 101.75},\n",
       " {'contract': 'month-to-month', 'tenure': 7, 'monthlycharges': 100.4},\n",
       " {'contract': 'month-to-month', 'tenure': 49, 'monthlycharges': 100.85},\n",
       " {'contract': 'month-to-month', 'tenure': 2, 'monthlycharges': 70.65},\n",
       " {'contract': 'one_year', 'tenure': 17, 'monthlycharges': 20.65},\n",
       " {'contract': 'month-to-month', 'tenure': 28, 'monthlycharges': 94.5},\n",
       " {'contract': 'one_year', 'tenure': 41, 'monthlycharges': 24.85},\n",
       " {'contract': 'month-to-month', 'tenure': 24, 'monthlycharges': 104.65},\n",
       " {'contract': 'two_year', 'tenure': 69, 'monthlycharges': 79.2},\n",
       " {'contract': 'one_year', 'tenure': 35, 'monthlycharges': 102.35},\n",
       " {'contract': 'one_year', 'tenure': 44, 'monthlycharges': 20.5},\n",
       " {'contract': 'month-to-month', 'tenure': 32, 'monthlycharges': 96.2},\n",
       " {'contract': 'two_year', 'tenure': 72, 'monthlycharges': 90.8},\n",
       " {'contract': 'month-to-month', 'tenure': 1, 'monthlycharges': 74.0},\n",
       " {'contract': 'one_year', 'tenure': 18, 'monthlycharges': 20.35},\n",
       " {'contract': 'one_year', 'tenure': 58, 'monthlycharges': 89.85},\n",
       " {'contract': 'month-to-month', 'tenure': 15, 'monthlycharges': 19.75},\n",
       " {'contract': 'two_year', 'tenure': 72, 'monthlycharges': 84.4},\n",
       " {'contract': 'two_year', 'tenure': 70, 'monthlycharges': 84.8},\n",
       " {'contract': 'month-to-month', 'tenure': 1, 'monthlycharges': 19.55},\n",
       " {'contract': 'one_year', 'tenure': 23, 'monthlycharges': 24.8},\n",
       " {'contract': 'month-to-month', 'tenure': 6, 'monthlycharges': 94.5},\n",
       " {'contract': 'month-to-month', 'tenure': 28, 'monthlycharges': 85.45},\n",
       " {'contract': 'two_year', 'tenure': 54, 'monthlycharges': 79.95},\n",
       " {'contract': 'two_year', 'tenure': 71, 'monthlycharges': 54.5},\n",
       " {'contract': 'one_year', 'tenure': 39, 'monthlycharges': 45.05},\n",
       " {'contract': 'one_year', 'tenure': 67, 'monthlycharges': 111.3},\n",
       " {'contract': 'month-to-month', 'tenure': 10, 'monthlycharges': 24.4},\n",
       " {'contract': 'month-to-month', 'tenure': 1, 'monthlycharges': 71.55},\n",
       " {'contract': 'two_year', 'tenure': 45, 'monthlycharges': 95.2},\n",
       " {'contract': 'two_year', 'tenure': 48, 'monthlycharges': 20.0},\n",
       " {'contract': 'month-to-month', 'tenure': 12, 'monthlycharges': 94.55},\n",
       " {'contract': 'one_year', 'tenure': 28, 'monthlycharges': 50.8},\n",
       " {'contract': 'two_year', 'tenure': 6, 'monthlycharges': 20.4},\n",
       " {'contract': 'one_year', 'tenure': 43, 'monthlycharges': 56.35},\n",
       " {'contract': 'month-to-month', 'tenure': 33, 'monthlycharges': 105.35},\n",
       " {'contract': 'month-to-month', 'tenure': 1, 'monthlycharges': 20.2},\n",
       " {'contract': 'month-to-month', 'tenure': 27, 'monthlycharges': 36.5},\n",
       " {'contract': 'month-to-month', 'tenure': 9, 'monthlycharges': 88.05},\n",
       " {'contract': 'one_year', 'tenure': 36, 'monthlycharges': 70.7},\n",
       " {'contract': 'two_year', 'tenure': 52, 'monthlycharges': 91.6},\n",
       " {'contract': 'month-to-month', 'tenure': 7, 'monthlycharges': 66.85},\n",
       " {'contract': 'month-to-month', 'tenure': 27, 'monthlycharges': 81.3},\n",
       " {'contract': 'month-to-month', 'tenure': 10, 'monthlycharges': 55.55},\n",
       " {'contract': 'month-to-month', 'tenure': 11, 'monthlycharges': 51.1},\n",
       " {'contract': 'two_year', 'tenure': 71, 'monthlycharges': 25.45},\n",
       " {'contract': 'one_year', 'tenure': 48, 'monthlycharges': 99.0},\n",
       " {'contract': 'month-to-month', 'tenure': 4, 'monthlycharges': 19.0},\n",
       " {'contract': 'month-to-month', 'tenure': 57, 'monthlycharges': 55.0},\n",
       " {'contract': 'month-to-month', 'tenure': 1, 'monthlycharges': 20.4},\n",
       " {'contract': 'two_year', 'tenure': 49, 'monthlycharges': 20.15},\n",
       " {'contract': 'month-to-month', 'tenure': 35, 'monthlycharges': 59.45},\n",
       " {'contract': 'two_year', 'tenure': 8, 'monthlycharges': 19.7},\n",
       " {'contract': 'month-to-month', 'tenure': 2, 'monthlycharges': 20.35},\n",
       " {'contract': 'month-to-month', 'tenure': 6, 'monthlycharges': 19.85},\n",
       " {'contract': 'one_year', 'tenure': 63, 'monthlycharges': 70.8},\n",
       " {'contract': 'two_year', 'tenure': 67, 'monthlycharges': 103.15},\n",
       " {'contract': 'two_year', 'tenure': 47, 'monthlycharges': 65.0},\n",
       " {'contract': 'two_year', 'tenure': 37, 'monthlycharges': 62.8},\n",
       " {'contract': 'two_year', 'tenure': 69, 'monthlycharges': 20.3},\n",
       " {'contract': 'two_year', 'tenure': 72, 'monthlycharges': 109.75},\n",
       " {'contract': 'one_year', 'tenure': 15, 'monthlycharges': 101.9},\n",
       " {'contract': 'month-to-month', 'tenure': 33, 'monthlycharges': 91.25},\n",
       " {'contract': 'two_year', 'tenure': 67, 'monthlycharges': 92.45},\n",
       " {'contract': 'month-to-month', 'tenure': 17, 'monthlycharges': 80.5},\n",
       " {'contract': 'month-to-month', 'tenure': 15, 'monthlycharges': 76.5},\n",
       " {'contract': 'two_year', 'tenure': 54, 'monthlycharges': 19.65},\n",
       " {'contract': 'two_year', 'tenure': 67, 'monthlycharges': 111.2},\n",
       " {'contract': 'month-to-month', 'tenure': 6, 'monthlycharges': 89.5},\n",
       " {'contract': 'month-to-month', 'tenure': 9, 'monthlycharges': 84.45},\n",
       " {'contract': 'month-to-month', 'tenure': 2, 'monthlycharges': 49.95},\n",
       " {'contract': 'month-to-month', 'tenure': 17, 'monthlycharges': 70.8},\n",
       " {'contract': 'one_year', 'tenure': 48, 'monthlycharges': 78.75},\n",
       " {'contract': 'month-to-month', 'tenure': 6, 'monthlycharges': 69.8},\n",
       " {'contract': 'one_year', 'tenure': 10, 'monthlycharges': 20.1},\n",
       " {'contract': 'two_year', 'tenure': 72, 'monthlycharges': 67.8},\n",
       " {'contract': 'one_year', 'tenure': 56, 'monthlycharges': 24.3},\n",
       " {'contract': 'two_year', 'tenure': 30, 'monthlycharges': 19.4},\n",
       " {'contract': 'two_year', 'tenure': 43, 'monthlycharges': 115.05},\n",
       " {'contract': 'month-to-month', 'tenure': 50, 'monthlycharges': 70.35},\n",
       " {'contract': 'two_year', 'tenure': 47, 'monthlycharges': 21.3},\n",
       " {'contract': 'one_year', 'tenure': 33, 'monthlycharges': 58.45},\n",
       " {'contract': 'month-to-month', 'tenure': 28, 'monthlycharges': 91.0},\n",
       " {'contract': 'month-to-month', 'tenure': 1, 'monthlycharges': 70.45},\n",
       " {'contract': 'month-to-month', 'tenure': 5, 'monthlycharges': 78.75},\n",
       " {'contract': 'one_year', 'tenure': 63, 'monthlycharges': 90.45},\n",
       " {'contract': 'month-to-month', 'tenure': 1, 'monthlycharges': 69.1},\n",
       " {'contract': 'month-to-month', 'tenure': 31, 'monthlycharges': 54.35},\n",
       " {'contract': 'month-to-month', 'tenure': 21, 'monthlycharges': 86.05},\n",
       " {'contract': 'month-to-month', 'tenure': 29, 'monthlycharges': 67.45},\n",
       " {'contract': 'month-to-month', 'tenure': 27, 'monthlycharges': 104.3},\n",
       " {'contract': 'one_year', 'tenure': 41, 'monthlycharges': 51.35},\n",
       " {'contract': 'two_year', 'tenure': 65, 'monthlycharges': 108.65},\n",
       " {'contract': 'month-to-month', 'tenure': 6, 'monthlycharges': 20.0},\n",
       " {'contract': 'month-to-month', 'tenure': 53, 'monthlycharges': 108.25},\n",
       " {'contract': 'month-to-month', 'tenure': 1, 'monthlycharges': 20.05},\n",
       " {'contract': 'month-to-month', 'tenure': 8, 'monthlycharges': 73.5},\n",
       " {'contract': 'two_year', 'tenure': 60, 'monthlycharges': 19.65},\n",
       " {'contract': 'month-to-month', 'tenure': 1, 'monthlycharges': 89.9},\n",
       " {'contract': 'month-to-month', 'tenure': 1, 'monthlycharges': 90.55},\n",
       " {'contract': 'two_year', 'tenure': 63, 'monthlycharges': 63.55},\n",
       " {'contract': 'month-to-month', 'tenure': 2, 'monthlycharges': 78.55},\n",
       " {'contract': 'two_year', 'tenure': 71, 'monthlycharges': 100.5},\n",
       " {'contract': 'one_year', 'tenure': 31, 'monthlycharges': 64.0},\n",
       " {'contract': 'one_year', 'tenure': 22, 'monthlycharges': 19.6},\n",
       " {'contract': 'month-to-month', 'tenure': 63, 'monthlycharges': 105.4},\n",
       " {'contract': 'two_year', 'tenure': 72, 'monthlycharges': 115.75},\n",
       " {'contract': 'two_year', 'tenure': 66, 'monthlycharges': 80.55},\n",
       " {'contract': 'month-to-month', 'tenure': 3, 'monthlycharges': 50.5},\n",
       " {'contract': 'month-to-month', 'tenure': 15, 'monthlycharges': 51.55},\n",
       " {'contract': 'month-to-month', 'tenure': 2, 'monthlycharges': 53.85},\n",
       " {'contract': 'month-to-month', 'tenure': 7, 'monthlycharges': 76.45},\n",
       " {'contract': 'month-to-month', 'tenure': 2, 'monthlycharges': 20.65},\n",
       " {'contract': 'two_year', 'tenure': 72, 'monthlycharges': 84.5},\n",
       " {'contract': 'month-to-month', 'tenure': 6, 'monthlycharges': 56.25},\n",
       " {'contract': 'month-to-month', 'tenure': 10, 'monthlycharges': 95.2},\n",
       " {'contract': 'two_year', 'tenure': 71, 'monthlycharges': 90.3},\n",
       " {'contract': 'two_year', 'tenure': 69, 'monthlycharges': 19.95},\n",
       " {'contract': 'month-to-month', 'tenure': 24, 'monthlycharges': 70.0},\n",
       " {'contract': 'month-to-month', 'tenure': 9, 'monthlycharges': 19.05},\n",
       " {'contract': 'month-to-month', 'tenure': 7, 'monthlycharges': 89.15},\n",
       " {'contract': 'two_year', 'tenure': 72, 'monthlycharges': 88.05},\n",
       " {'contract': 'month-to-month', 'tenure': 68, 'monthlycharges': 44.95},\n",
       " {'contract': 'two_year', 'tenure': 72, 'monthlycharges': 90.15},\n",
       " {'contract': 'month-to-month', 'tenure': 1, 'monthlycharges': 20.3},\n",
       " {'contract': 'month-to-month', 'tenure': 40, 'monthlycharges': 96.35},\n",
       " {'contract': 'month-to-month', 'tenure': 16, 'monthlycharges': 90.8},\n",
       " {'contract': 'month-to-month', 'tenure': 2, 'monthlycharges': 44.45},\n",
       " {'contract': 'month-to-month', 'tenure': 6, 'monthlycharges': 93.55},\n",
       " {'contract': 'two_year', 'tenure': 20, 'monthlycharges': 20.05},\n",
       " {'contract': 'two_year', 'tenure': 36, 'monthlycharges': 53.1},\n",
       " {'contract': 'month-to-month', 'tenure': 3, 'monthlycharges': 20.0},\n",
       " {'contract': 'one_year', 'tenure': 50, 'monthlycharges': 100.65},\n",
       " {'contract': 'month-to-month', 'tenure': 30, 'monthlycharges': 48.8},\n",
       " {'contract': 'month-to-month', 'tenure': 39, 'monthlycharges': 103.45},\n",
       " {'contract': 'month-to-month', 'tenure': 42, 'monthlycharges': 74.15},\n",
       " {'contract': 'month-to-month', 'tenure': 6, 'monthlycharges': 90.75},\n",
       " {'contract': 'month-to-month', 'tenure': 2, 'monthlycharges': 20.45},\n",
       " {'contract': 'month-to-month', 'tenure': 35, 'monthlycharges': 89.65},\n",
       " {'contract': 'one_year', 'tenure': 22, 'monthlycharges': 20.25},\n",
       " {'contract': 'month-to-month', 'tenure': 15, 'monthlycharges': 20.45},\n",
       " {'contract': 'month-to-month', 'tenure': 8, 'monthlycharges': 55.75},\n",
       " {'contract': 'two_year', 'tenure': 72, 'monthlycharges': 89.55},\n",
       " {'contract': 'two_year', 'tenure': 27, 'monthlycharges': 19.6},\n",
       " {'contract': 'one_year', 'tenure': 70, 'monthlycharges': 60.35},\n",
       " {'contract': 'month-to-month', 'tenure': 16, 'monthlycharges': 74.3},\n",
       " {'contract': 'two_year', 'tenure': 71, 'monthlycharges': 105.25},\n",
       " {'contract': 'one_year', 'tenure': 65, 'monthlycharges': 89.85},\n",
       " {'contract': 'month-to-month', 'tenure': 1, 'monthlycharges': 74.35},\n",
       " {'contract': 'month-to-month', 'tenure': 1, 'monthlycharges': 54.75},\n",
       " {'contract': 'two_year', 'tenure': 23, 'monthlycharges': 40.1},\n",
       " {'contract': 'month-to-month', 'tenure': 13, 'monthlycharges': 18.8},\n",
       " {'contract': 'month-to-month', 'tenure': 11, 'monthlycharges': 64.05},\n",
       " {'contract': 'one_year', 'tenure': 32, 'monthlycharges': 19.75},\n",
       " {'contract': 'one_year', 'tenure': 53, 'monthlycharges': 94.25},\n",
       " {'contract': 'month-to-month', 'tenure': 3, 'monthlycharges': 50.65},\n",
       " {'contract': 'month-to-month', 'tenure': 33, 'monthlycharges': 90.65},\n",
       " {'contract': 'month-to-month', 'tenure': 49, 'monthlycharges': 96.2},\n",
       " {'contract': 'two_year', 'tenure': 23, 'monthlycharges': 20.9},\n",
       " {'contract': 'one_year', 'tenure': 38, 'monthlycharges': 110.7},\n",
       " {'contract': 'two_year', 'tenure': 67, 'monthlycharges': 43.9},\n",
       " {'contract': 'one_year', 'tenure': 54, 'monthlycharges': 105.4},\n",
       " {'contract': 'one_year', 'tenure': 50, 'monthlycharges': 106.8},\n",
       " {'contract': 'two_year', 'tenure': 64, 'monthlycharges': 110.5},\n",
       " {'contract': 'two_year', 'tenure': 6, 'monthlycharges': 19.55},\n",
       " {'contract': 'one_year', 'tenure': 58, 'monthlycharges': 61.05},\n",
       " {'contract': 'one_year', 'tenure': 26, 'monthlycharges': 54.55},\n",
       " {'contract': 'two_year', 'tenure': 48, 'monthlycharges': 24.0},\n",
       " {'contract': 'month-to-month', 'tenure': 24, 'monthlycharges': 85.95},\n",
       " {'contract': 'month-to-month', 'tenure': 47, 'monthlycharges': 70.55},\n",
       " {'contract': 'one_year', 'tenure': 44, 'monthlycharges': 109.8},\n",
       " {'contract': 'month-to-month', 'tenure': 22, 'monthlycharges': 80.0},\n",
       " {'contract': 'one_year', 'tenure': 23, 'monthlycharges': 19.65},\n",
       " {'contract': 'one_year', 'tenure': 68, 'monthlycharges': 73.0},\n",
       " {'contract': 'month-to-month', 'tenure': 13, 'monthlycharges': 66.4},\n",
       " {'contract': 'two_year', 'tenure': 53, 'monthlycharges': 19.4},\n",
       " {'contract': 'month-to-month', 'tenure': 1, 'monthlycharges': 45.1},\n",
       " {'contract': 'month-to-month', 'tenure': 1, 'monthlycharges': 35.9},\n",
       " {'contract': 'one_year', 'tenure': 66, 'monthlycharges': 74.25},\n",
       " {'contract': 'two_year', 'tenure': 70, 'monthlycharges': 86.45},\n",
       " {'contract': 'month-to-month', 'tenure': 47, 'monthlycharges': 99.35},\n",
       " {'contract': 'two_year', 'tenure': 65, 'monthlycharges': 59.8},\n",
       " {'contract': 'two_year', 'tenure': 36, 'monthlycharges': 19.45},\n",
       " {'contract': 'two_year', 'tenure': 68, 'monthlycharges': 19.95},\n",
       " {'contract': 'two_year', 'tenure': 70, 'monthlycharges': 19.55},\n",
       " {'contract': 'month-to-month', 'tenure': 2, 'monthlycharges': 44.3},\n",
       " {'contract': 'one_year', 'tenure': 69, 'monthlycharges': 110.55},\n",
       " {'contract': 'month-to-month', 'tenure': 34, 'monthlycharges': 70.0},\n",
       " {'contract': 'one_year', 'tenure': 14, 'monthlycharges': 51.45},\n",
       " {'contract': 'month-to-month', 'tenure': 28, 'monthlycharges': 81.05},\n",
       " {'contract': 'two_year', 'tenure': 67, 'monthlycharges': 19.65},\n",
       " {'contract': 'month-to-month', 'tenure': 5, 'monthlycharges': 96.55},\n",
       " {'contract': 'month-to-month', 'tenure': 2, 'monthlycharges': 50.95},\n",
       " {'contract': 'month-to-month', 'tenure': 41, 'monthlycharges': 83.75},\n",
       " {'contract': 'two_year', 'tenure': 69, 'monthlycharges': 59.75},\n",
       " {'contract': 'two_year', 'tenure': 64, 'monthlycharges': 24.05},\n",
       " {'contract': 'two_year', 'tenure': 33, 'monthlycharges': 24.5},\n",
       " {'contract': 'two_year', 'tenure': 67, 'monthlycharges': 108.75},\n",
       " {'contract': 'one_year', 'tenure': 53, 'monthlycharges': 20.8},\n",
       " {'contract': 'one_year', 'tenure': 48, 'monthlycharges': 83.45},\n",
       " {'contract': 'month-to-month', 'tenure': 14, 'monthlycharges': 70.2},\n",
       " {'contract': 'two_year', 'tenure': 46, 'monthlycharges': 54.35},\n",
       " {'contract': 'month-to-month', 'tenure': 49, 'monthlycharges': 52.15},\n",
       " {'contract': 'month-to-month', 'tenure': 2, 'monthlycharges': 100.2},\n",
       " {'contract': 'two_year', 'tenure': 19, 'monthlycharges': 20.5},\n",
       " {'contract': 'month-to-month', 'tenure': 1, 'monthlycharges': 25.2},\n",
       " {'contract': 'two_year', 'tenure': 72, 'monthlycharges': 84.45},\n",
       " {'contract': 'two_year', 'tenure': 72, 'monthlycharges': 84.45},\n",
       " {'contract': 'month-to-month', 'tenure': 5, 'monthlycharges': 85.4},\n",
       " {'contract': 'month-to-month', 'tenure': 29, 'monthlycharges': 98.6},\n",
       " {'contract': 'two_year', 'tenure': 46, 'monthlycharges': 108.65},\n",
       " {'contract': 'month-to-month', 'tenure': 10, 'monthlycharges': 36.25},\n",
       " {'contract': 'one_year', 'tenure': 66, 'monthlycharges': 89.0},\n",
       " {'contract': 'one_year', 'tenure': 34, 'monthlycharges': 77.2},\n",
       " {'contract': 'month-to-month', 'tenure': 1, 'monthlycharges': 45.95},\n",
       " {'contract': 'month-to-month', 'tenure': 5, 'monthlycharges': 89.8},\n",
       " {'contract': 'two_year', 'tenure': 66, 'monthlycharges': 65.7},\n",
       " {'contract': 'two_year', 'tenure': 46, 'monthlycharges': 19.95},\n",
       " {'contract': 'month-to-month', 'tenure': 1, 'monthlycharges': 19.75},\n",
       " {'contract': 'month-to-month', 'tenure': 18, 'monthlycharges': 85.45},\n",
       " {'contract': 'month-to-month', 'tenure': 9, 'monthlycharges': 55.3},\n",
       " {'contract': 'one_year', 'tenure': 34, 'monthlycharges': 64.4},\n",
       " {'contract': 'two_year', 'tenure': 72, 'monthlycharges': 89.05},\n",
       " {'contract': 'month-to-month', 'tenure': 37, 'monthlycharges': 20.35},\n",
       " {'contract': 'one_year', 'tenure': 38, 'monthlycharges': 20.1},\n",
       " {'contract': 'two_year', 'tenure': 68, 'monthlycharges': 110.2},\n",
       " {'contract': 'two_year', 'tenure': 71, 'monthlycharges': 82.0},\n",
       " {'contract': 'two_year', 'tenure': 72, 'monthlycharges': 85.15},\n",
       " {'contract': 'month-to-month', 'tenure': 49, 'monthlycharges': 95.6},\n",
       " {'contract': 'one_year', 'tenure': 65, 'monthlycharges': 100.75},\n",
       " ...]"
      ]
     },
     "execution_count": 271,
     "metadata": {},
     "output_type": "execute_result"
    }
   ],
   "source": [
    "df_train[small].to_dict(orient = 'records')"
   ]
  },
  {
   "cell_type": "code",
   "execution_count": 272,
   "id": "142868ff",
   "metadata": {},
   "outputs": [],
   "source": [
    "dicts_train_small = df_train[small].to_dict(orient = 'records')\n",
    "dicts_val_small = df_val[small].to_dict(orient='records')"
   ]
  },
  {
   "cell_type": "code",
   "execution_count": 273,
   "id": "344284b3",
   "metadata": {},
   "outputs": [
    {
     "data": {
      "text/plain": [
       "DictVectorizer(sparse=False)"
      ]
     },
     "execution_count": 273,
     "metadata": {},
     "output_type": "execute_result"
    }
   ],
   "source": [
    "dv_small = DictVectorizer(sparse=False)\n",
    "dv_small.fit(dicts_train_small)"
   ]
  },
  {
   "cell_type": "code",
   "execution_count": 274,
   "id": "6083ddde",
   "metadata": {},
   "outputs": [
    {
     "data": {
      "text/plain": [
       "['contract=month-to-month',\n",
       " 'contract=one_year',\n",
       " 'contract=two_year',\n",
       " 'monthlycharges',\n",
       " 'tenure']"
      ]
     },
     "execution_count": 274,
     "metadata": {},
     "output_type": "execute_result"
    }
   ],
   "source": [
    "dv_small.feature_names_"
   ]
  },
  {
   "cell_type": "code",
   "execution_count": 275,
   "id": "2acf440f",
   "metadata": {},
   "outputs": [],
   "source": [
    "X_train_small = dv_small.transform(dicts_train_small)"
   ]
  },
  {
   "cell_type": "code",
   "execution_count": 278,
   "id": "fa8f5aad",
   "metadata": {},
   "outputs": [
    {
     "data": {
      "text/plain": [
       "LogisticRegression()"
      ]
     },
     "execution_count": 278,
     "metadata": {},
     "output_type": "execute_result"
    }
   ],
   "source": [
    "model_small = LogisticRegression()\n",
    "model_small.fit(X_train_small, y_train)"
   ]
  },
  {
   "cell_type": "code",
   "execution_count": 279,
   "id": "d00ee00b",
   "metadata": {},
   "outputs": [
    {
     "data": {
      "text/plain": [
       "array([ 0.97004491, -0.02513651, -0.94872202,  0.02748236, -0.03618424])"
      ]
     },
     "execution_count": 279,
     "metadata": {},
     "output_type": "execute_result"
    }
   ],
   "source": [
    "model_small.coef_[0]"
   ]
  },
  {
   "cell_type": "code",
   "execution_count": 282,
   "id": "6162c994",
   "metadata": {},
   "outputs": [],
   "source": [
    "w0 = model_small.intercept_[0]"
   ]
  },
  {
   "cell_type": "code",
   "execution_count": 283,
   "id": "d88cc108",
   "metadata": {},
   "outputs": [
    {
     "data": {
      "text/plain": [
       "array([ 0.97 , -0.025, -0.949,  0.027, -0.036])"
      ]
     },
     "execution_count": 283,
     "metadata": {},
     "output_type": "execute_result"
    }
   ],
   "source": [
    "w = model_small.coef_[0]\n",
    "w.round(3)"
   ]
  },
  {
   "cell_type": "code",
   "execution_count": 284,
   "id": "6eb26c45",
   "metadata": {},
   "outputs": [
    {
     "data": {
      "text/plain": [
       "[('contract=month-to-month', 0.97),\n",
       " ('contract=one_year', -0.025),\n",
       " ('contract=two_year', -0.949),\n",
       " ('monthlycharges', 0.027),\n",
       " ('tenure', -0.036)]"
      ]
     },
     "execution_count": 284,
     "metadata": {},
     "output_type": "execute_result"
    }
   ],
   "source": [
    "list(zip(dv_small.feature_names_, w.round(3)))"
   ]
  },
  {
   "cell_type": "code",
   "execution_count": 285,
   "id": "e7881b52",
   "metadata": {},
   "outputs": [
    {
     "data": {
      "text/plain": [
       "0.06297335605699649"
      ]
     },
     "execution_count": 285,
     "metadata": {},
     "output_type": "execute_result"
    }
   ],
   "source": [
    "sigmoid(-2.7)"
   ]
  },
  {
   "cell_type": "code",
   "execution_count": 290,
   "id": "026823e3",
   "metadata": {},
   "outputs": [
    {
     "data": {
      "text/plain": [
       "1"
      ]
     },
     "execution_count": 290,
     "metadata": {},
     "output_type": "execute_result"
    }
   ],
   "source": [
    "1"
   ]
  },
  {
   "cell_type": "code",
   "execution_count": 291,
   "id": "1fa44f84",
   "metadata": {},
   "outputs": [
    {
     "data": {
      "text/plain": [
       "0.7310585786300049"
      ]
     },
     "execution_count": 291,
     "metadata": {},
     "output_type": "execute_result"
    }
   ],
   "source": [
    "sigmoid(_) # _ - mean previous value"
   ]
  },
  {
   "cell_type": "markdown",
   "id": "a427939b",
   "metadata": {},
   "source": [
    "# Using the model"
   ]
  },
  {
   "cell_type": "code",
   "execution_count": 292,
   "id": "92a8628f",
   "metadata": {},
   "outputs": [],
   "source": [
    "# we will train final model"
   ]
  },
  {
   "cell_type": "code",
   "execution_count": 293,
   "id": "b07ba81b",
   "metadata": {},
   "outputs": [],
   "source": [
    "dicts_full_train = df_full_train[categorical + numerical].to_dict(orient='records')"
   ]
  },
  {
   "cell_type": "code",
   "execution_count": 294,
   "id": "aed5b382",
   "metadata": {},
   "outputs": [],
   "source": [
    "dv = DictVectorizer(sparse=False)"
   ]
  },
  {
   "cell_type": "code",
   "execution_count": 295,
   "id": "2435346e",
   "metadata": {},
   "outputs": [],
   "source": [
    "X_full_train = dv.fit_transform(dicts_full_train)"
   ]
  },
  {
   "cell_type": "code",
   "execution_count": 296,
   "id": "36cd0d8c",
   "metadata": {},
   "outputs": [],
   "source": [
    "y_full_train = df_full_train.churn.values"
   ]
  },
  {
   "cell_type": "code",
   "execution_count": 297,
   "id": "4f3df089",
   "metadata": {},
   "outputs": [],
   "source": [
    "model = LogisticRegression().fit(X_full_train, y_full_train)"
   ]
  },
  {
   "cell_type": "code",
   "execution_count": 300,
   "id": "e17e8d2f",
   "metadata": {},
   "outputs": [],
   "source": [
    "dicts_test = df_test[categorical + numerical].to_dict(orient='records')"
   ]
  },
  {
   "cell_type": "code",
   "execution_count": 301,
   "id": "8b6f8c22",
   "metadata": {},
   "outputs": [],
   "source": [
    "X_test = dv.transform(dicts_test)"
   ]
  },
  {
   "cell_type": "code",
   "execution_count": 302,
   "id": "f7a2e423",
   "metadata": {},
   "outputs": [],
   "source": [
    "y_pred = model.predict_proba(X_test)[:, 1]"
   ]
  },
  {
   "cell_type": "code",
   "execution_count": 303,
   "id": "4813b452",
   "metadata": {},
   "outputs": [],
   "source": [
    "churn_decision = (y_pred>=0.5)"
   ]
  },
  {
   "cell_type": "code",
   "execution_count": 304,
   "id": "d4b21093",
   "metadata": {},
   "outputs": [
    {
     "data": {
      "text/plain": [
       "0.815471965933286"
      ]
     },
     "execution_count": 304,
     "metadata": {},
     "output_type": "execute_result"
    }
   ],
   "source": [
    "(churn_decision == y_test).mean()"
   ]
  },
  {
   "cell_type": "code",
   "execution_count": 305,
   "id": "e0849fe4",
   "metadata": {},
   "outputs": [
    {
     "data": {
      "text/plain": [
       "array([[ 0.26777347, -0.15275665, -0.23827869,  0.02935831, -0.15262018,\n",
       "         0.06611533, -0.09154125, -0.09783594, -0.0520015 , -0.07126037,\n",
       "        -0.29765895,  0.26593834, -0.09154125,  0.00361662, -0.2210608 ,\n",
       "         0.03202845,  0.06577048,  0.08904651, -0.09154125, -0.12076713,\n",
       "         0.23170038, -0.09154125, -0.26342099, -0.26862151,  0.14535964,\n",
       "        -0.06696205, -0.05629982, -0.08588147, -0.10503275,  0.26090699,\n",
       "        -0.19325464,  0.03202845, -0.15529032,  0.17861293, -0.09613092,\n",
       "        -0.09154125,  0.0644103 , -0.05965417, -0.09154125,  0.02793355,\n",
       "         0.24845349, -0.09154125, -0.2801741 , -0.06640112,  0.00034985]])"
      ]
     },
     "execution_count": 305,
     "metadata": {},
     "output_type": "execute_result"
    }
   ],
   "source": [
    "model.coef_"
   ]
  },
  {
   "cell_type": "code",
   "execution_count": null,
   "id": "d736abff",
   "metadata": {},
   "outputs": [],
   "source": []
  }
 ],
 "metadata": {
  "kernelspec": {
   "display_name": "Python 3",
   "language": "python",
   "name": "python3"
  },
  "language_info": {
   "codemirror_mode": {
    "name": "ipython",
    "version": 3
   },
   "file_extension": ".py",
   "mimetype": "text/x-python",
   "name": "python",
   "nbconvert_exporter": "python",
   "pygments_lexer": "ipython3",
   "version": "3.8.8"
  }
 },
 "nbformat": 4,
 "nbformat_minor": 5
}

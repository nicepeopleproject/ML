{
 "cells": [
  {
   "cell_type": "markdown",
   "id": "d0bcf31d",
   "metadata": {},
   "source": [
    "# 4. Evaluation Metrics for Classification\n",
    "In the previous session we trained a model for predicting churn. How do we know if it's good?\n",
    "## 4.1 Evaluation metrics: session overview\n",
    "Dataset: https://www.kaggle.com/blastchar/telco-customer-churn\n",
    "https://raw.githubusercontent.com/alexeygrigorev/mlbookcamp-code/master/chapter-03-churn-prediction/WA_Fn-UseC_-Telco-Customer-Churn.csv\n",
    "Metric - function that compares the predictions with the actual values and outputs a single number that tells how good the predictions are"
   ]
  },
  {
   "cell_type": "code",
   "execution_count": 1,
   "id": "c348f005",
   "metadata": {},
   "outputs": [],
   "source": [
    "import pandas as pd\n",
    "import numpy as np\n",
    "\n",
    "import matplotlib.pyplot as plt"
   ]
  },
  {
   "cell_type": "code",
   "execution_count": 2,
   "id": "b5c16ff8",
   "metadata": {},
   "outputs": [],
   "source": [
    "from sklearn.model_selection import train_test_split\n",
    "from sklearn.feature_extraction import DictVectorizer\n",
    "from sklearn.linear_model import LogisticRegression"
   ]
  },
  {
   "cell_type": "code",
   "execution_count": 3,
   "id": "38fe74b1",
   "metadata": {},
   "outputs": [],
   "source": [
    "data_url = 'https://raw.githubusercontent.com/alexeygrigorev/mlbookcamp-code/master/chapter-03-churn-prediction/WA_Fn-UseC_-Telco-Customer-Churn.csv'"
   ]
  },
  {
   "cell_type": "code",
   "execution_count": 4,
   "id": "98f5f00a",
   "metadata": {},
   "outputs": [],
   "source": [
    "#!wget $data_url -O data-week-3.csv"
   ]
  },
  {
   "cell_type": "code",
   "execution_count": 5,
   "id": "201d403a",
   "metadata": {},
   "outputs": [],
   "source": [
    "df = pd.read_csv('data-week-3.csv')"
   ]
  },
  {
   "cell_type": "code",
   "execution_count": 6,
   "id": "6a989746",
   "metadata": {},
   "outputs": [],
   "source": [
    "df.columns = df.columns.str.lower().str.replace(' ', '_')"
   ]
  },
  {
   "cell_type": "code",
   "execution_count": 7,
   "id": "4089957d",
   "metadata": {},
   "outputs": [],
   "source": [
    "categorical_columns = list(df.dtypes[df.dtypes == 'object'].index)\n",
    "\n",
    "for c in categorical_columns:\n",
    "    df[c] = df[c].str.lower().str.replace(' ', '_')"
   ]
  },
  {
   "cell_type": "code",
   "execution_count": 8,
   "id": "75955ff0",
   "metadata": {},
   "outputs": [],
   "source": [
    "df.totalcharges = pd.to_numeric(df.totalcharges, errors='coerce')\n",
    "df.totalcharges = df.totalcharges.fillna(0)\n",
    "df.churn = (df.churn == 'yes').astype(int)"
   ]
  },
  {
   "cell_type": "code",
   "execution_count": 9,
   "id": "a7ae2ae3",
   "metadata": {},
   "outputs": [],
   "source": [
    "df_full_train, df_test = train_test_split(df, test_size=0.2, random_state=1)\n",
    "df_train, df_val = train_test_split(df_full_train, test_size=0.25, random_state=1)"
   ]
  },
  {
   "cell_type": "code",
   "execution_count": 10,
   "id": "b9eab5c6",
   "metadata": {},
   "outputs": [],
   "source": [
    "df_train = df_train.reset_index(drop=True)\n",
    "df_val = df_val.reset_index(drop=True)\n",
    "df_test = df_test.reset_index(drop=True)"
   ]
  },
  {
   "cell_type": "code",
   "execution_count": 11,
   "id": "ee4474a9",
   "metadata": {},
   "outputs": [],
   "source": [
    "y_train = df_train.churn.values\n",
    "y_val = df_val.churn.values\n",
    "y_test = df_test.churn.values"
   ]
  },
  {
   "cell_type": "code",
   "execution_count": 12,
   "id": "0a19dac0",
   "metadata": {},
   "outputs": [],
   "source": [
    "del df_train['churn']\n",
    "del df_val['churn']\n",
    "del df_test['churn']"
   ]
  },
  {
   "cell_type": "code",
   "execution_count": 13,
   "id": "b468ad1b",
   "metadata": {},
   "outputs": [],
   "source": [
    "numerical = ['tenure', 'monthlycharges', 'totalcharges']"
   ]
  },
  {
   "cell_type": "code",
   "execution_count": 14,
   "id": "c33a83f1",
   "metadata": {},
   "outputs": [],
   "source": [
    "categorical = [\n",
    "    'gender',\n",
    "    'seniorcitizen',\n",
    "    'partner',\n",
    "    'dependents',\n",
    "    'phoneservice',\n",
    "    'multiplelines',\n",
    "    'internetservice',\n",
    "    'onlinesecurity',\n",
    "    'onlinebackup',\n",
    "    'deviceprotection',\n",
    "    'techsupport',\n",
    "    'streamingtv',\n",
    "    'streamingmovies',\n",
    "    'contract',\n",
    "    'paperlessbilling',\n",
    "    'paymentmethod',\n",
    "]"
   ]
  },
  {
   "cell_type": "code",
   "execution_count": 15,
   "id": "a6920fd1",
   "metadata": {},
   "outputs": [],
   "source": [
    "dv = DictVectorizer(sparse=False)"
   ]
  },
  {
   "cell_type": "code",
   "execution_count": 16,
   "id": "ccf71249",
   "metadata": {},
   "outputs": [],
   "source": [
    "train_dict = df_train[categorical + numerical].to_dict(orient='records')\n",
    "X_train = dv.fit_transform(train_dict)"
   ]
  },
  {
   "cell_type": "code",
   "execution_count": 17,
   "id": "667771a6",
   "metadata": {},
   "outputs": [
    {
     "name": "stderr",
     "output_type": "stream",
     "text": [
      "/Users/artemnikolaev/opt/anaconda3/lib/python3.8/site-packages/sklearn/linear_model/_logistic.py:763: ConvergenceWarning: lbfgs failed to converge (status=1):\n",
      "STOP: TOTAL NO. of ITERATIONS REACHED LIMIT.\n",
      "\n",
      "Increase the number of iterations (max_iter) or scale the data as shown in:\n",
      "    https://scikit-learn.org/stable/modules/preprocessing.html\n",
      "Please also refer to the documentation for alternative solver options:\n",
      "    https://scikit-learn.org/stable/modules/linear_model.html#logistic-regression\n",
      "  n_iter_i = _check_optimize_result(\n"
     ]
    },
    {
     "data": {
      "text/plain": [
       "LogisticRegression()"
      ]
     },
     "execution_count": 17,
     "metadata": {},
     "output_type": "execute_result"
    }
   ],
   "source": [
    "model = LogisticRegression()\n",
    "model.fit(X_train, y_train)"
   ]
  },
  {
   "cell_type": "code",
   "execution_count": 18,
   "id": "24580016",
   "metadata": {},
   "outputs": [],
   "source": [
    "val_dict = df_val[categorical + numerical].to_dict(orient='records')\n",
    "X_val = dv.transform(val_dict)\n",
    "y_pred = model.predict_proba(X_val)[:, 1]\n",
    "churn_decision = (y_pred >= 0.5)"
   ]
  },
  {
   "cell_type": "code",
   "execution_count": 19,
   "id": "1b4087f2",
   "metadata": {
    "scrolled": true
   },
   "outputs": [
    {
     "data": {
      "text/plain": [
       "0.8034066713981547"
      ]
     },
     "execution_count": 19,
     "metadata": {},
     "output_type": "execute_result"
    }
   ],
   "source": [
    "(y_val == churn_decision).mean()"
   ]
  },
  {
   "cell_type": "markdown",
   "id": "a8f6578f",
   "metadata": {},
   "source": [
    "# Accuracy and dummy model"
   ]
  },
  {
   "cell_type": "code",
   "execution_count": 20,
   "id": "12c9273f",
   "metadata": {},
   "outputs": [],
   "source": [
    "# accuracy = frequency of correct prediction or fraction of correct prediction"
   ]
  },
  {
   "cell_type": "code",
   "execution_count": 21,
   "id": "f0d390cd",
   "metadata": {},
   "outputs": [],
   "source": [
    "from sklearn.metrics import accuracy_score"
   ]
  },
  {
   "cell_type": "code",
   "execution_count": 22,
   "id": "b8461786",
   "metadata": {},
   "outputs": [
    {
     "data": {
      "text/plain": [
       "0.8034066713981547"
      ]
     },
     "execution_count": 22,
     "metadata": {},
     "output_type": "execute_result"
    }
   ],
   "source": [
    "accuracy_score(y_val, y_pred >= 0.5)"
   ]
  },
  {
   "cell_type": "code",
   "execution_count": 23,
   "id": "635a50d4",
   "metadata": {},
   "outputs": [],
   "source": [
    "thresholds = np.linspace(0, 1, 21)\n",
    "scores = []\n",
    "\n",
    "for t in thresholds:\n",
    "    #churn_decision = (y_pred >= t)\n",
    "    #print('%.2f %.3f' % (t, (y_val == churn_decision).mean()))\n",
    "    #scores.append((y_val == churn_decision).mean())\n",
    "    score = accuracy_score(y_val, y_pred >= t)\n",
    "    scores.append(score)"
   ]
  },
  {
   "cell_type": "code",
   "execution_count": 24,
   "id": "af84006e",
   "metadata": {
    "scrolled": true
   },
   "outputs": [
    {
     "data": {
      "text/plain": [
       "[<matplotlib.lines.Line2D at 0x7fd188b6ae50>]"
      ]
     },
     "execution_count": 24,
     "metadata": {},
     "output_type": "execute_result"
    },
    {
     "data": {
      "image/png": "[encoded data removed]",
      "text/plain": [
       "<Figure size 432x288 with 1 Axes>"
      ]
     },
     "metadata": {
      "needs_background": "light"
     },
     "output_type": "display_data"
    }
   ],
   "source": [
    "plt.plot(thresholds, scores)"
   ]
  },
  {
   "cell_type": "code",
   "execution_count": 25,
   "id": "63fd5cc2",
   "metadata": {},
   "outputs": [],
   "source": [
    "from collections import Counter"
   ]
  },
  {
   "cell_type": "code",
   "execution_count": 26,
   "id": "6e246aae",
   "metadata": {},
   "outputs": [
    {
     "data": {
      "text/plain": [
       "Counter({False: 1409})"
      ]
     },
     "execution_count": 26,
     "metadata": {},
     "output_type": "execute_result"
    }
   ],
   "source": [
    "Counter(y_pred >= 1)"
   ]
  },
  {
   "cell_type": "code",
   "execution_count": 27,
   "id": "ac5da0e0",
   "metadata": {},
   "outputs": [
    {
     "data": {
      "text/plain": [
       "0.7260468417317246"
      ]
     },
     "execution_count": 27,
     "metadata": {},
     "output_type": "execute_result"
    }
   ],
   "source": [
    "Counter(y_val)[0]/sum(Counter(y_val).values())"
   ]
  },
  {
   "cell_type": "code",
   "execution_count": 28,
   "id": "c048c648",
   "metadata": {},
   "outputs": [
    {
     "data": {
      "text/plain": [
       "(0.2739531582682754, 0.7260468417317246)"
      ]
     },
     "execution_count": 28,
     "metadata": {},
     "output_type": "execute_result"
    }
   ],
   "source": [
    "y_val.mean(), 1 - y_val.mean()"
   ]
  },
  {
   "cell_type": "code",
   "execution_count": 29,
   "id": "1ecebcdc",
   "metadata": {},
   "outputs": [
    {
     "data": {
      "text/plain": [
       "2.650259067357513"
      ]
     },
     "execution_count": 29,
     "metadata": {},
     "output_type": "execute_result"
    }
   ],
   "source": [
    "# here we see class embalance, so score is good in start for dummy model\n",
    "(1-y_val.mean())/y_val.mean() # 2.6 : 1 "
   ]
  },
  {
   "cell_type": "markdown",
   "id": "c726feb6",
   "metadata": {},
   "source": [
    "# Confusion table\n",
    "- diffrent types of errors and correct decisions\n",
    "- Arranging them in table"
   ]
  },
  {
   "cell_type": "code",
   "execution_count": 30,
   "id": "2eb29588",
   "metadata": {},
   "outputs": [],
   "source": [
    "# we want to have metrics which isn't affected with class embalance"
   ]
  },
  {
   "cell_type": "markdown",
   "id": "70348ba3",
   "metadata": {},
   "source": [
    "Diffrent results:\n",
    "- true possitive\n",
    "- true negative\n",
    "- false positive (we think that it's positive but it's negative)\n",
    "- false negative"
   ]
  },
  {
   "cell_type": "code",
   "execution_count": 31,
   "id": "9dd6d9d7",
   "metadata": {},
   "outputs": [],
   "source": [
    "actual_positive = (y_val == 1)\n",
    "actual_negative = (y_val == 0)"
   ]
  },
  {
   "cell_type": "code",
   "execution_count": 32,
   "id": "b5636b7b",
   "metadata": {},
   "outputs": [],
   "source": [
    "t = 0.5\n",
    "predicted_positive = (y_pred >= t)\n",
    "predicted_negative = (y_pred < t)"
   ]
  },
  {
   "cell_type": "code",
   "execution_count": 33,
   "id": "842cde46",
   "metadata": {},
   "outputs": [],
   "source": [
    "tp = (actual_positive & predicted_positive).sum()\n",
    "tn = (actual_negative & predicted_negative).sum()\n",
    "fp = (actual_negative & predicted_positive).sum()\n",
    "fn = (actual_positive & predicted_negative).sum()"
   ]
  },
  {
   "cell_type": "code",
   "execution_count": 34,
   "id": "6fa0d176",
   "metadata": {},
   "outputs": [
    {
     "data": {
      "text/plain": [
       "0.149041873669269"
      ]
     },
     "execution_count": 34,
     "metadata": {},
     "output_type": "execute_result"
    }
   ],
   "source": [
    "tp/len(y_val)"
   ]
  },
  {
   "cell_type": "code",
   "execution_count": 35,
   "id": "65908388",
   "metadata": {},
   "outputs": [
    {
     "data": {
      "text/plain": [
       "0.149041873669269"
      ]
     },
     "execution_count": 35,
     "metadata": {},
     "output_type": "execute_result"
    }
   ],
   "source": [
    "(actual_positive & predicted_positive).mean()"
   ]
  },
  {
   "cell_type": "code",
   "execution_count": 36,
   "id": "ee493089",
   "metadata": {},
   "outputs": [
    {
     "data": {
      "text/plain": [
       "0.12491128459900638"
      ]
     },
     "execution_count": 36,
     "metadata": {},
     "output_type": "execute_result"
    }
   ],
   "source": [
    "(actual_positive & predicted_negative).mean()"
   ]
  },
  {
   "cell_type": "code",
   "execution_count": 37,
   "id": "45797af5",
   "metadata": {},
   "outputs": [
    {
     "data": {
      "text/plain": [
       "0.0716820440028389"
      ]
     },
     "execution_count": 37,
     "metadata": {},
     "output_type": "execute_result"
    }
   ],
   "source": [
    "(actual_negative & predicted_positive).mean()"
   ]
  },
  {
   "cell_type": "code",
   "execution_count": 38,
   "id": "3074a34c",
   "metadata": {},
   "outputs": [
    {
     "data": {
      "text/plain": [
       "0.6543647977288858"
      ]
     },
     "execution_count": 38,
     "metadata": {},
     "output_type": "execute_result"
    }
   ],
   "source": [
    "(actual_negative & predicted_negative).mean()"
   ]
  },
  {
   "cell_type": "code",
   "execution_count": 39,
   "id": "195210e0",
   "metadata": {},
   "outputs": [],
   "source": [
    "confusion_matrix = np.array([\n",
    "    [tn, fp],\n",
    "    [fn, tp]\n",
    "])"
   ]
  },
  {
   "cell_type": "code",
   "execution_count": 40,
   "id": "cf9ba04f",
   "metadata": {},
   "outputs": [],
   "source": [
    "normalized_confusion_matrix = (confusion_matrix/confusion_matrix.sum()).round(2)"
   ]
  },
  {
   "cell_type": "code",
   "execution_count": 41,
   "id": "23d887e6",
   "metadata": {},
   "outputs": [
    {
     "data": {
      "text/plain": [
       "array([[0.65, 0.07],\n",
       "       [0.12, 0.15]])"
      ]
     },
     "execution_count": 41,
     "metadata": {},
     "output_type": "execute_result"
    }
   ],
   "source": [
    "normalized_confusion_matrix"
   ]
  },
  {
   "cell_type": "markdown",
   "id": "bd5dc58c",
   "metadata": {},
   "source": [
    "# Precision and Recall"
   ]
  },
  {
   "cell_type": "code",
   "execution_count": 42,
   "id": "62eef08f",
   "metadata": {},
   "outputs": [
    {
     "data": {
      "text/plain": [
       "0.8034066713981547"
      ]
     },
     "execution_count": 42,
     "metadata": {},
     "output_type": "execute_result"
    }
   ],
   "source": [
    "#acc = \n",
    "(tp + tn)/(tp+tn+fn+fp)"
   ]
  },
  {
   "cell_type": "code",
   "execution_count": 43,
   "id": "dd9efbbf",
   "metadata": {},
   "outputs": [],
   "source": [
    "# precision = how many positive precision turn out to be correct\n",
    "# fraction of correct positive predictions"
   ]
  },
  {
   "cell_type": "code",
   "execution_count": 44,
   "id": "4d93914e",
   "metadata": {},
   "outputs": [],
   "source": [
    "precision = tp / (tp + fp)"
   ]
  },
  {
   "cell_type": "code",
   "execution_count": 45,
   "id": "be1772a9",
   "metadata": {},
   "outputs": [
    {
     "data": {
      "text/plain": [
       "0.6752411575562701"
      ]
     },
     "execution_count": 45,
     "metadata": {},
     "output_type": "execute_result"
    }
   ],
   "source": [
    "precision"
   ]
  },
  {
   "cell_type": "code",
   "execution_count": 46,
   "id": "c5ff62e3",
   "metadata": {},
   "outputs": [],
   "source": [
    "# recall - positive examples that we identified correctly\n",
    "recall = tp / (tp + fn)"
   ]
  },
  {
   "cell_type": "code",
   "execution_count": 47,
   "id": "735f3de2",
   "metadata": {},
   "outputs": [
    {
     "data": {
      "text/plain": [
       "0.5440414507772021"
      ]
     },
     "execution_count": 47,
     "metadata": {},
     "output_type": "execute_result"
    }
   ],
   "source": [
    "recall"
   ]
  },
  {
   "cell_type": "markdown",
   "id": "80a11a54",
   "metadata": {},
   "source": [
    "# ROC = receiver operating characteristic \n",
    "# ROC CURVES"
   ]
  },
  {
   "cell_type": "markdown",
   "id": "07f0443f",
   "metadata": {},
   "source": [
    "## TPR & FPR"
   ]
  },
  {
   "cell_type": "code",
   "execution_count": 48,
   "id": "2de21957",
   "metadata": {},
   "outputs": [],
   "source": [
    "FPR  = fp / (fp + tn)"
   ]
  },
  {
   "cell_type": "code",
   "execution_count": 49,
   "id": "9f01affd",
   "metadata": {},
   "outputs": [
    {
     "data": {
      "text/plain": [
       "0.09872922776148582"
      ]
     },
     "execution_count": 49,
     "metadata": {},
     "output_type": "execute_result"
    }
   ],
   "source": [
    "FPR"
   ]
  },
  {
   "cell_type": "code",
   "execution_count": 50,
   "id": "5222059d",
   "metadata": {},
   "outputs": [],
   "source": [
    "TPR = tp / (tp + fn)"
   ]
  },
  {
   "cell_type": "code",
   "execution_count": 51,
   "id": "0813f5a6",
   "metadata": {},
   "outputs": [
    {
     "data": {
      "text/plain": [
       "0.5440414507772021"
      ]
     },
     "execution_count": 51,
     "metadata": {},
     "output_type": "execute_result"
    }
   ],
   "source": [
    "TPR # same as recall"
   ]
  },
  {
   "cell_type": "code",
   "execution_count": 52,
   "id": "df187df7",
   "metadata": {},
   "outputs": [],
   "source": [
    "# we want to minimize FPR and maximize TPR\n",
    "# ROC bases on two values"
   ]
  },
  {
   "cell_type": "code",
   "execution_count": 53,
   "id": "19a0b3b2",
   "metadata": {},
   "outputs": [],
   "source": [
    "tresholds = np.linspace(0, 1, 101)\n",
    "scores = []\n",
    "for t in tresholds:\n",
    "    actual_positive = (y_val == 1)\n",
    "    actual_negative = (y_val == 0)\n",
    "    predicted_positive = (y_pred >= t)\n",
    "    predicted_negative = (y_pred < t)\n",
    "    tp = (actual_positive & predicted_positive).sum()\n",
    "    tn = (actual_negative & predicted_negative).sum()\n",
    "    fp = (actual_negative & predicted_positive).sum()\n",
    "    fn = (actual_positive & predicted_negative).sum()\n",
    "    \n",
    "    scores.append((t, tp, fp, fn, tn))\n"
   ]
  },
  {
   "cell_type": "code",
   "execution_count": 54,
   "id": "6c16323c",
   "metadata": {},
   "outputs": [],
   "source": [
    "columns = ['treshold', 'tp', 'fp', 'fn', 'tn' ]\n",
    "df_scores = pd.DataFrame(scores, columns = columns)"
   ]
  },
  {
   "cell_type": "code",
   "execution_count": 55,
   "id": "b426a685",
   "metadata": {},
   "outputs": [
    {
     "data": {
      "text/html": [
       "<div>\n",
       "<style scoped>\n",
       "    .dataframe tbody tr th:only-of-type {\n",
       "        vertical-align: middle;\n",
       "    }\n",
       "\n",
       "    .dataframe tbody tr th {\n",
       "        vertical-align: top;\n",
       "    }\n",
       "\n",
       "    .dataframe thead th {\n",
       "        text-align: right;\n",
       "    }\n",
       "</style>\n",
       "<table border=\"1\" class=\"dataframe\">\n",
       "  <thead>\n",
       "    <tr style=\"text-align: right;\">\n",
       "      <th></th>\n",
       "      <th>treshold</th>\n",
       "      <th>tp</th>\n",
       "      <th>fp</th>\n",
       "      <th>fn</th>\n",
       "      <th>tn</th>\n",
       "    </tr>\n",
       "  </thead>\n",
       "  <tbody>\n",
       "    <tr>\n",
       "      <th>0</th>\n",
       "      <td>0.0</td>\n",
       "      <td>386</td>\n",
       "      <td>1023</td>\n",
       "      <td>0</td>\n",
       "      <td>0</td>\n",
       "    </tr>\n",
       "    <tr>\n",
       "      <th>10</th>\n",
       "      <td>0.1</td>\n",
       "      <td>366</td>\n",
       "      <td>556</td>\n",
       "      <td>20</td>\n",
       "      <td>467</td>\n",
       "    </tr>\n",
       "    <tr>\n",
       "      <th>20</th>\n",
       "      <td>0.2</td>\n",
       "      <td>333</td>\n",
       "      <td>356</td>\n",
       "      <td>53</td>\n",
       "      <td>667</td>\n",
       "    </tr>\n",
       "    <tr>\n",
       "      <th>30</th>\n",
       "      <td>0.3</td>\n",
       "      <td>284</td>\n",
       "      <td>236</td>\n",
       "      <td>102</td>\n",
       "      <td>787</td>\n",
       "    </tr>\n",
       "    <tr>\n",
       "      <th>40</th>\n",
       "      <td>0.4</td>\n",
       "      <td>249</td>\n",
       "      <td>166</td>\n",
       "      <td>137</td>\n",
       "      <td>857</td>\n",
       "    </tr>\n",
       "    <tr>\n",
       "      <th>50</th>\n",
       "      <td>0.5</td>\n",
       "      <td>210</td>\n",
       "      <td>101</td>\n",
       "      <td>176</td>\n",
       "      <td>922</td>\n",
       "    </tr>\n",
       "    <tr>\n",
       "      <th>60</th>\n",
       "      <td>0.6</td>\n",
       "      <td>150</td>\n",
       "      <td>53</td>\n",
       "      <td>236</td>\n",
       "      <td>970</td>\n",
       "    </tr>\n",
       "    <tr>\n",
       "      <th>70</th>\n",
       "      <td>0.7</td>\n",
       "      <td>75</td>\n",
       "      <td>20</td>\n",
       "      <td>311</td>\n",
       "      <td>1003</td>\n",
       "    </tr>\n",
       "    <tr>\n",
       "      <th>80</th>\n",
       "      <td>0.8</td>\n",
       "      <td>13</td>\n",
       "      <td>1</td>\n",
       "      <td>373</td>\n",
       "      <td>1022</td>\n",
       "    </tr>\n",
       "    <tr>\n",
       "      <th>90</th>\n",
       "      <td>0.9</td>\n",
       "      <td>0</td>\n",
       "      <td>0</td>\n",
       "      <td>386</td>\n",
       "      <td>1023</td>\n",
       "    </tr>\n",
       "    <tr>\n",
       "      <th>100</th>\n",
       "      <td>1.0</td>\n",
       "      <td>0</td>\n",
       "      <td>0</td>\n",
       "      <td>386</td>\n",
       "      <td>1023</td>\n",
       "    </tr>\n",
       "  </tbody>\n",
       "</table>\n",
       "</div>"
      ],
      "text/plain": [
       "     treshold   tp    fp   fn    tn\n",
       "0         0.0  386  1023    0     0\n",
       "10        0.1  366   556   20   467\n",
       "20        0.2  333   356   53   667\n",
       "30        0.3  284   236  102   787\n",
       "40        0.4  249   166  137   857\n",
       "50        0.5  210   101  176   922\n",
       "60        0.6  150    53  236   970\n",
       "70        0.7   75    20  311  1003\n",
       "80        0.8   13     1  373  1022\n",
       "90        0.9    0     0  386  1023\n",
       "100       1.0    0     0  386  1023"
      ]
     },
     "execution_count": 55,
     "metadata": {},
     "output_type": "execute_result"
    }
   ],
   "source": [
    "df_scores[::10]#each tens record"
   ]
  },
  {
   "cell_type": "code",
   "execution_count": 56,
   "id": "2fef8663",
   "metadata": {},
   "outputs": [],
   "source": [
    "df_scores['TPR'] = df_scores.tp / (df_scores.tp + df_scores.fn)\n",
    "df_scores['FPR']  = df_scores.fp / (df_scores.fp + df_scores.tn)"
   ]
  },
  {
   "cell_type": "code",
   "execution_count": 57,
   "id": "be542371",
   "metadata": {},
   "outputs": [
    {
     "data": {
      "text/html": [
       "<div>\n",
       "<style scoped>\n",
       "    .dataframe tbody tr th:only-of-type {\n",
       "        vertical-align: middle;\n",
       "    }\n",
       "\n",
       "    .dataframe tbody tr th {\n",
       "        vertical-align: top;\n",
       "    }\n",
       "\n",
       "    .dataframe thead th {\n",
       "        text-align: right;\n",
       "    }\n",
       "</style>\n",
       "<table border=\"1\" class=\"dataframe\">\n",
       "  <thead>\n",
       "    <tr style=\"text-align: right;\">\n",
       "      <th></th>\n",
       "      <th>treshold</th>\n",
       "      <th>tp</th>\n",
       "      <th>fp</th>\n",
       "      <th>fn</th>\n",
       "      <th>tn</th>\n",
       "      <th>TPR</th>\n",
       "      <th>FPR</th>\n",
       "    </tr>\n",
       "  </thead>\n",
       "  <tbody>\n",
       "    <tr>\n",
       "      <th>0</th>\n",
       "      <td>0.0</td>\n",
       "      <td>386</td>\n",
       "      <td>1023</td>\n",
       "      <td>0</td>\n",
       "      <td>0</td>\n",
       "      <td>1.000000</td>\n",
       "      <td>1.000000</td>\n",
       "    </tr>\n",
       "    <tr>\n",
       "      <th>10</th>\n",
       "      <td>0.1</td>\n",
       "      <td>366</td>\n",
       "      <td>556</td>\n",
       "      <td>20</td>\n",
       "      <td>467</td>\n",
       "      <td>0.948187</td>\n",
       "      <td>0.543500</td>\n",
       "    </tr>\n",
       "    <tr>\n",
       "      <th>20</th>\n",
       "      <td>0.2</td>\n",
       "      <td>333</td>\n",
       "      <td>356</td>\n",
       "      <td>53</td>\n",
       "      <td>667</td>\n",
       "      <td>0.862694</td>\n",
       "      <td>0.347996</td>\n",
       "    </tr>\n",
       "    <tr>\n",
       "      <th>30</th>\n",
       "      <td>0.3</td>\n",
       "      <td>284</td>\n",
       "      <td>236</td>\n",
       "      <td>102</td>\n",
       "      <td>787</td>\n",
       "      <td>0.735751</td>\n",
       "      <td>0.230694</td>\n",
       "    </tr>\n",
       "    <tr>\n",
       "      <th>40</th>\n",
       "      <td>0.4</td>\n",
       "      <td>249</td>\n",
       "      <td>166</td>\n",
       "      <td>137</td>\n",
       "      <td>857</td>\n",
       "      <td>0.645078</td>\n",
       "      <td>0.162268</td>\n",
       "    </tr>\n",
       "    <tr>\n",
       "      <th>50</th>\n",
       "      <td>0.5</td>\n",
       "      <td>210</td>\n",
       "      <td>101</td>\n",
       "      <td>176</td>\n",
       "      <td>922</td>\n",
       "      <td>0.544041</td>\n",
       "      <td>0.098729</td>\n",
       "    </tr>\n",
       "    <tr>\n",
       "      <th>60</th>\n",
       "      <td>0.6</td>\n",
       "      <td>150</td>\n",
       "      <td>53</td>\n",
       "      <td>236</td>\n",
       "      <td>970</td>\n",
       "      <td>0.388601</td>\n",
       "      <td>0.051808</td>\n",
       "    </tr>\n",
       "    <tr>\n",
       "      <th>70</th>\n",
       "      <td>0.7</td>\n",
       "      <td>75</td>\n",
       "      <td>20</td>\n",
       "      <td>311</td>\n",
       "      <td>1003</td>\n",
       "      <td>0.194301</td>\n",
       "      <td>0.019550</td>\n",
       "    </tr>\n",
       "    <tr>\n",
       "      <th>80</th>\n",
       "      <td>0.8</td>\n",
       "      <td>13</td>\n",
       "      <td>1</td>\n",
       "      <td>373</td>\n",
       "      <td>1022</td>\n",
       "      <td>0.033679</td>\n",
       "      <td>0.000978</td>\n",
       "    </tr>\n",
       "    <tr>\n",
       "      <th>90</th>\n",
       "      <td>0.9</td>\n",
       "      <td>0</td>\n",
       "      <td>0</td>\n",
       "      <td>386</td>\n",
       "      <td>1023</td>\n",
       "      <td>0.000000</td>\n",
       "      <td>0.000000</td>\n",
       "    </tr>\n",
       "    <tr>\n",
       "      <th>100</th>\n",
       "      <td>1.0</td>\n",
       "      <td>0</td>\n",
       "      <td>0</td>\n",
       "      <td>386</td>\n",
       "      <td>1023</td>\n",
       "      <td>0.000000</td>\n",
       "      <td>0.000000</td>\n",
       "    </tr>\n",
       "  </tbody>\n",
       "</table>\n",
       "</div>"
      ],
      "text/plain": [
       "     treshold   tp    fp   fn    tn       TPR       FPR\n",
       "0         0.0  386  1023    0     0  1.000000  1.000000\n",
       "10        0.1  366   556   20   467  0.948187  0.543500\n",
       "20        0.2  333   356   53   667  0.862694  0.347996\n",
       "30        0.3  284   236  102   787  0.735751  0.230694\n",
       "40        0.4  249   166  137   857  0.645078  0.162268\n",
       "50        0.5  210   101  176   922  0.544041  0.098729\n",
       "60        0.6  150    53  236   970  0.388601  0.051808\n",
       "70        0.7   75    20  311  1003  0.194301  0.019550\n",
       "80        0.8   13     1  373  1022  0.033679  0.000978\n",
       "90        0.9    0     0  386  1023  0.000000  0.000000\n",
       "100       1.0    0     0  386  1023  0.000000  0.000000"
      ]
     },
     "execution_count": 57,
     "metadata": {},
     "output_type": "execute_result"
    }
   ],
   "source": [
    "df_scores[::10]"
   ]
  },
  {
   "cell_type": "code",
   "execution_count": 58,
   "id": "fe30a1a3",
   "metadata": {},
   "outputs": [
    {
     "data": {
      "image/png": "[encoded data removed]",
      "text/plain": [
       "<Figure size 432x288 with 1 Axes>"
      ]
     },
     "metadata": {
      "needs_background": "light"
     },
     "output_type": "display_data"
    }
   ],
   "source": [
    "plt.plot(df_scores.treshold, df_scores.TPR, color = 'red', label = 'TPR')\n",
    "plt.plot(df_scores.treshold, df_scores.FPR, label = 'FPR')\n",
    "plt.legend()# we want to compare, hard to understand something from this graph\n",
    "plt.show()"
   ]
  },
  {
   "cell_type": "markdown",
   "id": "2ac8514b",
   "metadata": {},
   "source": [
    "# Random model"
   ]
  },
  {
   "cell_type": "code",
   "execution_count": 59,
   "id": "95cb89c8",
   "metadata": {},
   "outputs": [],
   "source": [
    "np.random.seed(1)\n",
    "y_rand = np.random.uniform(0,1 ,size = len(y_val))"
   ]
  },
  {
   "cell_type": "code",
   "execution_count": 60,
   "id": "7014f285",
   "metadata": {},
   "outputs": [
    {
     "data": {
      "text/plain": [
       "array([0.417, 0.72 , 0.   , ..., 0.774, 0.334, 0.089])"
      ]
     },
     "execution_count": 60,
     "metadata": {},
     "output_type": "execute_result"
    }
   ],
   "source": [
    "y_rand.round(3)"
   ]
  },
  {
   "cell_type": "code",
   "execution_count": 61,
   "id": "b8b66979",
   "metadata": {},
   "outputs": [
    {
     "data": {
      "text/plain": [
       "0.5017743080198722"
      ]
     },
     "execution_count": 61,
     "metadata": {},
     "output_type": "execute_result"
    }
   ],
   "source": [
    "((y_rand >= 0.5) == y_val).mean() # acc of this model"
   ]
  },
  {
   "cell_type": "code",
   "execution_count": 62,
   "id": "98bf4016",
   "metadata": {},
   "outputs": [],
   "source": [
    "def tpr_fpr(y_val, y_pred):\n",
    "    tresholds = np.linspace(0, 1, 101)\n",
    "    scores = []\n",
    "    for t in tresholds:\n",
    "        actual_positive = (y_val == 1)\n",
    "        actual_negative = (y_val == 0)\n",
    "        predicted_positive = (y_pred >= t)\n",
    "        predicted_negative = (y_pred < t)\n",
    "        tp = (actual_positive & predicted_positive).sum()\n",
    "        tn = (actual_negative & predicted_negative).sum()\n",
    "        fp = (actual_negative & predicted_positive).sum()\n",
    "        fn = (actual_positive & predicted_negative).sum()\n",
    "\n",
    "        scores.append((t, tp, fp, fn, tn))\n",
    "\n",
    "    columns = ['treshold', 'tp', 'fp', 'fn', 'tn' ]\n",
    "    df_scores = pd.DataFrame(scores, columns = columns)\n",
    "    df_scores['TPR'] = df_scores.tp / (df_scores.tp + df_scores.fn)\n",
    "    df_scores['FPR']  = df_scores.fp / (df_scores.fp + df_scores.tn)\n",
    "    return df_scores"
   ]
  },
  {
   "cell_type": "code",
   "execution_count": 63,
   "id": "3e904166",
   "metadata": {},
   "outputs": [],
   "source": [
    "df_rand = tpr_fpr(y_val, y_rand)"
   ]
  },
  {
   "cell_type": "code",
   "execution_count": 64,
   "id": "f7157e23",
   "metadata": {},
   "outputs": [
    {
     "data": {
      "image/png": "[encoded data removed]",
      "text/plain": [
       "<Figure size 432x288 with 1 Axes>"
      ]
     },
     "metadata": {
      "needs_background": "light"
     },
     "output_type": "display_data"
    }
   ],
   "source": [
    "plt.plot(df_rand.treshold, df_rand.TPR, color = 'red', label = 'TPR')\n",
    "plt.plot(df_rand.treshold, df_rand.FPR, label = 'FPR')\n",
    "plt.legend()# we want to compare, hard to understand something from this graph\n",
    "plt.show()"
   ]
  },
  {
   "cell_type": "markdown",
   "id": "9e3b9559",
   "metadata": {},
   "source": [
    "# Ideal model"
   ]
  },
  {
   "cell_type": "code",
   "execution_count": 65,
   "id": "71491cd8",
   "metadata": {},
   "outputs": [],
   "source": [
    "num_neg = (y_val == 0).sum()\n",
    "num_pos = (y_val == 1).sum()"
   ]
  },
  {
   "cell_type": "code",
   "execution_count": 66,
   "id": "5634e564",
   "metadata": {},
   "outputs": [],
   "source": [
    "y_ideal = np.repeat([0, 1], [num_neg, num_pos])\n",
    "y_ideal_predictions = np.linspace(0, 1, len(y_val))"
   ]
  },
  {
   "cell_type": "code",
   "execution_count": 67,
   "id": "22aec534",
   "metadata": {},
   "outputs": [],
   "source": [
    "df_ideal = tpr_fpr(y_ideal, y_ideal_predictions)"
   ]
  },
  {
   "cell_type": "code",
   "execution_count": 68,
   "id": "f9f8942b",
   "metadata": {},
   "outputs": [
    {
     "data": {
      "image/png": "[encoded data removed]",
      "text/plain": [
       "<Figure size 432x288 with 1 Axes>"
      ]
     },
     "metadata": {
      "needs_background": "light"
     },
     "output_type": "display_data"
    }
   ],
   "source": [
    "plt.plot(df_ideal.treshold, df_ideal.TPR, color = 'red', label = 'TPR')\n",
    "plt.plot(df_ideal.treshold, df_ideal.FPR, label = 'FPR')\n",
    "plt.legend()# we want to compare, hard to understand something from this graph\n",
    "plt.show()"
   ]
  },
  {
   "cell_type": "code",
   "execution_count": 69,
   "id": "68a4cdbb",
   "metadata": {},
   "outputs": [
    {
     "data": {
      "image/png": "[encoded data removed]",
      "text/plain": [
       "<Figure size 432x288 with 1 Axes>"
      ]
     },
     "metadata": {
      "needs_background": "light"
     },
     "output_type": "display_data"
    }
   ],
   "source": [
    "plt.plot(df_scores.treshold, df_scores.TPR, color = 'red', label = 'TPR')\n",
    "plt.plot(df_scores.treshold, df_scores.FPR, label = 'FPR')\n",
    "# plt.plot(df_rand.treshold, df_rand.TPR, color = 'black', label = 'TPR')\n",
    "# plt.plot(df_rand.treshold, df_rand.FPR, label = 'FPR')\n",
    "plt.plot(df_ideal.treshold, df_ideal.TPR, color = 'blue', label = 'TPR')\n",
    "plt.plot(df_ideal.treshold, df_ideal.FPR, label = 'FPR')\n",
    "plt.legend()# we want to compare, hard to understand something from this graph\n",
    "plt.show()"
   ]
  },
  {
   "cell_type": "code",
   "execution_count": 70,
   "id": "e1e9a98a",
   "metadata": {},
   "outputs": [
    {
     "data": {
      "text/plain": [
       "<matplotlib.legend.Legend at 0x7fd188babbe0>"
      ]
     },
     "execution_count": 70,
     "metadata": {},
     "output_type": "execute_result"
    },
    {
     "data": {
      "image/png": "[encoded data removed]",
      "text/plain": [
       "<Figure size 432x432 with 1 Axes>"
      ]
     },
     "metadata": {
      "needs_background": "light"
     },
     "output_type": "display_data"
    }
   ],
   "source": [
    "plt.figure(figsize=(6,6))\n",
    "plt.plot(df_scores.FPR, df_scores.TPR, label = 'model')\n",
    "plt.plot(df_rand.FPR, df_rand.TPR, label = 'random')\n",
    "plt.plot(df_ideal.FPR, df_ideal.TPR, label = 'ideal')\n",
    "plt.xlabel('FPR')\n",
    "plt.ylabel('TPR')\n",
    "plt.legend()"
   ]
  },
  {
   "cell_type": "code",
   "execution_count": 71,
   "id": "9e744c49",
   "metadata": {},
   "outputs": [],
   "source": [
    "from sklearn.metrics import roc_curve"
   ]
  },
  {
   "cell_type": "code",
   "execution_count": 72,
   "id": "a64b4d40",
   "metadata": {},
   "outputs": [],
   "source": [
    "fpr, tpr, tresholds = roc_curve(y_val, y_pred)"
   ]
  },
  {
   "cell_type": "code",
   "execution_count": 73,
   "id": "773b5a84",
   "metadata": {},
   "outputs": [
    {
     "data": {
      "text/plain": [
       "[<matplotlib.lines.Line2D at 0x7fd1cb06fc40>]"
      ]
     },
     "execution_count": 73,
     "metadata": {},
     "output_type": "execute_result"
    },
    {
     "data": {
      "image/png": "[encoded data removed]",
      "text/plain": [
       "<Figure size 432x432 with 1 Axes>"
      ]
     },
     "metadata": {
      "needs_background": "light"
     },
     "output_type": "display_data"
    }
   ],
   "source": [
    "plt.figure(figsize=(6,6))\n",
    "plt.plot(fpr, tpr)\n",
    "plt.plot([0, 1], [0,1], linestyle ='--')"
   ]
  },
  {
   "cell_type": "markdown",
   "id": "5c000019",
   "metadata": {},
   "source": [
    "# ROC AUC\n",
    "- Area under ROC curve - usefull metric\n",
    "- Interpretetion of AUC"
   ]
  },
  {
   "cell_type": "code",
   "execution_count": 74,
   "id": "38676d9a",
   "metadata": {},
   "outputs": [],
   "source": [
    "from sklearn.metrics import auc # can compute area under any cruve"
   ]
  },
  {
   "cell_type": "code",
   "execution_count": 75,
   "id": "eabc22d0",
   "metadata": {},
   "outputs": [
    {
     "data": {
      "text/plain": [
       "0.8438403760148705"
      ]
     },
     "execution_count": 75,
     "metadata": {},
     "output_type": "execute_result"
    }
   ],
   "source": [
    "auc(fpr, tpr)"
   ]
  },
  {
   "cell_type": "code",
   "execution_count": 76,
   "id": "9733d96c",
   "metadata": {},
   "outputs": [
    {
     "data": {
      "text/plain": [
       "0.5060233793728696"
      ]
     },
     "execution_count": 76,
     "metadata": {},
     "output_type": "execute_result"
    }
   ],
   "source": [
    "auc(df_rand.FPR, df_rand.TPR)"
   ]
  },
  {
   "cell_type": "code",
   "execution_count": 77,
   "id": "ad876039",
   "metadata": {},
   "outputs": [
    {
     "data": {
      "text/plain": [
       "0.9999430203759136"
      ]
     },
     "execution_count": 77,
     "metadata": {},
     "output_type": "execute_result"
    }
   ],
   "source": [
    "auc(df_ideal.FPR, df_ideal.TPR)"
   ]
  },
  {
   "cell_type": "code",
   "execution_count": 78,
   "id": "24c34114",
   "metadata": {},
   "outputs": [],
   "source": [
    " from sklearn.metrics import roc_auc_score"
   ]
  },
  {
   "cell_type": "code",
   "execution_count": 79,
   "id": "cc1f4d43",
   "metadata": {},
   "outputs": [
    {
     "data": {
      "text/plain": [
       "0.8438403760148705"
      ]
     },
     "execution_count": 79,
     "metadata": {},
     "output_type": "execute_result"
    }
   ],
   "source": [
    "roc_auc_score(y_val, y_pred)"
   ]
  },
  {
   "cell_type": "code",
   "execution_count": 80,
   "id": "91ea576a",
   "metadata": {},
   "outputs": [],
   "source": [
    "# AUC = prop of randomly selected positive example has more score than prob of randomly selected neg example"
   ]
  },
  {
   "cell_type": "markdown",
   "id": "c2182302",
   "metadata": {},
   "source": [
    "# K-FOLD validation"
   ]
  },
  {
   "cell_type": "code",
   "execution_count": 119,
   "id": "28593c47",
   "metadata": {},
   "outputs": [],
   "source": [
    "def train(df_train, y_train, C = 1.0):\n",
    "    dicts = df_train[categorical + numerical].to_dict(orient = 'records')\n",
    "    \n",
    "    dv = DictVectorizer(sparse=False)\n",
    "    X_train = dv.fit_transform(dicts)\n",
    "    \n",
    "    model = LogisticRegression(C=C, max_iter=1000)\n",
    "    model.fit(X_train, y_train)\n",
    "    \n",
    "    return dv, model"
   ]
  },
  {
   "cell_type": "code",
   "execution_count": 120,
   "id": "f13f47a7",
   "metadata": {},
   "outputs": [],
   "source": [
    "dv, model = train(df_train,y_train)"
   ]
  },
  {
   "cell_type": "code",
   "execution_count": 121,
   "id": "542e7fae",
   "metadata": {},
   "outputs": [],
   "source": [
    "def predict(df, dv, model):\n",
    "    dicts = df[categorical + numerical].to_dict(orient = 'records')\n",
    "    \n",
    "    X = dv.transform(dicts)\n",
    "    \n",
    "    y_pred = model.predict_proba(X)[:, 1]\n",
    "    \n",
    "    return y_pred"
   ]
  },
  {
   "cell_type": "code",
   "execution_count": 122,
   "id": "7dc5d457",
   "metadata": {},
   "outputs": [],
   "source": [
    "y_pred = predict(df_val, dv, model)"
   ]
  },
  {
   "cell_type": "code",
   "execution_count": 123,
   "id": "9ff8052e",
   "metadata": {},
   "outputs": [],
   "source": [
    "from sklearn.model_selection import KFold"
   ]
  },
  {
   "cell_type": "code",
   "execution_count": 124,
   "id": "6d4f91f2",
   "metadata": {},
   "outputs": [],
   "source": [
    "kfold = KFold(n_splits=10, shuffle=True, random_state=1)"
   ]
  },
  {
   "cell_type": "code",
   "execution_count": 125,
   "id": "45357c32",
   "metadata": {},
   "outputs": [],
   "source": [
    "train_idx, val_idx = next(kfold.split(df_full_train))"
   ]
  },
  {
   "cell_type": "code",
   "execution_count": 126,
   "id": "cba297c7",
   "metadata": {},
   "outputs": [
    {
     "data": {
      "text/plain": [
       "(5070, 564)"
      ]
     },
     "execution_count": 126,
     "metadata": {},
     "output_type": "execute_result"
    }
   ],
   "source": [
    "len(train_idx), len(val_idx)"
   ]
  },
  {
   "cell_type": "code",
   "execution_count": 127,
   "id": "0e63a616",
   "metadata": {
    "scrolled": true
   },
   "outputs": [],
   "source": [
    "#!pip install tqdm"
   ]
  },
  {
   "cell_type": "code",
   "execution_count": 128,
   "id": "1d21d325",
   "metadata": {},
   "outputs": [],
   "source": [
    "from tqdm.auto imporat tqdm"
   ]
  },
  {
   "cell_type": "code",
   "execution_count": 148,
   "id": "20121fca",
   "metadata": {},
   "outputs": [
    {
     "data": {
      "application/vnd.jupyter.widget-view+json": {
       "model_id": "acf23d99086a49bdb7c89624aa1224fd",
       "version_major": 2,
       "version_minor": 0
      },
      "text/plain": [
       "  0%|          | 0/8 [00:00<?, ?it/s]"
      ]
     },
     "metadata": {},
     "output_type": "display_data"
    },
    {
     "name": "stdout",
     "output_type": "stream",
     "text": [
      "C = 0.0001 0.811 +- 0.036\n",
      "C = 0.001 0.826 +- 0.037\n",
      "C = 0.01 0.841 +- 0.037\n",
      "C = 0.1 0.841 +- 0.036\n",
      "C = 0.5 0.841 +- 0.033\n",
      "C = 1 0.840 +- 0.038\n",
      "C = 5 0.841 +- 0.036\n",
      "C = 10 0.841 +- 0.036\n"
     ]
    }
   ],
   "source": [
    "n_splits = 10\n",
    "for c in tqdm([0.0001, 0.001, 0.01, 0.1, 0.5, 1, 5, 10]):    \n",
    "    scores = []\n",
    "    kfold = KFold(n_splits=n_splits, shuffle=True, random_state=1)\n",
    "    for train_idx, val_idx in \\\n",
    "    kfold.split(df_full_train):\n",
    "        df_train = df_full_train.iloc[train_idx]\n",
    "        df_val = df_full_train.iloc[val_idx]\n",
    "\n",
    "        y_train = df_train.churn.values\n",
    "        y_val = df_val.churn.values\n",
    "\n",
    "        dv, model = train(df_train, y_train, c)\n",
    "        y_pred = predict(df_val, dv, model)\n",
    "\n",
    "        scores.append(roc_auc_score(y_val, y_pred))\n",
    "    print('C = %s %.3f +- %.3f' % (c, np.mean(scores), 3 * np.std(scores)))"
   ]
  },
  {
   "cell_type": "code",
   "execution_count": 145,
   "id": "3517fae0",
   "metadata": {},
   "outputs": [],
   "source": [
    "# we want train or final model and evaluate on final df_test"
   ]
  },
  {
   "cell_type": "code",
   "execution_count": 146,
   "id": "0b2825c2",
   "metadata": {},
   "outputs": [
    {
     "data": {
      "text/plain": [
       "0.8572386167896259"
      ]
     },
     "execution_count": 146,
     "metadata": {},
     "output_type": "execute_result"
    }
   ],
   "source": [
    "dv, model = train(df_full_train, df_full_train.churn.values, C=1.0)\n",
    "\n",
    "y_pred = predict(df_test, dv, model)\n",
    "\n",
    "auc = roc_auc_score(y_test, y_pred)\n",
    "\n",
    "auc"
   ]
  },
  {
   "cell_type": "code",
   "execution_count": null,
   "id": "98d6bcce",
   "metadata": {},
   "outputs": [],
   "source": []
  }
 ],
 "metadata": {
  "kernelspec": {
   "display_name": "Python 3",
   "language": "python",
   "name": "python3"
  },
  "language_info": {
   "codemirror_mode": {
    "name": "ipython",
    "version": 3
   },
   "file_extension": ".py",
   "mimetype": "text/x-python",
   "name": "python",
   "nbconvert_exporter": "python",
   "pygments_lexer": "ipython3",
   "version": "3.8.8"
  }
 },
 "nbformat": 4,
 "nbformat_minor": 5
}
